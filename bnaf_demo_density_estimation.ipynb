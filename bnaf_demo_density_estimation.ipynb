{
  "nbformat": 4,
  "nbformat_minor": 0,
  "metadata": {
    "colab": {
      "provenance": [],
      "gpuType": "T4"
    },
    "kernelspec": {
      "name": "python3",
      "display_name": "Python 3"
    },
    "language_info": {
      "name": "python"
    },
    "accelerator": "GPU",
    "gpuClass": "standard"
  },
  "cells": [
    {
      "cell_type": "markdown",
      "source": [
        "#Implementation of Block Neural Autoregressive Flow\n",
        "http://arxiv.org/abs/1904.04676\n",
        "\n",
        "Implementation adapted from:\n",
        "https://github.com/nicola-decao/BNAF\n",
        "and\n",
        "https://github.com/kamenbliznashki/normalizing_flows\n"
      ],
      "metadata": {
        "id": "miGtXYRXEpGP"
      }
    },
    {
      "cell_type": "code",
      "source": [
        "import torch\n",
        "import torch.nn as nn\n",
        "import torch.nn.functional as F\n",
        "import torch.distributions as D\n",
        "from torch.utils.data import DataLoader, TensorDataset\n",
        "\n",
        "import math\n",
        "import os\n",
        "import time\n",
        "import argparse\n",
        "import pprint\n",
        "from functools import partial\n",
        "\n",
        "import matplotlib\n",
        "# matplotlib.use('Agg')\n",
        "import matplotlib.pyplot as plt\n",
        "from tqdm import tqdm"
      ],
      "metadata": {
        "id": "Ya7mX3kbEmJd"
      },
      "execution_count": 1,
      "outputs": []
    },
    {
      "cell_type": "markdown",
      "source": [
        "## Data"
      ],
      "metadata": {
        "id": "2xDJiMNPFC_C"
      }
    },
    {
      "cell_type": "markdown",
      "source": [
        "### Energy potential functions for density matching"
      ],
      "metadata": {
        "id": "Va86NtAqFH3C"
      }
    },
    {
      "cell_type": "code",
      "source": [
        "def potential_fn(dataset):\n",
        "    # NF paper table 1 energy functions\n",
        "    w1 = lambda z: torch.sin(2 * math.pi * z[:,0] / 4)\n",
        "    w2 = lambda z: 3 * torch.exp(-0.5 * ((z[:,0] - 1)/0.6)**2)\n",
        "    w3 = lambda z: 3 * torch.sigmoid((z[:,0] - 1) / 0.3)\n",
        "\n",
        "    if dataset == 'u1':\n",
        "        return lambda z: 0.5 * ((torch.norm(z, p=2, dim=1) - 2) / 0.4)**2 - \\\n",
        "                                torch.log(torch.exp(-0.5*((z[:,0] - 2) / 0.6)**2) + \\\n",
        "                                          torch.exp(-0.5*((z[:,0] + 2) / 0.6)**2) + 1e-10)\n",
        "\n",
        "    elif dataset == 'u2':\n",
        "        return lambda z: 0.5 * ((z[:,1] - w1(z)) / 0.4)**2\n",
        "\n",
        "    elif dataset == 'u3':\n",
        "        return lambda z: - torch.log(torch.exp(-0.5*((z[:,1] - w1(z))/0.35)**2) + \\\n",
        "                                     torch.exp(-0.5*((z[:,1] - w1(z) + w2(z))/0.35)**2) + 1e-10)\n",
        "\n",
        "    elif dataset == 'u4':\n",
        "        return lambda z: - torch.log(torch.exp(-0.5*((z[:,1] - w1(z))/0.4)**2) + \\\n",
        "                                     torch.exp(-0.5*((z[:,1] - w1(z) + w3(z))/0.35)**2) + 1e-10)\n",
        "\n",
        "    else:\n",
        "        raise RuntimeError('Invalid potential name to sample from.')"
      ],
      "metadata": {
        "id": "hG5ClLHQFN1Z"
      },
      "execution_count": 2,
      "outputs": []
    },
    {
      "cell_type": "markdown",
      "source": [
        "### Sampling distributions for density estimation"
      ],
      "metadata": {
        "id": "_sXAa1hdFOzd"
      }
    },
    {
      "cell_type": "code",
      "source": [
        "def sample_2d_data(dataset, n_samples):\n",
        "\n",
        "    z = torch.randn(n_samples, 2)\n",
        "\n",
        "    if dataset == '8gaussians':\n",
        "        scale = 4\n",
        "        sq2 = 1/math.sqrt(2)\n",
        "        centers = [(1,0), (-1,0), (0,1), (0,-1), (sq2,sq2), (-sq2,sq2), (sq2,-sq2), (-sq2,-sq2)]\n",
        "        centers = torch.tensor([(scale * x, scale * y) for x,y in centers])\n",
        "        return sq2 * (0.5 * z + centers[torch.randint(len(centers), size=(n_samples,))])\n",
        "\n",
        "    elif dataset == '2spirals':\n",
        "        n = torch.sqrt(torch.rand(n_samples // 2)) * 540 * (2 * math.pi) / 360\n",
        "        d1x = - torch.cos(n) * n + torch.rand(n_samples // 2) * 0.5\n",
        "        d1y =   torch.sin(n) * n + torch.rand(n_samples // 2) * 0.5\n",
        "        x = torch.cat([torch.stack([ d1x,  d1y], dim=1),\n",
        "                       torch.stack([-d1x, -d1y], dim=1)], dim=0) / 3\n",
        "        return x + 0.1*z\n",
        "\n",
        "    elif dataset == 'checkerboard':\n",
        "        x1 = torch.rand(n_samples) * 4 - 2\n",
        "        x2_ = torch.rand(n_samples) - torch.randint(0, 2, (n_samples,), dtype=torch.float) * 2\n",
        "        x2 = x2_ + x1.floor() % 2\n",
        "        return torch.stack([x1, x2], dim=1) * 2\n",
        "\n",
        "    elif dataset == 'rings':\n",
        "        n_samples4 = n_samples3 = n_samples2 = n_samples // 4\n",
        "        n_samples1 = n_samples - n_samples4 - n_samples3 - n_samples2\n",
        "\n",
        "        # so as not to have the first point = last point, set endpoint=False in np; here shifted by one\n",
        "        linspace4 = torch.linspace(0, 2 * math.pi, n_samples4 + 1)[:-1]\n",
        "        linspace3 = torch.linspace(0, 2 * math.pi, n_samples3 + 1)[:-1]\n",
        "        linspace2 = torch.linspace(0, 2 * math.pi, n_samples2 + 1)[:-1]\n",
        "        linspace1 = torch.linspace(0, 2 * math.pi, n_samples1 + 1)[:-1]\n",
        "\n",
        "        circ4_x = torch.cos(linspace4)\n",
        "        circ4_y = torch.sin(linspace4)\n",
        "        circ3_x = torch.cos(linspace4) * 0.75\n",
        "        circ3_y = torch.sin(linspace3) * 0.75\n",
        "        circ2_x = torch.cos(linspace2) * 0.5\n",
        "        circ2_y = torch.sin(linspace2) * 0.5\n",
        "        circ1_x = torch.cos(linspace1) * 0.25\n",
        "        circ1_y = torch.sin(linspace1) * 0.25\n",
        "\n",
        "        x = torch.stack([torch.cat([circ4_x, circ3_x, circ2_x, circ1_x]),\n",
        "                         torch.cat([circ4_y, circ3_y, circ2_y, circ1_y])], dim=1) * 3.0\n",
        "\n",
        "        # random sample\n",
        "        x = x[torch.randint(0, n_samples, size=(n_samples,))]\n",
        "\n",
        "        # Add noise\n",
        "        return x + torch.normal(mean=torch.zeros_like(x), std=0.08*torch.ones_like(x))\n",
        "\n",
        "    else:\n",
        "        raise RuntimeError('Invalid `dataset` to sample from.')"
      ],
      "metadata": {
        "id": "ynk6PFOSEmOD"
      },
      "execution_count": 3,
      "outputs": []
    },
    {
      "cell_type": "markdown",
      "source": [
        "## Model components"
      ],
      "metadata": {
        "id": "Pz2-WaWCFZOA"
      }
    },
    {
      "cell_type": "code",
      "source": [
        "class MaskedLinear(nn.Module):\n",
        "    def __init__(self, in_features, out_features, data_dim):\n",
        "        super().__init__()\n",
        "        self.in_features = in_features\n",
        "        self.out_features = out_features\n",
        "        self.data_dim = data_dim\n",
        "\n",
        "        # Notation:\n",
        "        # BNAF weight calculation for (eq 8): W = g(W) * M_d + W * M_o\n",
        "        #   where W is block lower triangular so model is autoregressive,\n",
        "        #         g = exp function; M_d is block diagonal mask; M_o is block off-diagonal mask.\n",
        "        # Weight Normalization (Salimans & Kingma, eq 2): w = g * v / ||v||\n",
        "        #   where g is scalar, v is k-dim vector, ||v|| is Euclidean norm\n",
        "        # ------\n",
        "        # Here: pre-weight norm matrix is v; then: v = exp(weight) * mask_d + weight * mask_o\n",
        "        #       weight-norm scalar is g: out_features dimensional vector (here logg is used instead to avoid taking logs in the logdet calc.\n",
        "        #       then weight-normed weight matrix is w = g * v / ||v||\n",
        "        #\n",
        "        #       log det jacobian of block lower triangular is taking block diagonal mask of\n",
        "        #           log(g*v/||v||) = log(g) + log(v) - log(||v||)\n",
        "        #                          = log(g) + weight - log(||v||) since v = exp(weight) * mask_d + weight * mask_o\n",
        "\n",
        "        weight = torch.zeros(out_features, in_features)\n",
        "        mask_d = torch.zeros_like(weight)\n",
        "        mask_o = torch.zeros_like(weight)\n",
        "        for i in range(data_dim):\n",
        "            # select block slices\n",
        "            h     = slice(i * out_features // data_dim, (i+1) * out_features // data_dim)\n",
        "            w     = slice(i * in_features // data_dim,  (i+1) * in_features // data_dim)\n",
        "            w_row = slice(0,                            (i+1) * in_features // data_dim)\n",
        "            # initialize block-lower-triangular weight and construct block diagonal mask_d and lower triangular mask_o\n",
        "            nn.init.kaiming_uniform_(weight[h,w_row], a=math.sqrt(5))  # default nn.Linear weight init only block-wise\n",
        "            mask_d[h,w] = 1\n",
        "            mask_o[h,w_row] = 1\n",
        "\n",
        "        mask_o = mask_o - mask_d  # remove diagonal so mask_o is lower triangular 1-off the diagonal\n",
        "\n",
        "        self.weight = nn.Parameter(weight)                          # pre-mask, pre-weight-norm\n",
        "        self.logg = nn.Parameter(torch.rand(out_features, 1).log()) # weight-norm parameter\n",
        "        self.bias = nn.Parameter(nn.init.uniform_(torch.rand(out_features), -1/math.sqrt(in_features), 1/math.sqrt(in_features)))  # default nn.Linear bias init\n",
        "        self.register_buffer('mask_d', mask_d)\n",
        "        self.register_buffer('mask_o', mask_o)\n",
        "\n",
        "    def forward(self, x, sum_logdets):\n",
        "        # 1. compute BNAF masked weight eq 8\n",
        "        v = self.weight.exp() * self.mask_d + self.weight * self.mask_o\n",
        "        # 2. weight normalization\n",
        "        v_norm = v.norm(p=2, dim=1, keepdim=True)\n",
        "        w = self.logg.exp() * v / v_norm\n",
        "        # 3. compute output and logdet of the layer\n",
        "        out = F.linear(x, w, self.bias)\n",
        "        logdet = self.logg + self.weight - 0.5 * v_norm.pow(2).log()\n",
        "        logdet = logdet[self.mask_d.byte()]\n",
        "        logdet = logdet.view(1, self.data_dim, out.shape[1]//self.data_dim, x.shape[1]//self.data_dim) \\\n",
        "                       .expand(x.shape[0],-1,-1,-1)  # output (B, data_dim, out_dim // data_dim, in_dim // data_dim)\n",
        "\n",
        "        # 4. sum with sum_logdets from layers before (BNAF section 3.3)\n",
        "        # Compute log det jacobian of the flow (eq 9, 10, 11) using log-matrix multiplication of the different layers.\n",
        "        # Specifically for two successive MaskedLinear layers A -> B with logdets A and B of shapes\n",
        "        #  logdet A is (B, data_dim, outA_dim, inA_dim)\n",
        "        #  logdet B is (B, data_dim, outB_dim, inB_dim) where outA_dim = inB_dim\n",
        "        #\n",
        "        #  Note -- in the first layer, inA_dim = in_features//data_dim = 1 since in_features == data_dim.\n",
        "        #            thus logdet A is (B, data_dim, outA_dim, 1)\n",
        "        #\n",
        "        #  Then:\n",
        "        #  logsumexp(A.transpose(2,3) + B) = logsumexp( (B, data_dim, 1, outA_dim) + (B, data_dim, outB_dim, inB_dim) , dim=-1)\n",
        "        #                                  = logsumexp( (B, data_dim, 1, outA_dim) + (B, data_dim, outB_dim, outA_dim), dim=-1)\n",
        "        #                                  = logsumexp( (B, data_dim, outB_dim, outA_dim), dim=-1) where dim2 of tensor1 is broadcasted\n",
        "        #                                  = (B, data_dim, outB_dim, 1)\n",
        "\n",
        "        sum_logdets = torch.logsumexp(sum_logdets.transpose(2,3) + logdet, dim=-1, keepdim=True)\n",
        "\n",
        "        return out, sum_logdets\n",
        "\n",
        "\n",
        "    def extra_repr(self):\n",
        "        return 'in_features={}, out_features={}, bias={}'.format(\n",
        "            self.in_features, self.out_features, self.bias is not None\n",
        "        )\n",
        "\n",
        "class Tanh(nn.Module):\n",
        "    def __init__(self):\n",
        "        super().__init__()\n",
        "\n",
        "    def forward(self, x, sum_logdets):\n",
        "        # derivation of logdet:\n",
        "        # d/dx tanh = 1 / cosh^2; cosh = (1 + exp(-2x)) / (2*exp(-x))\n",
        "        # log d/dx tanh = - 2 * log cosh = -2 * (x - log 2 + log(1 + exp(-2x)))\n",
        "        logdet = -2 * (x - math.log(2) + F.softplus(-2*x))\n",
        "        sum_logdets = sum_logdets + logdet.view_as(sum_logdets)\n",
        "        return x.tanh(), sum_logdets\n",
        "\n",
        "class FlowSequential(nn.Sequential):\n",
        "    \"\"\" Container for layers of a normalizing flow \"\"\"\n",
        "    def forward(self, x):\n",
        "        sum_logdets = torch.zeros(1, x.shape[1], 1, 1, device=x.device)\n",
        "        for module in self:\n",
        "            x, sum_logdets = module(x, sum_logdets)\n",
        "        return x, sum_logdets.squeeze()\n"
      ],
      "metadata": {
        "id": "5-BQKJB-EmQp"
      },
      "execution_count": 4,
      "outputs": []
    },
    {
      "cell_type": "markdown",
      "source": [
        "## Model"
      ],
      "metadata": {
        "id": "aFAEHtiYFnVO"
      }
    },
    {
      "cell_type": "code",
      "source": [
        "class BNAF(nn.Module):\n",
        "    def __init__(self, data_dim, n_hidden, hidden_dim):\n",
        "        super().__init__()\n",
        "\n",
        "        # base distribution for calculation of log prob under the model\n",
        "        self.register_buffer('base_dist_mean', torch.zeros(data_dim))\n",
        "        self.register_buffer('base_dist_var', torch.ones(data_dim))\n",
        "\n",
        "        # construct model\n",
        "        modules = []\n",
        "        modules += [MaskedLinear(data_dim, hidden_dim, data_dim), Tanh()]\n",
        "        for _ in range(n_hidden):\n",
        "            modules += [MaskedLinear(hidden_dim, hidden_dim, data_dim), Tanh()]\n",
        "        modules += [MaskedLinear(hidden_dim, data_dim, data_dim)]\n",
        "        self.net = FlowSequential(*modules)\n",
        "\n",
        "        # TODO --   add permutation\n",
        "        #           add residual gate\n",
        "        #           add stack of flows\n",
        "\n",
        "    @property\n",
        "    def base_dist(self):\n",
        "        return D.Normal(self.base_dist_mean, self.base_dist_var)\n",
        "\n",
        "    def forward(self, x):\n",
        "        return self.net(x)\n",
        "\n",
        "def compute_kl_qp_loss(model, target_potential_fn, batch_size):\n",
        "    \"\"\" Compute BNAF eq 3 & 20:\n",
        "    KL(q_inv||p) where q_inv is the inverse flow transform (log_q_inv = log_q_base - logdet), p is the target distribution (energy potential)\n",
        "    Returns the minimization objective for density matching. \"\"\"\n",
        "    z = model.base_dist.sample((batch_size,))\n",
        "    q_log_prob = model.base_dist.log_prob(z)\n",
        "    zk, logdet = model(z)\n",
        "    p_log_prob = - target_potential_fn(zk)  # p = exp(-potential) => log_p = - potential\n",
        "    return q_log_prob.sum(1) - logdet.sum(1) - p_log_prob  # BNAF eq 20\n",
        "\n",
        "def compute_kl_pq_loss(model, sample_2d_data_fn, batch_size):\n",
        "    \"\"\" Compute BNAF eq 2 & 16:\n",
        "    KL(p||q_fwd) where q_fwd is the forward flow transform (log_q_fwd = log_q_base + logdet), p is the target distribution.\n",
        "    Returns the minimization objective for density estimation (NLL under the flow since the entropy of the target dist is fixed wrt the optimization) \"\"\"\n",
        "    sample = sample_2d_data_fn(batch_size).to(model.base_dist.loc.device)\n",
        "    z, logdet = model(sample)\n",
        "    return - torch.sum(model.base_dist.log_prob(z) + logdet, dim=1)\n"
      ],
      "metadata": {
        "id": "wzm4mNd3EmUP"
      },
      "execution_count": 5,
      "outputs": []
    },
    {
      "cell_type": "markdown",
      "source": [
        "## Training"
      ],
      "metadata": {
        "id": "mrBgbFfsFtMs"
      }
    },
    {
      "cell_type": "code",
      "source": [
        "def train_flow(model, potential_or_sampling_fn, loss_fn, optimizer, scheduler, args):\n",
        "    model.train()\n",
        "\n",
        "    with tqdm(total=args.n_steps, desc='Start step {}; Training for {} steps'.format(args.step, args.n_steps)) as pbar:\n",
        "        for _ in range(args.n_steps):\n",
        "            args.step += 1\n",
        "\n",
        "            loss = loss_fn(model, potential_or_sampling_fn, args.batch_size).mean(0)\n",
        "\n",
        "            optimizer.zero_grad()\n",
        "            loss.backward()\n",
        "            optimizer.step()\n",
        "            scheduler.step(loss)\n",
        "\n",
        "            pbar.set_postfix(loss = '{:.3f}'.format(loss.item()))\n",
        "            pbar.update()\n",
        "\n",
        "            if args.step % args.log_interval == 0:\n",
        "                # save model\n",
        "                torch.save({'step': args.step,\n",
        "                            'state_dict': model.state_dict()},\n",
        "                           os.path.join(args.output_dir, 'checkpoint.pt'))\n",
        "                torch.save({'optimizer': optimizer.state_dict(),\n",
        "                            'scheduler': scheduler.state_dict()},\n",
        "                           os.path.join(args.output_dir, 'optim_checkpoint.pt'))\n",
        "\n",
        "                # plot and save results\n",
        "                plot(model, potential_or_sampling_fn, args)\n"
      ],
      "metadata": {
        "id": "cA1cPGeuFvAs"
      },
      "execution_count": 6,
      "outputs": []
    },
    {
      "cell_type": "markdown",
      "source": [
        "## Plotting"
      ],
      "metadata": {
        "id": "WhEgPslJFwBz"
      }
    },
    {
      "cell_type": "code",
      "execution_count": 7,
      "metadata": {
        "id": "x79D_2Z28XjA"
      },
      "outputs": [],
      "source": [
        "@torch.no_grad()\n",
        "def plot(model, potential_or_sampling_fn, args, show=False):\n",
        "    n_pts = 1000\n",
        "    range_lim = 4\n",
        "\n",
        "    # construct test points\n",
        "    test_grid = setup_grid(range_lim, n_pts, args)\n",
        "\n",
        "    # plot\n",
        "    if args.samples:\n",
        "        fig, axs = plt.subplots(1, 2, figsize=(8,4), subplot_kw={'aspect': 'equal'})\n",
        "        plot_samples(potential_or_sampling_fn, axs[0], range_lim, n_pts)\n",
        "        plot_fwd_flow_density(model, axs[1], test_grid, n_pts, args.batch_size)\n",
        "    else:\n",
        "        fig, axs = plt.subplots(1, 3, figsize=(12,4.3), subplot_kw={'aspect': 'equal'})\n",
        "        plot_potential(potential_or_sampling_fn, axs[0], test_grid, n_pts)\n",
        "        plot_inv_flow_density(model, axs[1], test_grid, n_pts, args.batch_size)\n",
        "        plot_flow_samples(model, axs[2], n_pts, args.batch_size)\n",
        "\n",
        "    # format\n",
        "    for ax in plt.gcf().axes: format_ax(ax, range_lim)\n",
        "    plt.tight_layout()\n",
        "\n",
        "    if show:\n",
        "        plt.show()\n",
        "    \n",
        "    else:\n",
        "        # save\n",
        "        plt.savefig(os.path.join(args.output_dir, 'vis_step_{}.png'.format(args.step)))\n",
        "        plt.close()\n",
        "\n",
        "def setup_grid(range_lim, n_pts, args):\n",
        "    x = torch.linspace(-range_lim, range_lim, n_pts)\n",
        "    xx, yy = torch.meshgrid((x, x))\n",
        "    zz = torch.stack((xx.flatten(), yy.flatten()), dim=1)\n",
        "    return xx, yy, zz.to(args.device)\n",
        "\n",
        "def format_ax(ax, range_lim):\n",
        "    ax.set_xlim(-range_lim, range_lim)\n",
        "    ax.set_ylim(-range_lim, range_lim)\n",
        "    ax.get_xaxis().set_visible(False)\n",
        "    ax.get_yaxis().set_visible(False)\n",
        "    ax.invert_yaxis()\n",
        "\n",
        "def plot_potential(potential_fn, ax, test_grid, n_pts):\n",
        "    xx, yy, zz = test_grid\n",
        "    ax.pcolormesh(xx, yy, torch.exp(-potential_fn(zz)).view(n_pts,n_pts).cpu().data, cmap=plt.cm.jet)\n",
        "    ax.set_title('Target density')\n",
        "\n",
        "def plot_samples(samples_fn, ax, range_lim, n_pts):\n",
        "    samples = samples_fn(n_pts**2).numpy()\n",
        "    ax.hist2d(samples[:,0], samples[:,1], range=[[-range_lim, range_lim], [-range_lim, range_lim]], bins=n_pts, cmap=plt.cm.jet)\n",
        "    ax.set_title('Target samples')\n",
        "\n",
        "def plot_flow_samples(model, ax, n_pts, batch_size):\n",
        "    z = model.base_dist.sample((n_pts**2,))\n",
        "    zk = torch.cat([model(z_)[0] for z_ in z.split(batch_size, dim=0)], 0)\n",
        "    zk = zk.cpu().numpy()\n",
        "    # plot\n",
        "    ax.hist2d(zk[:,0], zk[:,1], bins=n_pts, cmap=plt.cm.jet)\n",
        "    ax.set_facecolor(plt.cm.jet(0.))\n",
        "    ax.set_title('Flow samples')\n",
        "\n",
        "def plot_fwd_flow_density(model, ax, test_grid, n_pts, batch_size):\n",
        "    \"\"\" plots square grid and flow density; where density under the flow is exp(log_flow_base_dist + logdet) \"\"\"\n",
        "    xx, yy, zz = test_grid\n",
        "    # compute posterior approx density\n",
        "    zzk, logdets = [], []\n",
        "    for zz_i in zz.split(batch_size, dim=0):\n",
        "        zzk_i, logdets_i = model(zz_i)\n",
        "        zzk += [zzk_i]\n",
        "        logdets += [logdets_i]\n",
        "    zzk, logdets = torch.cat(zzk, 0), torch.cat(logdets, 0)\n",
        "    log_prob = model.base_dist.log_prob(zzk) + logdets\n",
        "    prob = log_prob.sum(1).exp().cpu()\n",
        "    # plot\n",
        "    ax.pcolormesh(xx, yy, prob.view(n_pts,n_pts), cmap=plt.cm.jet)\n",
        "    ax.set_facecolor(plt.cm.jet(0.))\n",
        "    ax.set_title('Flow density')\n",
        "\n",
        "def plot_inv_flow_density(model, ax, test_grid, n_pts, batch_size):\n",
        "    \"\"\" plots transformed grid and density; where density is exp(loq_flow_base_dist - logdet) \"\"\"\n",
        "    xx, yy, zz = test_grid\n",
        "    # compute posterior approx density\n",
        "    zzk, logdets = [], []\n",
        "    for zz_i in zz.split(batch_size, dim=0):\n",
        "        zzk_i, logdets_i = model(zz_i)\n",
        "        zzk += [zzk_i]\n",
        "        logdets += [logdets_i]\n",
        "    zzk, logdets = torch.cat(zzk, 0), torch.cat(logdets, 0)\n",
        "    log_q0 = model.base_dist.log_prob(zz)\n",
        "    log_qk = log_q0 - logdets\n",
        "    qk = log_qk.sum(1).exp().cpu()\n",
        "    zzk = zzk.cpu()\n",
        "    # plot\n",
        "    ax.pcolormesh(zzk[:,0].view(n_pts,n_pts), zzk[:,1].view(n_pts,n_pts), qk.view(n_pts,n_pts), cmap=plt.cm.jet)\n",
        "    ax.set_facecolor(plt.cm.jet(0.))\n",
        "    ax.set_title('Flow density')\n"
      ]
    },
    {
      "cell_type": "markdown",
      "source": [
        "## Execute"
      ],
      "metadata": {
        "id": "NwkRR8xdF18w"
      }
    },
    {
      "cell_type": "code",
      "source": [
        "!mkdir -p results\n",
        "!ls "
      ],
      "metadata": {
        "colab": {
          "base_uri": "https://localhost:8080/"
        },
        "id": "5mOKBL1sOXk5",
        "outputId": "64a6ad7d-f00e-45ee-b9c7-e94997ad9129"
      },
      "execution_count": 8,
      "outputs": [
        {
          "output_type": "stream",
          "name": "stdout",
          "text": [
            "results  sample_data\n"
          ]
        }
      ]
    },
    {
      "cell_type": "code",
      "source": [
        "!stat ./results"
      ],
      "metadata": {
        "colab": {
          "base_uri": "https://localhost:8080/"
        },
        "id": "L8PC-S7zOyVC",
        "outputId": "a97bbd6e-35d2-4117-ab5f-f29b71c05fd6"
      },
      "execution_count": 9,
      "outputs": [
        {
          "output_type": "stream",
          "name": "stdout",
          "text": [
            "  File: ./results\n",
            "  Size: 4096      \tBlocks: 8          IO Block: 4096   directory\n",
            "Device: 34h/52d\tInode: 2752539     Links: 2\n",
            "Access: (0755/drwxr-xr-x)  Uid: (    0/    root)   Gid: (    0/    root)\n",
            "Access: 2023-04-18 08:01:59.317195560 +0000\n",
            "Modify: 2023-04-18 08:01:59.317195560 +0000\n",
            "Change: 2023-04-18 08:01:59.317195560 +0000\n",
            " Birth: -\n"
          ]
        }
      ]
    },
    {
      "cell_type": "code",
      "source": [
        "parser = argparse.ArgumentParser()\n",
        "# action\n",
        "parser.add_argument('--train', action='store_true', help='Train a flow.')\n",
        "parser.add_argument('--plot', action='store_true', help='Plot a flow and target density.')\n",
        "parser.add_argument('--restore_file', type=str, help='Path to model to restore.')\n",
        "parser.add_argument('--output_dir', default='./results') #.format(os.path.splitext(__file__)[0]))\n",
        "parser.add_argument('--cuda', type=int, help='Which GPU to run on.')\n",
        "parser.add_argument('--seed', type=int, default=0, help='Random seed.')\n",
        "# target density\n",
        "parser.add_argument('--dataset', type=str, help='Which potential function to approximate.')\n",
        "# model parameters\n",
        "parser.add_argument('--data_dim', type=int, default=2, help='Dimension of the data.')\n",
        "parser.add_argument('--hidden_dim', type=int, default=100, help='Dimensions of hidden layers.')\n",
        "parser.add_argument('--n_hidden', type=int, default=3, help='Number of hidden layers.')\n",
        "# training parameters\n",
        "parser.add_argument('--step', type=int, default=0, help='Current step of training (number of minibatches processed).')\n",
        "parser.add_argument('--n_steps', type=int, default=1, help='Number of steps to train.')\n",
        "parser.add_argument('--batch_size', type=int, default=200, help='Training batch size.')\n",
        "parser.add_argument('--lr', type=float, default=1e-1, help='Initial learning rate.')\n",
        "parser.add_argument('--lr_decay', type=float, default=0.5, help='Learning rate decay.')\n",
        "parser.add_argument('--lr_patience', type=float, default=2000, help='Number of steps before decaying learning rate.')\n",
        "parser.add_argument('--log_interval', type=int, default=50, help='How often to save model and samples.')"
      ],
      "metadata": {
        "colab": {
          "base_uri": "https://localhost:8080/"
        },
        "id": "WFw9RWQ1GDN0",
        "outputId": "40436d59-d8cb-493c-b03f-852c6da2aa01"
      },
      "execution_count": 10,
      "outputs": [
        {
          "output_type": "execute_result",
          "data": {
            "text/plain": [
              "_StoreAction(option_strings=['--log_interval'], dest='log_interval', nargs=None, const=None, default=50, type=<class 'int'>, choices=None, required=False, help='How often to save model and samples.', metavar=None)"
            ]
          },
          "metadata": {},
          "execution_count": 10
        }
      ]
    },
    {
      "cell_type": "code",
      "source": [
        "args = parser.parse_args(\"\")"
      ],
      "metadata": {
        "id": "QB1Vb0cZKsJc"
      },
      "execution_count": 11,
      "outputs": []
    },
    {
      "cell_type": "code",
      "source": [
        "args"
      ],
      "metadata": {
        "colab": {
          "base_uri": "https://localhost:8080/"
        },
        "id": "p0JOWrc8Ktnn",
        "outputId": "5a6d78ad-67f5-4315-b24c-5c25d2ee4f18"
      },
      "execution_count": 12,
      "outputs": [
        {
          "output_type": "execute_result",
          "data": {
            "text/plain": [
              "Namespace(train=False, plot=False, restore_file=None, output_dir='./results', cuda=None, seed=0, dataset=None, data_dim=2, hidden_dim=100, n_hidden=3, step=0, n_steps=1, batch_size=200, lr=0.1, lr_decay=0.5, lr_patience=2000, log_interval=50)"
            ]
          },
          "metadata": {},
          "execution_count": 12
        }
      ]
    },
    {
      "cell_type": "code",
      "source": [
        "args.train = True \n",
        "args.plot = True\n",
        "args.cuda = 0\n",
        "args.seed = 1\n",
        "args.n_steps = 20000\n",
        "args.dataset = \"checkerboard\" # choice from u1, u2, u3, u4, 8gaussians, checkerboard, 2spirals\n",
        "args.data_dim = 2 # default\n",
        "args.hidden_dim = 50 # hidden units per dimension for each hidden layer\n",
        "args.log_interval = 2000 # save model and samples ever _ epochs"
      ],
      "metadata": {
        "id": "0fQdWeDwLFUv"
      },
      "execution_count": 13,
      "outputs": []
    },
    {
      "cell_type": "code",
      "source": [
        "# args.output_dir = os.path.dirname(args.restore_file) if args.restore_file else os.path.join(args.output_dir, time.strftime('%Y-%m-%d_%H-%M-%S', time.gmtime()))\n",
        "# if not os.path.isdir(args.output_dir): os.makedirs(args.output_dir)\n",
        "\n",
        "args.device = torch.device('cuda:{}'.format(args.cuda) if args.cuda is not None and torch.cuda.is_available() else 'cpu')\n",
        "\n",
        "torch.manual_seed(args.seed)\n",
        "if args.device.type == 'cuda': torch.cuda.manual_seed(args.seed)\n",
        "\n",
        "model = BNAF(args.data_dim, args.n_hidden, args.hidden_dim).to(args.device)\n",
        "\n",
        "if args.restore_file:\n",
        "    model_checkpoint = torch.load(args.restore_file, map_location=args.device)\n",
        "    model.load_state_dict(model_checkpoint['state_dict'])\n",
        "    args.step = model_checkpoint['step']\n",
        "\n",
        "# # save settings\n",
        "# config = 'Parsed args:\\n{}\\n\\n'.format(pprint.pformat(args.__dict__)) + \\\n",
        "#           'Num trainable params: {:,.0f}\\n\\n'.format(sum(p.numel() for p in model.parameters())) + \\\n",
        "#           'Model:\\n{}'.format(model)\n",
        "# config_path = os.path.join(args.output_dir, 'config.txt')\n",
        "# if not os.path.exists(config_path):\n",
        "#     with open(config_path, 'a') as f:\n",
        "#         print(config, file=f)\n",
        "\n",
        "# setup data -- density to estimate/match\n",
        "args.samples = not (args.dataset.startswith('u') and len(args.dataset) == 2)\n",
        "if args.samples:\n",
        "    # target is density to estimate\n",
        "    potential_or_sampling_fn = partial(sample_2d_data, args.dataset)\n",
        "    loss_fn = compute_kl_pq_loss\n",
        "else:\n",
        "    # target is energy potential to match\n",
        "    potential_or_sampling_fn = potential_fn(args.dataset)\n",
        "    loss_fn = compute_kl_qp_loss\n",
        "\n",
        "if args.train:\n",
        "    optimizer = torch.optim.Adam(model.parameters(), lr=args.lr)\n",
        "    scheduler = torch.optim.lr_scheduler.ReduceLROnPlateau(optimizer, factor=args.lr_decay, patience=args.lr_patience, verbose=True)\n",
        "    if args.restore_file:\n",
        "        optim_checkpoint = torch.load(os.path.dirname(args.restore_file) + '/optim_checkpoint.pt', map_location=args.device)\n",
        "        optimizer.load_state_dict(optim_checkpoint['optimizer'])\n",
        "        scheduler.load_state_dict(optim_checkpoint['scheduler'])\n",
        "\n",
        "    train_flow(model, potential_or_sampling_fn, loss_fn, optimizer, scheduler, args)\n",
        "\n",
        "# if args.plot:\n",
        "#     plot(model, potential_or_sampling_fn, args)"
      ],
      "metadata": {
        "colab": {
          "base_uri": "https://localhost:8080/"
        },
        "id": "FT5Eto3iF3Bb",
        "outputId": "f6c3f2f9-8ee2-489a-e512-85b39907c817"
      },
      "execution_count": 14,
      "outputs": [
        {
          "output_type": "stream",
          "name": "stderr",
          "text": [
            "Start step 0; Training for 20000 steps:   0%|          | 0/20000 [00:00<?, ?it/s]<ipython-input-4-0f2dbde98f6d>:53: UserWarning: indexing with dtype torch.uint8 is now deprecated, please use a dtype torch.bool instead. (Triggered internally at ../aten/src/ATen/native/IndexingUtils.h:27.)\n",
            "  logdet = logdet[self.mask_d.byte()]\n",
            "/usr/local/lib/python3.9/dist-packages/torch/autograd/__init__.py:200: UserWarning: indexing with dtype torch.uint8 is now deprecated, please use a dtype torch.bool instead. (Triggered internally at ../aten/src/ATen/native/IndexingUtils.h:27.)\n",
            "  Variable._execution_engine.run_backward(  # Calls into the C++ engine to run the backward pass\n",
            "Start step 0; Training for 20000 steps:  10%|▉         | 1999/20000 [00:30<03:37, 82.84it/s, loss=3.809]/usr/local/lib/python3.9/dist-packages/torch/functional.py:504: UserWarning: torch.meshgrid: in an upcoming release, it will be required to pass the indexing argument. (Triggered internally at ../aten/src/ATen/native/TensorShape.cpp:3483.)\n",
            "  return _VF.meshgrid(tensors, **kwargs)  # type: ignore[attr-defined]\n",
            "Start step 0; Training for 20000 steps:  37%|███▋      | 7476/20000 [02:29<02:31, 82.47it/s, loss=3.657]"
          ]
        },
        {
          "output_type": "stream",
          "name": "stdout",
          "text": [
            "Epoch 07461: reducing learning rate of group 0 to 5.0000e-02.\n"
          ]
        },
        {
          "output_type": "stream",
          "name": "stderr",
          "text": [
            "Start step 0; Training for 20000 steps:  50%|█████     | 10050/20000 [03:33<17:29,  9.48it/s, loss=3.587]"
          ]
        },
        {
          "output_type": "stream",
          "name": "stdout",
          "text": [
            "Epoch 10035: reducing learning rate of group 0 to 2.5000e-02.\n"
          ]
        },
        {
          "output_type": "stream",
          "name": "stderr",
          "text": [
            "Start step 0; Training for 20000 steps:  64%|██████▍   | 12817/20000 [04:24<01:49, 65.77it/s, loss=3.546]"
          ]
        },
        {
          "output_type": "stream",
          "name": "stdout",
          "text": [
            "Epoch 12806: reducing learning rate of group 0 to 1.2500e-02.\n"
          ]
        },
        {
          "output_type": "stream",
          "name": "stderr",
          "text": [
            "Start step 0; Training for 20000 steps:  74%|███████▍  | 14823/20000 [05:06<01:01, 84.02it/s, loss=3.488]"
          ]
        },
        {
          "output_type": "stream",
          "name": "stdout",
          "text": [
            "Epoch 14807: reducing learning rate of group 0 to 6.2500e-03.\n"
          ]
        },
        {
          "output_type": "stream",
          "name": "stderr",
          "text": [
            "Start step 0; Training for 20000 steps: 100%|██████████| 20000/20000 [06:59<00:00, 47.73it/s, loss=3.490]\n"
          ]
        }
      ]
    },
    {
      "cell_type": "code",
      "source": [
        "# %matplotlib inline\n",
        "# import matplotlib.image as mpimg\n",
        "# img = mpimg.imread('results/vis_step_{}.png'.format(args.n_steps))\n",
        "# imgplot = plt.imshow(img)\n",
        "# plt.axis('off')\n",
        "# # imgplot.axes.get_xaxis().set_visible(False)\n",
        "# # imgplot.axes.get_yaxis().set_visible(False)\n",
        "# plt.show()"
      ],
      "metadata": {
        "id": "z8h0x9WcVGNt"
      },
      "execution_count": 15,
      "outputs": []
    },
    {
      "cell_type": "code",
      "source": [
        "plot(model, potential_or_sampling_fn, args, show=True)"
      ],
      "metadata": {
        "colab": {
          "base_uri": "https://localhost:8080/",
          "height": 475
        },
        "id": "OFofyegCWS0Y",
        "outputId": "56d8a0ef-3980-44ed-b680-fe219b1f560c"
      },
      "execution_count": 16,
      "outputs": [
        {
          "output_type": "stream",
          "name": "stderr",
          "text": [
            "<ipython-input-4-0f2dbde98f6d>:53: UserWarning: indexing with dtype torch.uint8 is now deprecated, please use a dtype torch.bool instead. (Triggered internally at ../aten/src/ATen/native/IndexingUtils.h:27.)\n",
            "  logdet = logdet[self.mask_d.byte()]\n"
          ]
        },
        {
          "output_type": "display_data",
          "data": {
            "text/plain": [
              "<Figure size 800x400 with 2 Axes>"
            ],
            "image/png": "[encoded data removed]"
          },
          "metadata": {}
        }
      ]
    },
    {
      "cell_type": "code",
      "source": [],
      "metadata": {
        "id": "Hvn84EfUXWZx"
      },
      "execution_count": 16,
      "outputs": []
    }
  ]
}