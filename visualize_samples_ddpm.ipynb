{
  "nbformat": 4,
  "nbformat_minor": 0,
  "metadata": {
    "colab": {
      "provenance": [],
      "gpuType": "T4",
      "collapsed_sections": [
        "bLYKO4BeLO6r",
        "R74ZiQnRN8Rp"
      ]
    },
    "kernelspec": {
      "name": "python3",
      "display_name": "Python 3"
    },
    "language_info": {
      "name": "python"
    },
    "accelerator": "GPU",
    "gpuClass": "standard",
    "widgets": {
      "application/vnd.jupyter.widget-state+json": {
        "49872106064a48f1a6267306a12a28c8": {
          "model_module": "@jupyter-widgets/controls",
          "model_name": "HBoxModel",
          "model_module_version": "1.5.0",
          "state": {
            "_dom_classes": [],
            "_model_module": "@jupyter-widgets/controls",
            "_model_module_version": "1.5.0",
            "_model_name": "HBoxModel",
            "_view_count": null,
            "_view_module": "@jupyter-widgets/controls",
            "_view_module_version": "1.5.0",
            "_view_name": "HBoxView",
            "box_style": "",
            "children": [
              "IPY_MODEL_ea92da88b5a84367bd30f3b33379b21a",
              "IPY_MODEL_b20aac078ea44fc488e36150cd76ce02",
              "IPY_MODEL_e8428dfece004ee28f4b0ba84821d06b"
            ],
            "layout": "IPY_MODEL_39e078ca0e02473f88cac0abd9ce166b"
          }
        },
        "ea92da88b5a84367bd30f3b33379b21a": {
          "model_module": "@jupyter-widgets/controls",
          "model_name": "HTMLModel",
          "model_module_version": "1.5.0",
          "state": {
            "_dom_classes": [],
            "_model_module": "@jupyter-widgets/controls",
            "_model_module_version": "1.5.0",
            "_model_name": "HTMLModel",
            "_view_count": null,
            "_view_module": "@jupyter-widgets/controls",
            "_view_module_version": "1.5.0",
            "_view_name": "HTMLView",
            "description": "",
            "description_tooltip": null,
            "layout": "IPY_MODEL_5e3f5f973dc64f60b509040db60bbbd9",
            "placeholder": "​",
            "style": "IPY_MODEL_ba10d24553af40c5b5ce965b29692a10",
            "value": "Downloading (…)lve/main/config.json: 100%"
          }
        },
        "b20aac078ea44fc488e36150cd76ce02": {
          "model_module": "@jupyter-widgets/controls",
          "model_name": "FloatProgressModel",
          "model_module_version": "1.5.0",
          "state": {
            "_dom_classes": [],
            "_model_module": "@jupyter-widgets/controls",
            "_model_module_version": "1.5.0",
            "_model_name": "FloatProgressModel",
            "_view_count": null,
            "_view_module": "@jupyter-widgets/controls",
            "_view_module_version": "1.5.0",
            "_view_name": "ProgressView",
            "bar_style": "success",
            "description": "",
            "description_tooltip": null,
            "layout": "IPY_MODEL_82fed4e1ef934ef29eb1da8bbf096f8a",
            "max": 699,
            "min": 0,
            "orientation": "horizontal",
            "style": "IPY_MODEL_06ca32e106234f75878f725376ea9154",
            "value": 699
          }
        },
        "e8428dfece004ee28f4b0ba84821d06b": {
          "model_module": "@jupyter-widgets/controls",
          "model_name": "HTMLModel",
          "model_module_version": "1.5.0",
          "state": {
            "_dom_classes": [],
            "_model_module": "@jupyter-widgets/controls",
            "_model_module_version": "1.5.0",
            "_model_name": "HTMLModel",
            "_view_count": null,
            "_view_module": "@jupyter-widgets/controls",
            "_view_module_version": "1.5.0",
            "_view_name": "HTMLView",
            "description": "",
            "description_tooltip": null,
            "layout": "IPY_MODEL_fc77bff1893548d28d9b8fc7f4f263fb",
            "placeholder": "​",
            "style": "IPY_MODEL_7d87299839914ec9b196bcfb9d3f4b08",
            "value": " 699/699 [00:00&lt;00:00, 25.6kB/s]"
          }
        },
        "39e078ca0e02473f88cac0abd9ce166b": {
          "model_module": "@jupyter-widgets/base",
          "model_name": "LayoutModel",
          "model_module_version": "1.2.0",
          "state": {
            "_model_module": "@jupyter-widgets/base",
            "_model_module_version": "1.2.0",
            "_model_name": "LayoutModel",
            "_view_count": null,
            "_view_module": "@jupyter-widgets/base",
            "_view_module_version": "1.2.0",
            "_view_name": "LayoutView",
            "align_content": null,
            "align_items": null,
            "align_self": null,
            "border": null,
            "bottom": null,
            "display": null,
            "flex": null,
            "flex_flow": null,
            "grid_area": null,
            "grid_auto_columns": null,
            "grid_auto_flow": null,
            "grid_auto_rows": null,
            "grid_column": null,
            "grid_gap": null,
            "grid_row": null,
            "grid_template_areas": null,
            "grid_template_columns": null,
            "grid_template_rows": null,
            "height": null,
            "justify_content": null,
            "justify_items": null,
            "left": null,
            "margin": null,
            "max_height": null,
            "max_width": null,
            "min_height": null,
            "min_width": null,
            "object_fit": null,
            "object_position": null,
            "order": null,
            "overflow": null,
            "overflow_x": null,
            "overflow_y": null,
            "padding": null,
            "right": null,
            "top": null,
            "visibility": null,
            "width": null
          }
        },
        "5e3f5f973dc64f60b509040db60bbbd9": {
          "model_module": "@jupyter-widgets/base",
          "model_name": "LayoutModel",
          "model_module_version": "1.2.0",
          "state": {
            "_model_module": "@jupyter-widgets/base",
            "_model_module_version": "1.2.0",
            "_model_name": "LayoutModel",
            "_view_count": null,
            "_view_module": "@jupyter-widgets/base",
            "_view_module_version": "1.2.0",
            "_view_name": "LayoutView",
            "align_content": null,
            "align_items": null,
            "align_self": null,
            "border": null,
            "bottom": null,
            "display": null,
            "flex": null,
            "flex_flow": null,
            "grid_area": null,
            "grid_auto_columns": null,
            "grid_auto_flow": null,
            "grid_auto_rows": null,
            "grid_column": null,
            "grid_gap": null,
            "grid_row": null,
            "grid_template_areas": null,
            "grid_template_columns": null,
            "grid_template_rows": null,
            "height": null,
            "justify_content": null,
            "justify_items": null,
            "left": null,
            "margin": null,
            "max_height": null,
            "max_width": null,
            "min_height": null,
            "min_width": null,
            "object_fit": null,
            "object_position": null,
            "order": null,
            "overflow": null,
            "overflow_x": null,
            "overflow_y": null,
            "padding": null,
            "right": null,
            "top": null,
            "visibility": null,
            "width": null
          }
        },
        "ba10d24553af40c5b5ce965b29692a10": {
          "model_module": "@jupyter-widgets/controls",
          "model_name": "DescriptionStyleModel",
          "model_module_version": "1.5.0",
          "state": {
            "_model_module": "@jupyter-widgets/controls",
            "_model_module_version": "1.5.0",
            "_model_name": "DescriptionStyleModel",
            "_view_count": null,
            "_view_module": "@jupyter-widgets/base",
            "_view_module_version": "1.2.0",
            "_view_name": "StyleView",
            "description_width": ""
          }
        },
        "82fed4e1ef934ef29eb1da8bbf096f8a": {
          "model_module": "@jupyter-widgets/base",
          "model_name": "LayoutModel",
          "model_module_version": "1.2.0",
          "state": {
            "_model_module": "@jupyter-widgets/base",
            "_model_module_version": "1.2.0",
            "_model_name": "LayoutModel",
            "_view_count": null,
            "_view_module": "@jupyter-widgets/base",
            "_view_module_version": "1.2.0",
            "_view_name": "LayoutView",
            "align_content": null,
            "align_items": null,
            "align_self": null,
            "border": null,
            "bottom": null,
            "display": null,
            "flex": null,
            "flex_flow": null,
            "grid_area": null,
            "grid_auto_columns": null,
            "grid_auto_flow": null,
            "grid_auto_rows": null,
            "grid_column": null,
            "grid_gap": null,
            "grid_row": null,
            "grid_template_areas": null,
            "grid_template_columns": null,
            "grid_template_rows": null,
            "height": null,
            "justify_content": null,
            "justify_items": null,
            "left": null,
            "margin": null,
            "max_height": null,
            "max_width": null,
            "min_height": null,
            "min_width": null,
            "object_fit": null,
            "object_position": null,
            "order": null,
            "overflow": null,
            "overflow_x": null,
            "overflow_y": null,
            "padding": null,
            "right": null,
            "top": null,
            "visibility": null,
            "width": null
          }
        },
        "06ca32e106234f75878f725376ea9154": {
          "model_module": "@jupyter-widgets/controls",
          "model_name": "ProgressStyleModel",
          "model_module_version": "1.5.0",
          "state": {
            "_model_module": "@jupyter-widgets/controls",
            "_model_module_version": "1.5.0",
            "_model_name": "ProgressStyleModel",
            "_view_count": null,
            "_view_module": "@jupyter-widgets/base",
            "_view_module_version": "1.2.0",
            "_view_name": "StyleView",
            "bar_color": null,
            "description_width": ""
          }
        },
        "fc77bff1893548d28d9b8fc7f4f263fb": {
          "model_module": "@jupyter-widgets/base",
          "model_name": "LayoutModel",
          "model_module_version": "1.2.0",
          "state": {
            "_model_module": "@jupyter-widgets/base",
            "_model_module_version": "1.2.0",
            "_model_name": "LayoutModel",
            "_view_count": null,
            "_view_module": "@jupyter-widgets/base",
            "_view_module_version": "1.2.0",
            "_view_name": "LayoutView",
            "align_content": null,
            "align_items": null,
            "align_self": null,
            "border": null,
            "bottom": null,
            "display": null,
            "flex": null,
            "flex_flow": null,
            "grid_area": null,
            "grid_auto_columns": null,
            "grid_auto_flow": null,
            "grid_auto_rows": null,
            "grid_column": null,
            "grid_gap": null,
            "grid_row": null,
            "grid_template_areas": null,
            "grid_template_columns": null,
            "grid_template_rows": null,
            "height": null,
            "justify_content": null,
            "justify_items": null,
            "left": null,
            "margin": null,
            "max_height": null,
            "max_width": null,
            "min_height": null,
            "min_width": null,
            "object_fit": null,
            "object_position": null,
            "order": null,
            "overflow": null,
            "overflow_x": null,
            "overflow_y": null,
            "padding": null,
            "right": null,
            "top": null,
            "visibility": null,
            "width": null
          }
        },
        "7d87299839914ec9b196bcfb9d3f4b08": {
          "model_module": "@jupyter-widgets/controls",
          "model_name": "DescriptionStyleModel",
          "model_module_version": "1.5.0",
          "state": {
            "_model_module": "@jupyter-widgets/controls",
            "_model_module_version": "1.5.0",
            "_model_name": "DescriptionStyleModel",
            "_view_count": null,
            "_view_module": "@jupyter-widgets/base",
            "_view_module_version": "1.2.0",
            "_view_name": "StyleView",
            "description_width": ""
          }
        },
        "27257f9fef594f25a0c441c5cb70a293": {
          "model_module": "@jupyter-widgets/controls",
          "model_name": "HBoxModel",
          "model_module_version": "1.5.0",
          "state": {
            "_dom_classes": [],
            "_model_module": "@jupyter-widgets/controls",
            "_model_module_version": "1.5.0",
            "_model_name": "HBoxModel",
            "_view_count": null,
            "_view_module": "@jupyter-widgets/controls",
            "_view_module_version": "1.5.0",
            "_view_name": "HBoxView",
            "box_style": "",
            "children": [
              "IPY_MODEL_582cd2b6ab6442cbb403cb8976f92595",
              "IPY_MODEL_5d7400c4f595462a8707962b847f9d9d",
              "IPY_MODEL_fb26f83d210f456582d9dc7498d3a7ab"
            ],
            "layout": "IPY_MODEL_b7ee375bf84f4174934f7514e1f3a2b1"
          }
        },
        "582cd2b6ab6442cbb403cb8976f92595": {
          "model_module": "@jupyter-widgets/controls",
          "model_name": "HTMLModel",
          "model_module_version": "1.5.0",
          "state": {
            "_dom_classes": [],
            "_model_module": "@jupyter-widgets/controls",
            "_model_module_version": "1.5.0",
            "_model_name": "HTMLModel",
            "_view_count": null,
            "_view_module": "@jupyter-widgets/controls",
            "_view_module_version": "1.5.0",
            "_view_name": "HTMLView",
            "description": "",
            "description_tooltip": null,
            "layout": "IPY_MODEL_1a139a5b295a437694bc08cc5dde182a",
            "placeholder": "​",
            "style": "IPY_MODEL_015a61e64b7a437286e87abb2071db90",
            "value": "Downloading (…)on_pytorch_model.bin: 100%"
          }
        },
        "5d7400c4f595462a8707962b847f9d9d": {
          "model_module": "@jupyter-widgets/controls",
          "model_name": "FloatProgressModel",
          "model_module_version": "1.5.0",
          "state": {
            "_dom_classes": [],
            "_model_module": "@jupyter-widgets/controls",
            "_model_module_version": "1.5.0",
            "_model_name": "FloatProgressModel",
            "_view_count": null,
            "_view_module": "@jupyter-widgets/controls",
            "_view_module_version": "1.5.0",
            "_view_name": "ProgressView",
            "bar_style": "success",
            "description": "",
            "description_tooltip": null,
            "layout": "IPY_MODEL_3569c769633542a0859bcb4c7d81d306",
            "max": 143101489,
            "min": 0,
            "orientation": "horizontal",
            "style": "IPY_MODEL_8a432242188b407fb913d5ee70881b1a",
            "value": 143101489
          }
        },
        "fb26f83d210f456582d9dc7498d3a7ab": {
          "model_module": "@jupyter-widgets/controls",
          "model_name": "HTMLModel",
          "model_module_version": "1.5.0",
          "state": {
            "_dom_classes": [],
            "_model_module": "@jupyter-widgets/controls",
            "_model_module_version": "1.5.0",
            "_model_name": "HTMLModel",
            "_view_count": null,
            "_view_module": "@jupyter-widgets/controls",
            "_view_module_version": "1.5.0",
            "_view_name": "HTMLView",
            "description": "",
            "description_tooltip": null,
            "layout": "IPY_MODEL_7a7b008084514bae80240c604935e789",
            "placeholder": "​",
            "style": "IPY_MODEL_b4f7bdc9d3db4b14a573541dc1f4dba4",
            "value": " 143M/143M [00:01&lt;00:00, 155MB/s]"
          }
        },
        "b7ee375bf84f4174934f7514e1f3a2b1": {
          "model_module": "@jupyter-widgets/base",
          "model_name": "LayoutModel",
          "model_module_version": "1.2.0",
          "state": {
            "_model_module": "@jupyter-widgets/base",
            "_model_module_version": "1.2.0",
            "_model_name": "LayoutModel",
            "_view_count": null,
            "_view_module": "@jupyter-widgets/base",
            "_view_module_version": "1.2.0",
            "_view_name": "LayoutView",
            "align_content": null,
            "align_items": null,
            "align_self": null,
            "border": null,
            "bottom": null,
            "display": null,
            "flex": null,
            "flex_flow": null,
            "grid_area": null,
            "grid_auto_columns": null,
            "grid_auto_flow": null,
            "grid_auto_rows": null,
            "grid_column": null,
            "grid_gap": null,
            "grid_row": null,
            "grid_template_areas": null,
            "grid_template_columns": null,
            "grid_template_rows": null,
            "height": null,
            "justify_content": null,
            "justify_items": null,
            "left": null,
            "margin": null,
            "max_height": null,
            "max_width": null,
            "min_height": null,
            "min_width": null,
            "object_fit": null,
            "object_position": null,
            "order": null,
            "overflow": null,
            "overflow_x": null,
            "overflow_y": null,
            "padding": null,
            "right": null,
            "top": null,
            "visibility": null,
            "width": null
          }
        },
        "1a139a5b295a437694bc08cc5dde182a": {
          "model_module": "@jupyter-widgets/base",
          "model_name": "LayoutModel",
          "model_module_version": "1.2.0",
          "state": {
            "_model_module": "@jupyter-widgets/base",
            "_model_module_version": "1.2.0",
            "_model_name": "LayoutModel",
            "_view_count": null,
            "_view_module": "@jupyter-widgets/base",
            "_view_module_version": "1.2.0",
            "_view_name": "LayoutView",
            "align_content": null,
            "align_items": null,
            "align_self": null,
            "border": null,
            "bottom": null,
            "display": null,
            "flex": null,
            "flex_flow": null,
            "grid_area": null,
            "grid_auto_columns": null,
            "grid_auto_flow": null,
            "grid_auto_rows": null,
            "grid_column": null,
            "grid_gap": null,
            "grid_row": null,
            "grid_template_areas": null,
            "grid_template_columns": null,
            "grid_template_rows": null,
            "height": null,
            "justify_content": null,
            "justify_items": null,
            "left": null,
            "margin": null,
            "max_height": null,
            "max_width": null,
            "min_height": null,
            "min_width": null,
            "object_fit": null,
            "object_position": null,
            "order": null,
            "overflow": null,
            "overflow_x": null,
            "overflow_y": null,
            "padding": null,
            "right": null,
            "top": null,
            "visibility": null,
            "width": null
          }
        },
        "015a61e64b7a437286e87abb2071db90": {
          "model_module": "@jupyter-widgets/controls",
          "model_name": "DescriptionStyleModel",
          "model_module_version": "1.5.0",
          "state": {
            "_model_module": "@jupyter-widgets/controls",
            "_model_module_version": "1.5.0",
            "_model_name": "DescriptionStyleModel",
            "_view_count": null,
            "_view_module": "@jupyter-widgets/base",
            "_view_module_version": "1.2.0",
            "_view_name": "StyleView",
            "description_width": ""
          }
        },
        "3569c769633542a0859bcb4c7d81d306": {
          "model_module": "@jupyter-widgets/base",
          "model_name": "LayoutModel",
          "model_module_version": "1.2.0",
          "state": {
            "_model_module": "@jupyter-widgets/base",
            "_model_module_version": "1.2.0",
            "_model_name": "LayoutModel",
            "_view_count": null,
            "_view_module": "@jupyter-widgets/base",
            "_view_module_version": "1.2.0",
            "_view_name": "LayoutView",
            "align_content": null,
            "align_items": null,
            "align_self": null,
            "border": null,
            "bottom": null,
            "display": null,
            "flex": null,
            "flex_flow": null,
            "grid_area": null,
            "grid_auto_columns": null,
            "grid_auto_flow": null,
            "grid_auto_rows": null,
            "grid_column": null,
            "grid_gap": null,
            "grid_row": null,
            "grid_template_areas": null,
            "grid_template_columns": null,
            "grid_template_rows": null,
            "height": null,
            "justify_content": null,
            "justify_items": null,
            "left": null,
            "margin": null,
            "max_height": null,
            "max_width": null,
            "min_height": null,
            "min_width": null,
            "object_fit": null,
            "object_position": null,
            "order": null,
            "overflow": null,
            "overflow_x": null,
            "overflow_y": null,
            "padding": null,
            "right": null,
            "top": null,
            "visibility": null,
            "width": null
          }
        },
        "8a432242188b407fb913d5ee70881b1a": {
          "model_module": "@jupyter-widgets/controls",
          "model_name": "ProgressStyleModel",
          "model_module_version": "1.5.0",
          "state": {
            "_model_module": "@jupyter-widgets/controls",
            "_model_module_version": "1.5.0",
            "_model_name": "ProgressStyleModel",
            "_view_count": null,
            "_view_module": "@jupyter-widgets/base",
            "_view_module_version": "1.2.0",
            "_view_name": "StyleView",
            "bar_color": null,
            "description_width": ""
          }
        },
        "7a7b008084514bae80240c604935e789": {
          "model_module": "@jupyter-widgets/base",
          "model_name": "LayoutModel",
          "model_module_version": "1.2.0",
          "state": {
            "_model_module": "@jupyter-widgets/base",
            "_model_module_version": "1.2.0",
            "_model_name": "LayoutModel",
            "_view_count": null,
            "_view_module": "@jupyter-widgets/base",
            "_view_module_version": "1.2.0",
            "_view_name": "LayoutView",
            "align_content": null,
            "align_items": null,
            "align_self": null,
            "border": null,
            "bottom": null,
            "display": null,
            "flex": null,
            "flex_flow": null,
            "grid_area": null,
            "grid_auto_columns": null,
            "grid_auto_flow": null,
            "grid_auto_rows": null,
            "grid_column": null,
            "grid_gap": null,
            "grid_row": null,
            "grid_template_areas": null,
            "grid_template_columns": null,
            "grid_template_rows": null,
            "height": null,
            "justify_content": null,
            "justify_items": null,
            "left": null,
            "margin": null,
            "max_height": null,
            "max_width": null,
            "min_height": null,
            "min_width": null,
            "object_fit": null,
            "object_position": null,
            "order": null,
            "overflow": null,
            "overflow_x": null,
            "overflow_y": null,
            "padding": null,
            "right": null,
            "top": null,
            "visibility": null,
            "width": null
          }
        },
        "b4f7bdc9d3db4b14a573541dc1f4dba4": {
          "model_module": "@jupyter-widgets/controls",
          "model_name": "DescriptionStyleModel",
          "model_module_version": "1.5.0",
          "state": {
            "_model_module": "@jupyter-widgets/controls",
            "_model_module_version": "1.5.0",
            "_model_name": "DescriptionStyleModel",
            "_view_count": null,
            "_view_module": "@jupyter-widgets/base",
            "_view_module_version": "1.2.0",
            "_view_name": "StyleView",
            "description_width": ""
          }
        },
        "950e88e6b36e422d97165ba48cec3c4b": {
          "model_module": "@jupyter-widgets/controls",
          "model_name": "HBoxModel",
          "model_module_version": "1.5.0",
          "state": {
            "_dom_classes": [],
            "_model_module": "@jupyter-widgets/controls",
            "_model_module_version": "1.5.0",
            "_model_name": "HBoxModel",
            "_view_count": null,
            "_view_module": "@jupyter-widgets/controls",
            "_view_module_version": "1.5.0",
            "_view_name": "HBoxView",
            "box_style": "",
            "children": [
              "IPY_MODEL_46adc5b1ce21404dbc168820b56c86cb",
              "IPY_MODEL_c8216cb7f37b45e88f0fbf486290d8bc",
              "IPY_MODEL_319c678f025a45ffa0151e0083ffa677"
            ],
            "layout": "IPY_MODEL_285cca4c2e9d41189583e2940b392c02"
          }
        },
        "46adc5b1ce21404dbc168820b56c86cb": {
          "model_module": "@jupyter-widgets/controls",
          "model_name": "HTMLModel",
          "model_module_version": "1.5.0",
          "state": {
            "_dom_classes": [],
            "_model_module": "@jupyter-widgets/controls",
            "_model_module_version": "1.5.0",
            "_model_name": "HTMLModel",
            "_view_count": null,
            "_view_module": "@jupyter-widgets/controls",
            "_view_module_version": "1.5.0",
            "_view_name": "HTMLView",
            "description": "",
            "description_tooltip": null,
            "layout": "IPY_MODEL_51981286aef4475ba17ccb46352713db",
            "placeholder": "​",
            "style": "IPY_MODEL_462a4828ee374738b9942ea2787a7efd",
            "value": "Downloading (…)cheduler_config.json: 100%"
          }
        },
        "c8216cb7f37b45e88f0fbf486290d8bc": {
          "model_module": "@jupyter-widgets/controls",
          "model_name": "FloatProgressModel",
          "model_module_version": "1.5.0",
          "state": {
            "_dom_classes": [],
            "_model_module": "@jupyter-widgets/controls",
            "_model_module_version": "1.5.0",
            "_model_name": "FloatProgressModel",
            "_view_count": null,
            "_view_module": "@jupyter-widgets/controls",
            "_view_module_version": "1.5.0",
            "_view_name": "ProgressView",
            "bar_style": "success",
            "description": "",
            "description_tooltip": null,
            "layout": "IPY_MODEL_13a6e654be944372a4dd36dfeff5c358",
            "max": 256,
            "min": 0,
            "orientation": "horizontal",
            "style": "IPY_MODEL_4d0617d42f32499f8824a3a8dca6078f",
            "value": 256
          }
        },
        "319c678f025a45ffa0151e0083ffa677": {
          "model_module": "@jupyter-widgets/controls",
          "model_name": "HTMLModel",
          "model_module_version": "1.5.0",
          "state": {
            "_dom_classes": [],
            "_model_module": "@jupyter-widgets/controls",
            "_model_module_version": "1.5.0",
            "_model_name": "HTMLModel",
            "_view_count": null,
            "_view_module": "@jupyter-widgets/controls",
            "_view_module_version": "1.5.0",
            "_view_name": "HTMLView",
            "description": "",
            "description_tooltip": null,
            "layout": "IPY_MODEL_46acba8ad26f4b31810a84b734f5e075",
            "placeholder": "​",
            "style": "IPY_MODEL_ccc30b3cac3d4973b5620c9085bf1963",
            "value": " 256/256 [00:00&lt;00:00, 10.2kB/s]"
          }
        },
        "285cca4c2e9d41189583e2940b392c02": {
          "model_module": "@jupyter-widgets/base",
          "model_name": "LayoutModel",
          "model_module_version": "1.2.0",
          "state": {
            "_model_module": "@jupyter-widgets/base",
            "_model_module_version": "1.2.0",
            "_model_name": "LayoutModel",
            "_view_count": null,
            "_view_module": "@jupyter-widgets/base",
            "_view_module_version": "1.2.0",
            "_view_name": "LayoutView",
            "align_content": null,
            "align_items": null,
            "align_self": null,
            "border": null,
            "bottom": null,
            "display": null,
            "flex": null,
            "flex_flow": null,
            "grid_area": null,
            "grid_auto_columns": null,
            "grid_auto_flow": null,
            "grid_auto_rows": null,
            "grid_column": null,
            "grid_gap": null,
            "grid_row": null,
            "grid_template_areas": null,
            "grid_template_columns": null,
            "grid_template_rows": null,
            "height": null,
            "justify_content": null,
            "justify_items": null,
            "left": null,
            "margin": null,
            "max_height": null,
            "max_width": null,
            "min_height": null,
            "min_width": null,
            "object_fit": null,
            "object_position": null,
            "order": null,
            "overflow": null,
            "overflow_x": null,
            "overflow_y": null,
            "padding": null,
            "right": null,
            "top": null,
            "visibility": null,
            "width": null
          }
        },
        "51981286aef4475ba17ccb46352713db": {
          "model_module": "@jupyter-widgets/base",
          "model_name": "LayoutModel",
          "model_module_version": "1.2.0",
          "state": {
            "_model_module": "@jupyter-widgets/base",
            "_model_module_version": "1.2.0",
            "_model_name": "LayoutModel",
            "_view_count": null,
            "_view_module": "@jupyter-widgets/base",
            "_view_module_version": "1.2.0",
            "_view_name": "LayoutView",
            "align_content": null,
            "align_items": null,
            "align_self": null,
            "border": null,
            "bottom": null,
            "display": null,
            "flex": null,
            "flex_flow": null,
            "grid_area": null,
            "grid_auto_columns": null,
            "grid_auto_flow": null,
            "grid_auto_rows": null,
            "grid_column": null,
            "grid_gap": null,
            "grid_row": null,
            "grid_template_areas": null,
            "grid_template_columns": null,
            "grid_template_rows": null,
            "height": null,
            "justify_content": null,
            "justify_items": null,
            "left": null,
            "margin": null,
            "max_height": null,
            "max_width": null,
            "min_height": null,
            "min_width": null,
            "object_fit": null,
            "object_position": null,
            "order": null,
            "overflow": null,
            "overflow_x": null,
            "overflow_y": null,
            "padding": null,
            "right": null,
            "top": null,
            "visibility": null,
            "width": null
          }
        },
        "462a4828ee374738b9942ea2787a7efd": {
          "model_module": "@jupyter-widgets/controls",
          "model_name": "DescriptionStyleModel",
          "model_module_version": "1.5.0",
          "state": {
            "_model_module": "@jupyter-widgets/controls",
            "_model_module_version": "1.5.0",
            "_model_name": "DescriptionStyleModel",
            "_view_count": null,
            "_view_module": "@jupyter-widgets/base",
            "_view_module_version": "1.2.0",
            "_view_name": "StyleView",
            "description_width": ""
          }
        },
        "13a6e654be944372a4dd36dfeff5c358": {
          "model_module": "@jupyter-widgets/base",
          "model_name": "LayoutModel",
          "model_module_version": "1.2.0",
          "state": {
            "_model_module": "@jupyter-widgets/base",
            "_model_module_version": "1.2.0",
            "_model_name": "LayoutModel",
            "_view_count": null,
            "_view_module": "@jupyter-widgets/base",
            "_view_module_version": "1.2.0",
            "_view_name": "LayoutView",
            "align_content": null,
            "align_items": null,
            "align_self": null,
            "border": null,
            "bottom": null,
            "display": null,
            "flex": null,
            "flex_flow": null,
            "grid_area": null,
            "grid_auto_columns": null,
            "grid_auto_flow": null,
            "grid_auto_rows": null,
            "grid_column": null,
            "grid_gap": null,
            "grid_row": null,
            "grid_template_areas": null,
            "grid_template_columns": null,
            "grid_template_rows": null,
            "height": null,
            "justify_content": null,
            "justify_items": null,
            "left": null,
            "margin": null,
            "max_height": null,
            "max_width": null,
            "min_height": null,
            "min_width": null,
            "object_fit": null,
            "object_position": null,
            "order": null,
            "overflow": null,
            "overflow_x": null,
            "overflow_y": null,
            "padding": null,
            "right": null,
            "top": null,
            "visibility": null,
            "width": null
          }
        },
        "4d0617d42f32499f8824a3a8dca6078f": {
          "model_module": "@jupyter-widgets/controls",
          "model_name": "ProgressStyleModel",
          "model_module_version": "1.5.0",
          "state": {
            "_model_module": "@jupyter-widgets/controls",
            "_model_module_version": "1.5.0",
            "_model_name": "ProgressStyleModel",
            "_view_count": null,
            "_view_module": "@jupyter-widgets/base",
            "_view_module_version": "1.2.0",
            "_view_name": "StyleView",
            "bar_color": null,
            "description_width": ""
          }
        },
        "46acba8ad26f4b31810a84b734f5e075": {
          "model_module": "@jupyter-widgets/base",
          "model_name": "LayoutModel",
          "model_module_version": "1.2.0",
          "state": {
            "_model_module": "@jupyter-widgets/base",
            "_model_module_version": "1.2.0",
            "_model_name": "LayoutModel",
            "_view_count": null,
            "_view_module": "@jupyter-widgets/base",
            "_view_module_version": "1.2.0",
            "_view_name": "LayoutView",
            "align_content": null,
            "align_items": null,
            "align_self": null,
            "border": null,
            "bottom": null,
            "display": null,
            "flex": null,
            "flex_flow": null,
            "grid_area": null,
            "grid_auto_columns": null,
            "grid_auto_flow": null,
            "grid_auto_rows": null,
            "grid_column": null,
            "grid_gap": null,
            "grid_row": null,
            "grid_template_areas": null,
            "grid_template_columns": null,
            "grid_template_rows": null,
            "height": null,
            "justify_content": null,
            "justify_items": null,
            "left": null,
            "margin": null,
            "max_height": null,
            "max_width": null,
            "min_height": null,
            "min_width": null,
            "object_fit": null,
            "object_position": null,
            "order": null,
            "overflow": null,
            "overflow_x": null,
            "overflow_y": null,
            "padding": null,
            "right": null,
            "top": null,
            "visibility": null,
            "width": null
          }
        },
        "ccc30b3cac3d4973b5620c9085bf1963": {
          "model_module": "@jupyter-widgets/controls",
          "model_name": "DescriptionStyleModel",
          "model_module_version": "1.5.0",
          "state": {
            "_model_module": "@jupyter-widgets/controls",
            "_model_module_version": "1.5.0",
            "_model_name": "DescriptionStyleModel",
            "_view_count": null,
            "_view_module": "@jupyter-widgets/base",
            "_view_module_version": "1.2.0",
            "_view_name": "StyleView",
            "description_width": ""
          }
        }
      }
    }
  },
  "cells": [
    {
      "cell_type": "markdown",
      "source": [
        "# Image Generation from ITdiffusion fine-tuning on CIFAR10 DDPM\n",
        "\n",
        "We had previously sampled from the model (see  [sample_ITdiffusion_DDIM_cifar10_fine_tuned.ipynb](https://colab.research.google.com/drive/1cwAYqq1Jxhe0iGziStztxeEqqgndmaSQ?usp=sharing)) and saved the results in .npz files. In this notebook, we read these files and display the images"
      ],
      "metadata": {
        "id": "2XraaV2Z8y9A"
      }
    },
    {
      "cell_type": "markdown",
      "source": [
        "## Imports and setup and utils"
      ],
      "metadata": {
        "id": "GIDOS5H-ERzB"
      }
    },
    {
      "cell_type": "code",
      "execution_count": 1,
      "metadata": {
        "colab": {
          "base_uri": "https://localhost:8080/"
        },
        "id": "z5sezubIweEI",
        "outputId": "fd6c565c-540c-4595-b040-99fc397b45bf"
      },
      "outputs": [
        {
          "output_type": "stream",
          "name": "stdout",
          "text": [
            "Mounted at /content/drive\n"
          ]
        }
      ],
      "source": [
        "from google.colab import drive\n",
        "drive.mount('/content/drive', force_remount=True)"
      ]
    },
    {
      "cell_type": "markdown",
      "source": [
        "### Setup and loading saved image arrays"
      ],
      "metadata": {
        "id": "v4wk079a8uzF"
      }
    },
    {
      "cell_type": "code",
      "source": [
        "import os"
      ],
      "metadata": {
        "id": "OTbaszOLxe9V"
      },
      "execution_count": 2,
      "outputs": []
    },
    {
      "cell_type": "code",
      "source": [
        "dir_gen_images = \"drive/MyDrive/density_estimation/generated_images/generated_images_cifar10_ddpm/small/\"\n",
        "!ls $dir_gen_images"
      ],
      "metadata": {
        "colab": {
          "base_uri": "https://localhost:8080/"
        },
        "id": "TUdpd9Iz7WCX",
        "outputId": "ade4f63b-8147-4ebd-820e-bcb10dd58b8d"
      },
      "execution_count": 3,
      "outputs": [
        {
          "output_type": "stream",
          "name": "stdout",
          "text": [
            "gen_cifar10_fine_tuned.npz  gen_cifar10_original.npz\n"
          ]
        }
      ]
    },
    {
      "cell_type": "code",
      "source": [
        "path_gen_images_fine_tuned = os.path.join(dir_gen_images, \"gen_cifar10_fine_tuned.npz\")\n",
        "!stat $path_gen_images_fine_tuned"
      ],
      "metadata": {
        "colab": {
          "base_uri": "https://localhost:8080/"
        },
        "id": "xdi_-pVtxbRC",
        "outputId": "17fbe070-2114-49cf-dfef-346d419be828"
      },
      "execution_count": 4,
      "outputs": [
        {
          "output_type": "stream",
          "name": "stdout",
          "text": [
            "  File: drive/MyDrive/density_estimation/generated_images/generated_images_cifar10_ddpm/small/gen_cifar10_fine_tuned.npz\n",
            "  Size: 196872    \tBlocks: 385        IO Block: 65536  regular file\n",
            "Device: 29h/41d\tInode: 508         Links: 1\n",
            "Access: (0600/-rw-------)  Uid: (    0/    root)   Gid: (    0/    root)\n",
            "Access: 2023-04-27 23:13:06.000000000 +0000\n",
            "Modify: 2023-04-27 23:11:39.000000000 +0000\n",
            "Change: 2023-04-27 23:13:06.000000000 +0000\n",
            " Birth: -\n"
          ]
        }
      ]
    },
    {
      "cell_type": "code",
      "source": [
        "path_gen_images_original = os.path.join(dir_gen_images, \"gen_cifar10_original.npz\")\n",
        "!stat $path_gen_images_original"
      ],
      "metadata": {
        "colab": {
          "base_uri": "https://localhost:8080/"
        },
        "id": "Wf_E0N_P7fVE",
        "outputId": "32f8c6b6-c151-4a05-c032-643be9d4ac4e"
      },
      "execution_count": 5,
      "outputs": [
        {
          "output_type": "stream",
          "name": "stdout",
          "text": [
            "  File: drive/MyDrive/density_estimation/generated_images/generated_images_cifar10_ddpm/small/gen_cifar10_original.npz\n",
            "  Size: 196872    \tBlocks: 385        IO Block: 65536  regular file\n",
            "Device: 29h/41d\tInode: 509         Links: 1\n",
            "Access: (0600/-rw-------)  Uid: (    0/    root)   Gid: (    0/    root)\n",
            "Access: 2023-04-27 23:13:06.000000000 +0000\n",
            "Modify: 2023-04-27 23:11:46.000000000 +0000\n",
            "Change: 2023-04-27 23:13:06.000000000 +0000\n",
            " Birth: -\n"
          ]
        }
      ]
    },
    {
      "cell_type": "code",
      "source": [
        "def display_images_grid(images, grid_shape):\n",
        "    n, _, w, h = images.shape\n",
        "    n_rows = w * grid_shape[0]\n",
        "    n_cols = h * grid_shape[1]\n",
        "\n",
        "    assert n >= grid_shape[0] * grid_shape[1], \"you have fewer images than grid spaces!\"\n",
        "\n",
        "    new_im = PIL.Image.new('RGB', (n_rows, n_cols))\n",
        "\n",
        "    idx = 0\n",
        "    for i in range(0, n_rows, w):\n",
        "        for j in range(0, n_cols, h):\n",
        "            image_processed = np.transpose(images[idx:idx+1], (0, 2, 3, 1))\n",
        "            image_processed = (image_processed + 1.0) * 127.5\n",
        "            image_processed = image_processed.astype(np.uint8)\n",
        "            im=PIL.Image.fromarray(image_processed[0])\n",
        "            #paste the image at location i,j:\n",
        "            new_im.paste(im, (i,j))\n",
        "            idx += 1\n",
        "\n",
        "    new_im.show()"
      ],
      "metadata": {
        "id": "k23qqjRd8eI1"
      },
      "execution_count": 6,
      "outputs": []
    },
    {
      "cell_type": "code",
      "source": [
        "import PIL.Image\n",
        "import numpy as np\n",
        "%matplotlib inline\n",
        "import matplotlib.pyplot as plt\n",
        "\n",
        "\n",
        "def display_sample(sample, idx=0, custom_figsize=None):\n",
        "    # image_processed = sample.permute(0, 2, 3, 1).astype(np.uint8)\n",
        "    image_processed = np.transpose(sample, (0, 2, 3, 1))\n",
        "    image_processed = (image_processed + 1.0) * 127.5\n",
        "    # print(image_processed.shape)\n",
        "    image_processed = image_processed.astype(np.uint8)\n",
        "    image_pil = PIL.Image.fromarray(image_processed[idx])\n",
        "\n",
        "    if custom_figsize:\n",
        "        plt.figure(figsize=custom_figsize)\n",
        "        plt.imshow(image_pil)\n",
        "\n",
        "    else:\n",
        "        display(image_pil)    \n",
        "\n",
        "\n",
        "def display_sample_single(sample, custom_figsize=None):\n",
        "    image_processed = np.transpose(sample, (1, 2, 0))\n",
        "    image_processed = (image_processed + 1.0) * 127.5\n",
        "    image_processed = image_processed.astype(np.uint8)\n",
        "    image_pil = PIL.Image.fromarray(image_processed)\n",
        "\n",
        "    if custom_figsize:\n",
        "        plt.figure(figsize=custom_figsize)\n",
        "        plt.imshow(image_pil)\n",
        "\n",
        "    else:\n",
        "        display(image_pil) "
      ],
      "metadata": {
        "id": "oZ1kbC95yHyV"
      },
      "execution_count": 7,
      "outputs": []
    },
    {
      "cell_type": "markdown",
      "source": [
        "## Section 1: Images generated from Huggingface's pre-trained CIFAR10 DDPM"
      ],
      "metadata": {
        "id": "JG5nAwKZ8atH"
      }
    },
    {
      "cell_type": "code",
      "source": [
        "sample_original = np.load(path_gen_images_original)[\"arr_0\"]\n",
        "sample_original.shape"
      ],
      "metadata": {
        "colab": {
          "base_uri": "https://localhost:8080/"
        },
        "id": "S6u9pKq6wlHz",
        "outputId": "1569f5bf-f355-4a16-a017-fe9cc7896968"
      },
      "execution_count": 8,
      "outputs": [
        {
          "output_type": "execute_result",
          "data": {
            "text/plain": [
              "(16, 3, 32, 32)"
            ]
          },
          "metadata": {},
          "execution_count": 8
        }
      ]
    },
    {
      "cell_type": "code",
      "source": [
        "display_images_grid(sample_original, (4, 4))"
      ],
      "metadata": {
        "colab": {
          "base_uri": "https://localhost:8080/",
          "height": 145
        },
        "id": "zqmEBx4KCKwT",
        "outputId": "ffb30272-6061-4603-cfbe-be4f5ce90889"
      },
      "execution_count": 9,
      "outputs": [
        {
          "output_type": "display_data",
          "data": {
            "text/plain": [
              "<PIL.Image.Image image mode=RGB size=128x128 at 0x7F731F646650>"
            ],
            "image/png": "[encoded data removed]"
          },
          "metadata": {}
        }
      ]
    },
    {
      "cell_type": "code",
      "source": [
        "display_sample(sample_original, idx=14)"
      ],
      "metadata": {
        "colab": {
          "base_uri": "https://localhost:8080/",
          "height": 49
        },
        "id": "WUv3oNeqp9p6",
        "outputId": "85c90b14-f1bc-4b6e-ccb4-126e562fa9d5"
      },
      "execution_count": 10,
      "outputs": [
        {
          "output_type": "display_data",
          "data": {
            "text/plain": [
              "<PIL.Image.Image image mode=RGB size=32x32 at 0x7F731F6E96C0>"
            ],
            "image/png": "[encoded data removed]"
          },
          "metadata": {}
        }
      ]
    },
    {
      "cell_type": "markdown",
      "source": [
        "## Try to evaluate likelihoods"
      ],
      "metadata": {
        "id": "Q1I5jQueNK4g"
      }
    },
    {
      "cell_type": "code",
      "source": [
        "import time\n",
        "import numpy as np\n",
        "import math\n",
        "import tqdm\n",
        "from tqdm import trange\n",
        "%matplotlib inline\n",
        "import matplotlib.pyplot as plt"
      ],
      "metadata": {
        "id": "fZM2c9s2NNRV"
      },
      "execution_count": 11,
      "outputs": []
    },
    {
      "cell_type": "code",
      "source": [
        "!pip install diffusers"
      ],
      "metadata": {
        "colab": {
          "base_uri": "https://localhost:8080/"
        },
        "id": "4T5wgJm9EhC4",
        "outputId": "7f21aacf-583c-482d-8eaf-70fbbcb7407c"
      },
      "execution_count": 12,
      "outputs": [
        {
          "output_type": "stream",
          "name": "stdout",
          "text": [
            "Looking in indexes: https://pypi.org/simple, https://us-python.pkg.dev/colab-wheels/public/simple/\n",
            "Collecting diffusers\n",
            "  Downloading diffusers-0.16.0-py3-none-any.whl (934 kB)\n",
            "\u001b[2K     \u001b[90m━━━━━━━━━━━━━━━━━━━━━━━━━━━━━━━━━━━━━━\u001b[0m \u001b[32m934.8/934.8 kB\u001b[0m \u001b[31m15.3 MB/s\u001b[0m eta \u001b[36m0:00:00\u001b[0m\n",
            "\u001b[?25hRequirement already satisfied: importlib-metadata in /usr/local/lib/python3.10/dist-packages (from diffusers) (6.6.0)\n",
            "Collecting huggingface-hub>=0.13.2\n",
            "  Downloading huggingface_hub-0.14.1-py3-none-any.whl (224 kB)\n",
            "\u001b[2K     \u001b[90m━━━━━━━━━━━━━━━━━━━━━━━━━━━━━━━━━━━━━━\u001b[0m \u001b[32m224.5/224.5 kB\u001b[0m \u001b[31m26.0 MB/s\u001b[0m eta \u001b[36m0:00:00\u001b[0m\n",
            "\u001b[?25hRequirement already satisfied: requests in /usr/local/lib/python3.10/dist-packages (from diffusers) (2.27.1)\n",
            "Requirement already satisfied: Pillow in /usr/local/lib/python3.10/dist-packages (from diffusers) (8.4.0)\n",
            "Requirement already satisfied: filelock in /usr/local/lib/python3.10/dist-packages (from diffusers) (3.12.0)\n",
            "Requirement already satisfied: regex!=2019.12.17 in /usr/local/lib/python3.10/dist-packages (from diffusers) (2022.10.31)\n",
            "Requirement already satisfied: numpy in /usr/local/lib/python3.10/dist-packages (from diffusers) (1.22.4)\n",
            "Requirement already satisfied: tqdm>=4.42.1 in /usr/local/lib/python3.10/dist-packages (from huggingface-hub>=0.13.2->diffusers) (4.65.0)\n",
            "Requirement already satisfied: typing-extensions>=3.7.4.3 in /usr/local/lib/python3.10/dist-packages (from huggingface-hub>=0.13.2->diffusers) (4.5.0)\n",
            "Requirement already satisfied: packaging>=20.9 in /usr/local/lib/python3.10/dist-packages (from huggingface-hub>=0.13.2->diffusers) (23.1)\n",
            "Requirement already satisfied: fsspec in /usr/local/lib/python3.10/dist-packages (from huggingface-hub>=0.13.2->diffusers) (2023.4.0)\n",
            "Requirement already satisfied: pyyaml>=5.1 in /usr/local/lib/python3.10/dist-packages (from huggingface-hub>=0.13.2->diffusers) (6.0)\n",
            "Requirement already satisfied: zipp>=0.5 in /usr/local/lib/python3.10/dist-packages (from importlib-metadata->diffusers) (3.15.0)\n",
            "Requirement already satisfied: certifi>=2017.4.17 in /usr/local/lib/python3.10/dist-packages (from requests->diffusers) (2022.12.7)\n",
            "Requirement already satisfied: charset-normalizer~=2.0.0 in /usr/local/lib/python3.10/dist-packages (from requests->diffusers) (2.0.12)\n",
            "Requirement already satisfied: idna<4,>=2.5 in /usr/local/lib/python3.10/dist-packages (from requests->diffusers) (3.4)\n",
            "Requirement already satisfied: urllib3<1.27,>=1.21.1 in /usr/local/lib/python3.10/dist-packages (from requests->diffusers) (1.26.15)\n",
            "Installing collected packages: huggingface-hub, diffusers\n",
            "Successfully installed diffusers-0.16.0 huggingface-hub-0.14.1\n"
          ]
        }
      ]
    },
    {
      "cell_type": "code",
      "source": [
        "import torch\n",
        "from diffusers import UNet2DModel"
      ],
      "metadata": {
        "id": "2b8A9QZvNR3C"
      },
      "execution_count": 13,
      "outputs": []
    },
    {
      "cell_type": "code",
      "source": [
        "!pip install accelerate"
      ],
      "metadata": {
        "colab": {
          "base_uri": "https://localhost:8080/"
        },
        "id": "j1ZfzgONGAdP",
        "outputId": "61259e22-077a-4333-d940-eef3f152eae3"
      },
      "execution_count": 14,
      "outputs": [
        {
          "output_type": "stream",
          "name": "stdout",
          "text": [
            "Looking in indexes: https://pypi.org/simple, https://us-python.pkg.dev/colab-wheels/public/simple/\n",
            "Collecting accelerate\n",
            "  Downloading accelerate-0.18.0-py3-none-any.whl (215 kB)\n",
            "\u001b[2K     \u001b[90m━━━━━━━━━━━━━━━━━━━━━━━━━━━━━━━━━━━━━━━\u001b[0m \u001b[32m215.3/215.3 kB\u001b[0m \u001b[31m5.9 MB/s\u001b[0m eta \u001b[36m0:00:00\u001b[0m\n",
            "\u001b[?25hRequirement already satisfied: torch>=1.4.0 in /usr/local/lib/python3.10/dist-packages (from accelerate) (2.0.0+cu118)\n",
            "Requirement already satisfied: packaging>=20.0 in /usr/local/lib/python3.10/dist-packages (from accelerate) (23.1)\n",
            "Requirement already satisfied: psutil in /usr/local/lib/python3.10/dist-packages (from accelerate) (5.9.5)\n",
            "Requirement already satisfied: pyyaml in /usr/local/lib/python3.10/dist-packages (from accelerate) (6.0)\n",
            "Requirement already satisfied: numpy>=1.17 in /usr/local/lib/python3.10/dist-packages (from accelerate) (1.22.4)\n",
            "Requirement already satisfied: typing-extensions in /usr/local/lib/python3.10/dist-packages (from torch>=1.4.0->accelerate) (4.5.0)\n",
            "Requirement already satisfied: triton==2.0.0 in /usr/local/lib/python3.10/dist-packages (from torch>=1.4.0->accelerate) (2.0.0)\n",
            "Requirement already satisfied: networkx in /usr/local/lib/python3.10/dist-packages (from torch>=1.4.0->accelerate) (3.1)\n",
            "Requirement already satisfied: filelock in /usr/local/lib/python3.10/dist-packages (from torch>=1.4.0->accelerate) (3.12.0)\n",
            "Requirement already satisfied: jinja2 in /usr/local/lib/python3.10/dist-packages (from torch>=1.4.0->accelerate) (3.1.2)\n",
            "Requirement already satisfied: sympy in /usr/local/lib/python3.10/dist-packages (from torch>=1.4.0->accelerate) (1.11.1)\n",
            "Requirement already satisfied: lit in /usr/local/lib/python3.10/dist-packages (from triton==2.0.0->torch>=1.4.0->accelerate) (16.0.2)\n",
            "Requirement already satisfied: cmake in /usr/local/lib/python3.10/dist-packages (from triton==2.0.0->torch>=1.4.0->accelerate) (3.25.2)\n",
            "Requirement already satisfied: MarkupSafe>=2.0 in /usr/local/lib/python3.10/dist-packages (from jinja2->torch>=1.4.0->accelerate) (2.1.2)\n",
            "Requirement already satisfied: mpmath>=0.19 in /usr/local/lib/python3.10/dist-packages (from sympy->torch>=1.4.0->accelerate) (1.3.0)\n",
            "Installing collected packages: accelerate\n",
            "Successfully installed accelerate-0.18.0\n"
          ]
        }
      ]
    },
    {
      "cell_type": "code",
      "source": [
        "# Huggingface hub directory from which we get the pre-trained CIFAR10 DDPM model's config \n",
        "model_id = \"google/ddpm-cifar10-32\""
      ],
      "metadata": {
        "id": "4SescvegN8hE"
      },
      "execution_count": 15,
      "outputs": []
    },
    {
      "cell_type": "code",
      "source": [
        "model = UNet2DModel.from_pretrained(model_id)"
      ],
      "metadata": {
        "colab": {
          "base_uri": "https://localhost:8080/",
          "height": 188,
          "referenced_widgets": [
            "49872106064a48f1a6267306a12a28c8",
            "ea92da88b5a84367bd30f3b33379b21a",
            "b20aac078ea44fc488e36150cd76ce02",
            "e8428dfece004ee28f4b0ba84821d06b",
            "39e078ca0e02473f88cac0abd9ce166b",
            "5e3f5f973dc64f60b509040db60bbbd9",
            "ba10d24553af40c5b5ce965b29692a10",
            "82fed4e1ef934ef29eb1da8bbf096f8a",
            "06ca32e106234f75878f725376ea9154",
            "fc77bff1893548d28d9b8fc7f4f263fb",
            "7d87299839914ec9b196bcfb9d3f4b08",
            "27257f9fef594f25a0c441c5cb70a293",
            "582cd2b6ab6442cbb403cb8976f92595",
            "5d7400c4f595462a8707962b847f9d9d",
            "fb26f83d210f456582d9dc7498d3a7ab",
            "b7ee375bf84f4174934f7514e1f3a2b1",
            "1a139a5b295a437694bc08cc5dde182a",
            "015a61e64b7a437286e87abb2071db90",
            "3569c769633542a0859bcb4c7d81d306",
            "8a432242188b407fb913d5ee70881b1a",
            "7a7b008084514bae80240c604935e789",
            "b4f7bdc9d3db4b14a573541dc1f4dba4"
          ]
        },
        "id": "2wr_pdM2OAA0",
        "outputId": "2f56bd2d-0e60-42eb-80ab-1006ad101697"
      },
      "execution_count": 16,
      "outputs": [
        {
          "output_type": "stream",
          "name": "stderr",
          "text": [
            "Cannot initialize model with low cpu memory usage because `accelerate` was not found in the environment. Defaulting to `low_cpu_mem_usage=False`. It is strongly recommended to install `accelerate` for faster and less memory-intense model loading. You can do so with: \n",
            "```\n",
            "pip install accelerate\n",
            "```\n",
            ".\n"
          ]
        },
        {
          "output_type": "display_data",
          "data": {
            "text/plain": [
              "Downloading (…)lve/main/config.json:   0%|          | 0.00/699 [00:00<?, ?B/s]"
            ],
            "application/vnd.jupyter.widget-view+json": {
              "version_major": 2,
              "version_minor": 0,
              "model_id": "49872106064a48f1a6267306a12a28c8"
            }
          },
          "metadata": {}
        },
        {
          "output_type": "display_data",
          "data": {
            "text/plain": [
              "Downloading (…)on_pytorch_model.bin:   0%|          | 0.00/143M [00:00<?, ?B/s]"
            ],
            "application/vnd.jupyter.widget-view+json": {
              "version_major": 2,
              "version_minor": 0,
              "model_id": "27257f9fef594f25a0c441c5cb70a293"
            }
          },
          "metadata": {}
        }
      ]
    },
    {
      "cell_type": "code",
      "source": [
        "from diffusers import DDPMScheduler, DDIMScheduler\n",
        "\n",
        "scheduler = DDPMScheduler.from_config(model_id)\n",
        "# scheduler = DDIMScheduler.from_config(model_id)"
      ],
      "metadata": {
        "colab": {
          "base_uri": "https://localhost:8080/",
          "height": 104,
          "referenced_widgets": [
            "950e88e6b36e422d97165ba48cec3c4b",
            "46adc5b1ce21404dbc168820b56c86cb",
            "c8216cb7f37b45e88f0fbf486290d8bc",
            "319c678f025a45ffa0151e0083ffa677",
            "285cca4c2e9d41189583e2940b392c02",
            "51981286aef4475ba17ccb46352713db",
            "462a4828ee374738b9942ea2787a7efd",
            "13a6e654be944372a4dd36dfeff5c358",
            "4d0617d42f32499f8824a3a8dca6078f",
            "46acba8ad26f4b31810a84b734f5e075",
            "ccc30b3cac3d4973b5620c9085bf1963"
          ]
        },
        "id": "GvK7eqmMOAIB",
        "outputId": "6687b2ed-3c95-4d38-c4ce-3a83af59cd54"
      },
      "execution_count": 17,
      "outputs": [
        {
          "output_type": "stream",
          "name": "stderr",
          "text": [
            "/usr/local/lib/python3.10/dist-packages/diffusers/configuration_utils.py:215: FutureWarning: It is deprecated to pass a pretrained model name or path to `from_config`.If you were trying to load a scheduler, please use <class 'diffusers.schedulers.scheduling_ddpm.DDPMScheduler'>.from_pretrained(...) instead. Otherwise, please make sure to pass a configuration dictionary instead. This functionality will be removed in v1.0.0.\n",
            "  deprecate(\"config-passed-as-path\", \"1.0.0\", deprecation_message, standard_warn=False)\n"
          ]
        },
        {
          "output_type": "display_data",
          "data": {
            "text/plain": [
              "Downloading (…)cheduler_config.json:   0%|          | 0.00/256 [00:00<?, ?B/s]"
            ],
            "application/vnd.jupyter.widget-view+json": {
              "version_major": 2,
              "version_minor": 0,
              "model_id": "950e88e6b36e422d97165ba48cec3c4b"
            }
          },
          "metadata": {}
        }
      ]
    },
    {
      "cell_type": "code",
      "source": [
        "import torch.nn.functional as F"
      ],
      "metadata": {
        "id": "3c35FzGjUwjW"
      },
      "execution_count": 18,
      "outputs": []
    },
    {
      "cell_type": "code",
      "source": [
        "scheduler.config"
      ],
      "metadata": {
        "colab": {
          "base_uri": "https://localhost:8080/"
        },
        "id": "hJXN7cUJXMiW",
        "outputId": "875e53e2-4e53-43a7-ec66-0f00cb517d42"
      },
      "execution_count": 19,
      "outputs": [
        {
          "output_type": "execute_result",
          "data": {
            "text/plain": [
              "FrozenDict([('num_train_timesteps', 1000),\n",
              "            ('beta_start', 0.0001),\n",
              "            ('beta_end', 0.02),\n",
              "            ('beta_schedule', 'linear'),\n",
              "            ('trained_betas', None),\n",
              "            ('variance_type', 'fixed_large'),\n",
              "            ('clip_sample', True),\n",
              "            ('prediction_type', 'epsilon'),\n",
              "            ('thresholding', False),\n",
              "            ('dynamic_thresholding_ratio', 0.995),\n",
              "            ('clip_sample_range', 1.0),\n",
              "            ('sample_max_value', 1.0),\n",
              "            ('_class_name', 'DDPMScheduler'),\n",
              "            ('_diffusers_version', '0.1.1')])"
            ]
          },
          "metadata": {},
          "execution_count": 19
        }
      ]
    },
    {
      "cell_type": "code",
      "source": [
        "# timesteps = torch.LongTensor(np.arange(1, num_train_timesteps, 12))\n",
        "# n_timesteps_loss_calc = len(timesteps)\n",
        "\n",
        "def get_vlb_log_likelihood(model, scheduler, x_start, timesteps):\n",
        "    n_timesteps_loss_calc = len(timesteps)\n",
        "    # noise = torch.randn(x_start.shape)\n",
        "    noise = torch.randn(\n",
        "        n_timesteps_loss_calc, model.config.in_channels, model.config.sample_size, model.config.sample_size\n",
        "    )\n",
        "\n",
        "    noised_image = scheduler.add_noise(x_start, noise, timesteps)\n",
        "\n",
        "    # Predict the noise residual\n",
        "    with torch.no_grad():\n",
        "        noise_pred = model(noised_image, timesteps).sample\n",
        "\n",
        "    print(noise_pred.shape)\n",
        "    print(noise.shape)\n",
        "    loss = F.mse_loss(noise_pred, noise).detach()\n",
        "    print( -loss)"
      ],
      "metadata": {
        "id": "UI-0O9vRW-TD"
      },
      "execution_count": 20,
      "outputs": []
    },
    {
      "cell_type": "code",
      "source": [
        "num_train_timesteps = scheduler.config.num_train_timesteps\n",
        "print(num_train_timesteps)"
      ],
      "metadata": {
        "colab": {
          "base_uri": "https://localhost:8080/"
        },
        "id": "1xfPTnNLXZ1t",
        "outputId": "04365952-8ac9-4201-f6ff-3416953a3053"
      },
      "execution_count": 21,
      "outputs": [
        {
          "output_type": "stream",
          "name": "stdout",
          "text": [
            "1000\n"
          ]
        }
      ]
    },
    {
      "cell_type": "code",
      "source": [
        "timesteps = torch.randint(0, num_train_timesteps, (200,)).long()\n",
        "# timesteps = torch.LongTensor(np.arange(1, num_train_timesteps, 1))"
      ],
      "metadata": {
        "id": "93P9qRHDMGQj"
      },
      "execution_count": 70,
      "outputs": []
    },
    {
      "cell_type": "markdown",
      "source": [
        "### Calculate log likelihood on sample from DDPM"
      ],
      "metadata": {
        "id": "Z5qX1-LP1dax"
      }
    },
    {
      "cell_type": "code",
      "source": [
        "test_idx = 14\n",
        "test_img = sample_original[test_idx]\n",
        "x_start = torch.tensor([test_img]) #.permute(0, 2, 3, 1)\n",
        "print(x_start.shape)"
      ],
      "metadata": {
        "colab": {
          "base_uri": "https://localhost:8080/"
        },
        "id": "74YSW8SkX72e",
        "outputId": "a1780e5c-b125-4531-f396-efc370afecfb"
      },
      "execution_count": 71,
      "outputs": [
        {
          "output_type": "stream",
          "name": "stdout",
          "text": [
            "torch.Size([1, 3, 32, 32])\n"
          ]
        }
      ]
    },
    {
      "cell_type": "code",
      "source": [
        "# display_sample(sample_fine_tuned, idx=test_idx)\n",
        "display_sample_single(test_img)"
      ],
      "metadata": {
        "colab": {
          "base_uri": "https://localhost:8080/",
          "height": 49
        },
        "id": "KOoRNOAPlSSp",
        "outputId": "718122a1-9f6e-4037-8c95-f69a8a39efd1"
      },
      "execution_count": 72,
      "outputs": [
        {
          "output_type": "display_data",
          "data": {
            "text/plain": [
              "<PIL.Image.Image image mode=RGB size=32x32 at 0x7F7226F23670>"
            ],
            "image/png": "[encoded data removed]"
          },
          "metadata": {}
        }
      ]
    },
    {
      "cell_type": "code",
      "source": [
        "image_processed = x_start.cpu().permute(0, 2, 3, 1)\n",
        "image_processed = (image_processed + 1.0) * 127.5\n",
        "image_processed = image_processed.numpy().astype(np.uint8)\n",
        "\n",
        "image_pil = PIL.Image.fromarray(image_processed[0])\n",
        "plt.figure(figsize=(3,3))   \n",
        "plt.imshow(image_pil)"
      ],
      "metadata": {
        "colab": {
          "base_uri": "https://localhost:8080/",
          "height": 310
        },
        "id": "0rCd0J4WDKui",
        "outputId": "77f0ddb9-644a-4bfa-daf7-a76075d143c8"
      },
      "execution_count": 73,
      "outputs": [
        {
          "output_type": "execute_result",
          "data": {
            "text/plain": [
              "<matplotlib.image.AxesImage at 0x7f7226f23670>"
            ]
          },
          "metadata": {},
          "execution_count": 73
        },
        {
          "output_type": "display_data",
          "data": {
            "text/plain": [
              "<Figure size 300x300 with 1 Axes>"
            ],
            "image/png": "[encoded data removed]"
          },
          "metadata": {}
        }
      ]
    },
    {
      "cell_type": "code",
      "source": [
        "%%time\n",
        "# timesteps = torch.randint(0, num_train_timesteps, (100,)).long()\n",
        "# timesteps = torch.LongTensor(np.arange(1, num_train_timesteps, 1))\n",
        "# print(\"timesteps: \", timesteps)\n",
        "get_vlb_log_likelihood(model, scheduler, x_start, timesteps)"
      ],
      "metadata": {
        "colab": {
          "base_uri": "https://localhost:8080/"
        },
        "id": "97z_nqjcsLAO",
        "outputId": "4640cff3-5bd7-4532-8ed8-878c7a021de8"
      },
      "execution_count": 74,
      "outputs": [
        {
          "output_type": "stream",
          "name": "stdout",
          "text": [
            "torch.Size([200, 3, 32, 32])\n",
            "torch.Size([200, 3, 32, 32])\n",
            "tensor(-0.0237)\n",
            "CPU times: user 41.1 s, sys: 8.48 s, total: 49.6 s\n",
            "Wall time: 50.2 s\n"
          ]
        }
      ]
    },
    {
      "cell_type": "markdown",
      "source": [
        "### Calculate log likelihood on sample from DDPM, but rotated"
      ],
      "metadata": {
        "id": "xk0ytFmK13mm"
      }
    },
    {
      "cell_type": "code",
      "source": [
        "x_start_rotated = x_start.permute(0, 1, 3, 2)\n",
        "print(x_start_rotated.shape)"
      ],
      "metadata": {
        "colab": {
          "base_uri": "https://localhost:8080/"
        },
        "id": "rqPckBEG19nU",
        "outputId": "1a8a720a-56b7-4109-e034-2a77a076404d"
      },
      "execution_count": 75,
      "outputs": [
        {
          "output_type": "stream",
          "name": "stdout",
          "text": [
            "torch.Size([1, 3, 32, 32])\n"
          ]
        }
      ]
    },
    {
      "cell_type": "code",
      "source": [
        "display_sample_single(torch.squeeze(x_start_rotated).cpu().numpy())"
      ],
      "metadata": {
        "colab": {
          "base_uri": "https://localhost:8080/",
          "height": 49
        },
        "id": "HHe6bjwMBdbk",
        "outputId": "216e3090-7abe-4f8d-d7c8-bd700d6e9358"
      },
      "execution_count": 76,
      "outputs": [
        {
          "output_type": "display_data",
          "data": {
            "text/plain": [
              "<PIL.Image.Image image mode=RGB size=32x32 at 0x7F7226DD8D90>"
            ],
            "image/png": "[encoded data removed]"
          },
          "metadata": {}
        }
      ]
    },
    {
      "cell_type": "code",
      "source": [
        "# plt.figure(figsize=(3,3))\n",
        "# plt.imshow(torch.squeeze(x_start_rotated).permute(1,2,0).cpu().numpy())"
      ],
      "metadata": {
        "id": "ZTguNf2SCmkJ"
      },
      "execution_count": 77,
      "outputs": []
    },
    {
      "cell_type": "code",
      "source": [
        "image_processed = x_start_rotated.cpu().permute(0, 2, 3, 1)\n",
        "image_processed = (image_processed + 1.0) * 127.5\n",
        "image_processed = image_processed.numpy().astype(np.uint8)\n",
        "\n",
        "image_pil = PIL.Image.fromarray(image_processed[0])\n",
        "plt.figure(figsize=(3,3))   \n",
        "plt.imshow(image_pil)"
      ],
      "metadata": {
        "colab": {
          "base_uri": "https://localhost:8080/",
          "height": 310
        },
        "id": "8PifrryyC9S6",
        "outputId": "1a2aa498-a5c8-497b-b34c-cbb25c0fe755"
      },
      "execution_count": 78,
      "outputs": [
        {
          "output_type": "execute_result",
          "data": {
            "text/plain": [
              "<matplotlib.image.AxesImage at 0x7f7226df89d0>"
            ]
          },
          "metadata": {},
          "execution_count": 78
        },
        {
          "output_type": "display_data",
          "data": {
            "text/plain": [
              "<Figure size 300x300 with 1 Axes>"
            ],
            "image/png": "[encoded data removed]"
          },
          "metadata": {}
        }
      ]
    },
    {
      "cell_type": "code",
      "source": [
        "%%time\n",
        "# timesteps = torch.randint(0, num_train_timesteps, (100,)).long()\n",
        "# timesteps = torch.LongTensor(np.arange(1, num_train_timesteps, 1))\n",
        "# print(\"timesteps: \", timesteps)\n",
        "get_vlb_log_likelihood(model, scheduler, x_start_rotated, timesteps)"
      ],
      "metadata": {
        "colab": {
          "base_uri": "https://localhost:8080/"
        },
        "id": "ns5fSC3pLaCO",
        "outputId": "3af71f41-38fc-4d11-8e43-2d8f0434ca73"
      },
      "execution_count": 79,
      "outputs": [
        {
          "output_type": "stream",
          "name": "stdout",
          "text": [
            "torch.Size([200, 3, 32, 32])\n",
            "torch.Size([200, 3, 32, 32])\n",
            "tensor(-0.0267)\n",
            "CPU times: user 43 s, sys: 8.93 s, total: 52 s\n",
            "Wall time: 53.3 s\n"
          ]
        }
      ]
    },
    {
      "cell_type": "markdown",
      "source": [
        "### Calculate log likelihood on sample from DDPM, but rotated and with erasures"
      ],
      "metadata": {
        "id": "bLYKO4BeLO6r"
      }
    },
    {
      "cell_type": "code",
      "source": [
        "import copy"
      ],
      "metadata": {
        "id": "0nyrdz50LtXM"
      },
      "execution_count": 80,
      "outputs": []
    },
    {
      "cell_type": "code",
      "source": [
        "x_start_rotated_erasures = copy.deepcopy(x_start_rotated)"
      ],
      "metadata": {
        "id": "HsNeliPzLpCs"
      },
      "execution_count": 81,
      "outputs": []
    },
    {
      "cell_type": "code",
      "source": [
        "# x_start_rotated[:, :, 10, :] = torch.zeros((1, 3, 32))"
      ],
      "metadata": {
        "id": "15uSG416JCwx"
      },
      "execution_count": 82,
      "outputs": []
    },
    {
      "cell_type": "code",
      "source": [
        "# x_start_rotated[:, :, 10, :]"
      ],
      "metadata": {
        "id": "i_ny4g8lJf01"
      },
      "execution_count": 83,
      "outputs": []
    },
    {
      "cell_type": "code",
      "source": [
        "x_start_rotated_erasures[:, :, 10:20, :].shape"
      ],
      "metadata": {
        "colab": {
          "base_uri": "https://localhost:8080/"
        },
        "id": "ZqwIBXNxKAq3",
        "outputId": "625b7246-0626-43af-b817-f971bd5a5d8d"
      },
      "execution_count": 84,
      "outputs": [
        {
          "output_type": "execute_result",
          "data": {
            "text/plain": [
              "torch.Size([1, 3, 10, 32])"
            ]
          },
          "metadata": {},
          "execution_count": 84
        }
      ]
    },
    {
      "cell_type": "code",
      "source": [
        "# x_start_rotated[:, :, 10:20, :] = torch.zeros((1, 3, 10, 32))\n",
        "x_start_rotated_erasures[:, :, 10: 20, :] = torch.full((1, 3, 10, 32), -1.0)"
      ],
      "metadata": {
        "id": "5Oz6PSgCKFG2"
      },
      "execution_count": 85,
      "outputs": []
    },
    {
      "cell_type": "code",
      "source": [
        "image_processed = x_start_rotated_erasures.cpu().permute(0, 2, 3, 1)\n",
        "image_processed = (image_processed + 1.0) * 127.5\n",
        "image_processed = image_processed.numpy().astype(np.uint8)\n",
        "\n",
        "image_pil = PIL.Image.fromarray(image_processed[0])\n",
        "plt.figure(figsize=(3,3))   \n",
        "plt.imshow(image_pil)"
      ],
      "metadata": {
        "colab": {
          "base_uri": "https://localhost:8080/",
          "height": 310
        },
        "id": "8zq3jdzeJlMQ",
        "outputId": "e5269470-2f27-4e31-9102-1784cca79381"
      },
      "execution_count": 86,
      "outputs": [
        {
          "output_type": "execute_result",
          "data": {
            "text/plain": [
              "<matplotlib.image.AxesImage at 0x7f7226e80fa0>"
            ]
          },
          "metadata": {},
          "execution_count": 86
        },
        {
          "output_type": "display_data",
          "data": {
            "text/plain": [
              "<Figure size 300x300 with 1 Axes>"
            ],
            "image/png": "[encoded data removed]"
          },
          "metadata": {}
        }
      ]
    },
    {
      "cell_type": "code",
      "source": [
        "%%time\n",
        "# timesteps = torch.randint(0, num_train_timesteps, (100,)).long()\n",
        "# timesteps = torch.LongTensor(np.arange(1, num_train_timesteps, 1))\n",
        "# print(\"timesteps: \", timesteps)\n",
        "get_vlb_log_likelihood(model, scheduler, x_start_rotated_erasures, timesteps)"
      ],
      "metadata": {
        "colab": {
          "base_uri": "https://localhost:8080/"
        },
        "id": "hzGYy_cC17BE",
        "outputId": "84e57912-c548-4792-cb1c-096392b9b947"
      },
      "execution_count": 87,
      "outputs": [
        {
          "output_type": "stream",
          "name": "stdout",
          "text": [
            "torch.Size([200, 3, 32, 32])\n",
            "torch.Size([200, 3, 32, 32])\n",
            "tensor(-0.0231)\n",
            "CPU times: user 40.9 s, sys: 8.37 s, total: 49.2 s\n",
            "Wall time: 49.2 s\n"
          ]
        }
      ]
    },
    {
      "cell_type": "markdown",
      "source": [
        "### Calculate log likelihood on sample from DDPM, but rotated and with even more erasures"
      ],
      "metadata": {
        "id": "R74ZiQnRN8Rp"
      }
    },
    {
      "cell_type": "code",
      "source": [
        "x_start_rotated_erasures_extreme = copy.deepcopy(x_start_rotated)"
      ],
      "metadata": {
        "id": "bqPR9hy-N8Ru"
      },
      "execution_count": 88,
      "outputs": []
    },
    {
      "cell_type": "code",
      "source": [
        "x_start_rotated_erasures_extreme[:, :, 5: 27, :].shape"
      ],
      "metadata": {
        "colab": {
          "base_uri": "https://localhost:8080/"
        },
        "outputId": "97aaa830-d268-4fa1-9069-1ce373b1036a",
        "id": "3a8lx8cUN8Rv"
      },
      "execution_count": 89,
      "outputs": [
        {
          "output_type": "execute_result",
          "data": {
            "text/plain": [
              "torch.Size([1, 3, 22, 32])"
            ]
          },
          "metadata": {},
          "execution_count": 89
        }
      ]
    },
    {
      "cell_type": "code",
      "source": [
        "x_start_rotated_erasures_extreme[:, :, 5: 27, :] = torch.full((1, 3, 22, 32), -1.0)"
      ],
      "metadata": {
        "id": "V_MFxGf7N8Rv"
      },
      "execution_count": 90,
      "outputs": []
    },
    {
      "cell_type": "code",
      "source": [
        "image_processed = x_start_rotated_erasures_extreme.cpu().permute(0, 2, 3, 1)\n",
        "image_processed = (image_processed + 1.0) * 127.5\n",
        "image_processed = image_processed.numpy().astype(np.uint8)\n",
        "\n",
        "image_pil = PIL.Image.fromarray(image_processed[0])\n",
        "plt.figure(figsize=(3,3))   \n",
        "plt.imshow(image_pil)"
      ],
      "metadata": {
        "colab": {
          "base_uri": "https://localhost:8080/",
          "height": 310
        },
        "outputId": "9a402655-731d-4e58-ad63-fafe2a0619eb",
        "id": "EBdUUn83N8Rv"
      },
      "execution_count": 91,
      "outputs": [
        {
          "output_type": "execute_result",
          "data": {
            "text/plain": [
              "<matplotlib.image.AxesImage at 0x7f7226cfc670>"
            ]
          },
          "metadata": {},
          "execution_count": 91
        },
        {
          "output_type": "display_data",
          "data": {
            "text/plain": [
              "<Figure size 300x300 with 1 Axes>"
            ],
            "image/png": "[encoded data removed]"
          },
          "metadata": {}
        }
      ]
    },
    {
      "cell_type": "code",
      "source": [
        "%%time\n",
        "# timesteps = torch.randint(0, num_train_timesteps, (100,)).long()\n",
        "# timesteps = torch.LongTensor(np.arange(1, num_train_timesteps, 1))\n",
        "# print(\"timesteps: \", timesteps)\n",
        "get_vlb_log_likelihood(model, scheduler, x_start_rotated_erasures_extreme, timesteps)"
      ],
      "metadata": {
        "colab": {
          "base_uri": "https://localhost:8080/"
        },
        "outputId": "57316ad6-06b5-491f-a255-8a2f97a4b77c",
        "id": "FAvZV8blN8Rv"
      },
      "execution_count": 92,
      "outputs": [
        {
          "output_type": "stream",
          "name": "stdout",
          "text": [
            "torch.Size([200, 3, 32, 32])\n",
            "torch.Size([200, 3, 32, 32])\n",
            "tensor(-0.0131)\n",
            "CPU times: user 41.4 s, sys: 8.93 s, total: 50.4 s\n",
            "Wall time: 50.7 s\n"
          ]
        }
      ]
    },
    {
      "cell_type": "markdown",
      "source": [
        "### Calculate log likelihood on zero image"
      ],
      "metadata": {
        "id": "C1GF4Q0mOpqZ"
      }
    },
    {
      "cell_type": "code",
      "source": [
        "x_start_zero = torch.full(x_start.shape, -1.0)\n",
        "print(x_start_zero.shape)"
      ],
      "metadata": {
        "colab": {
          "base_uri": "https://localhost:8080/"
        },
        "id": "iLky-L0qOpqa",
        "outputId": "8b93517f-3150-43e2-bb4a-32317ec46c29"
      },
      "execution_count": 93,
      "outputs": [
        {
          "output_type": "stream",
          "name": "stdout",
          "text": [
            "torch.Size([1, 3, 32, 32])\n"
          ]
        }
      ]
    },
    {
      "cell_type": "code",
      "source": [
        "image_processed = x_start_zero.cpu().permute(0, 2, 3, 1)\n",
        "image_processed = (image_processed + 1.0) * 127.5\n",
        "image_processed = image_processed.numpy().astype(np.uint8)\n",
        "\n",
        "image_pil = PIL.Image.fromarray(image_processed[0])\n",
        "plt.figure(figsize=(3,3))   \n",
        "plt.imshow(image_pil)"
      ],
      "metadata": {
        "colab": {
          "base_uri": "https://localhost:8080/",
          "height": 310
        },
        "outputId": "905ae7a7-c056-4db6-95d3-99b2eed35cc8",
        "id": "RE_nd0dYOpqa"
      },
      "execution_count": 94,
      "outputs": [
        {
          "output_type": "execute_result",
          "data": {
            "text/plain": [
              "<matplotlib.image.AxesImage at 0x7f7226d1eb00>"
            ]
          },
          "metadata": {},
          "execution_count": 94
        },
        {
          "output_type": "display_data",
          "data": {
            "text/plain": [
              "<Figure size 300x300 with 1 Axes>"
            ],
            "image/png": "[encoded data removed]"
          },
          "metadata": {}
        }
      ]
    },
    {
      "cell_type": "code",
      "source": [
        "%%time\n",
        "# timesteps = torch.randint(0, num_train_timesteps, (100,)).long()\n",
        "# timesteps = torch.LongTensor(np.arange(1, num_train_timesteps, 1))\n",
        "# print(\"timesteps: \", timesteps)\n",
        "get_vlb_log_likelihood(model, scheduler, x_start_zero, timesteps)"
      ],
      "metadata": {
        "colab": {
          "base_uri": "https://localhost:8080/"
        },
        "outputId": "0ea84f1f-f6dc-4aa3-c475-83351b8c8fa4",
        "id": "VirYkJqtOpqa"
      },
      "execution_count": 95,
      "outputs": [
        {
          "output_type": "stream",
          "name": "stdout",
          "text": [
            "torch.Size([200, 3, 32, 32])\n",
            "torch.Size([200, 3, 32, 32])\n",
            "tensor(-0.0012)\n",
            "CPU times: user 39.4 s, sys: 8.62 s, total: 48 s\n",
            "Wall time: 48.1 s\n"
          ]
        }
      ]
    },
    {
      "cell_type": "markdown",
      "source": [
        "### Calculate log likelihood on sample from MNIST (out of distribution)"
      ],
      "metadata": {
        "id": "kbNiFWEW1nK_"
      }
    },
    {
      "cell_type": "code",
      "source": [
        "def load_data(path):\n",
        "    with np.load(path) as f:\n",
        "        x_train, y_train = f['x_train'], f['y_train']\n",
        "        x_test, y_test = f['x_test'], f['y_test']\n",
        "        return (x_train, y_train), (x_test, y_test)\n",
        "\n",
        "(mnist_x_train, mnist_y_train), (mnist_x_test, mnist_y_test) = load_data('drive/MyDrive/density_estimation/data/mnist/mnist.npz')"
      ],
      "metadata": {
        "id": "zS9merbunnYf"
      },
      "execution_count": 96,
      "outputs": []
    },
    {
      "cell_type": "code",
      "source": [
        "test_img_mnist = mnist_x_test[0]\n",
        "x_start_mnist = torch.tensor(test_img_mnist)\n",
        "x_start_mnist = torch.unsqueeze(x_start_mnist, 0)\n",
        "x_start_mnist = torch.unsqueeze(x_start_mnist, 0)\n",
        "print(x_start_mnist.shape)"
      ],
      "metadata": {
        "colab": {
          "base_uri": "https://localhost:8080/"
        },
        "id": "engcZO7WtPPc",
        "outputId": "de42f6c6-5a96-4a1d-f8f1-e26e45906594"
      },
      "execution_count": 97,
      "outputs": [
        {
          "output_type": "stream",
          "name": "stdout",
          "text": [
            "torch.Size([1, 1, 28, 28])\n"
          ]
        }
      ]
    },
    {
      "cell_type": "code",
      "source": [
        "plt.figure(figsize=(3,3))\n",
        "plt.imshow(test_img_mnist, cmap='gray')"
      ],
      "metadata": {
        "colab": {
          "base_uri": "https://localhost:8080/",
          "height": 310
        },
        "id": "tjiiS68jq-_4",
        "outputId": "b53942ec-55b0-4c1c-c115-c407d80f53ab"
      },
      "execution_count": 98,
      "outputs": [
        {
          "output_type": "execute_result",
          "data": {
            "text/plain": [
              "<matplotlib.image.AxesImage at 0x7f7226bc99f0>"
            ]
          },
          "metadata": {},
          "execution_count": 98
        },
        {
          "output_type": "display_data",
          "data": {
            "text/plain": [
              "<Figure size 300x300 with 1 Axes>"
            ],
            "image/png": "[encoded data removed]"
          },
          "metadata": {}
        }
      ]
    },
    {
      "cell_type": "code",
      "source": [
        "# x_start_mnist_padded = F.pad(input=x_start_mnist, pad=(0, 4, 0, 0), mode='constant', value=0.)\n",
        "# print(x_start_mnist_padded.shape)\n",
        "x_start_mnist_padded = torch.zeros(x_start.shape)\n",
        "x_start_mnist_padded[:, :1, :28, :28] = x_start_mnist\n",
        "\n",
        "print(x_start_mnist_padded.shape)"
      ],
      "metadata": {
        "colab": {
          "base_uri": "https://localhost:8080/"
        },
        "id": "SQsnSXPjv4_2",
        "outputId": "352307c1-0060-44a2-c9db-2ea9520c1810"
      },
      "execution_count": 99,
      "outputs": [
        {
          "output_type": "stream",
          "name": "stdout",
          "text": [
            "torch.Size([1, 3, 32, 32])\n"
          ]
        }
      ]
    },
    {
      "cell_type": "code",
      "source": [
        "test_img_mnist_padded = torch.squeeze(x_start_mnist_padded).permute(1, 2, 0).cpu().numpy()\n",
        "print(test_img_mnist_padded.shape)"
      ],
      "metadata": {
        "colab": {
          "base_uri": "https://localhost:8080/"
        },
        "id": "qIxCv_C8zXvL",
        "outputId": "bba32075-a7b2-4e61-83a8-1a3f00d6bac7"
      },
      "execution_count": 100,
      "outputs": [
        {
          "output_type": "stream",
          "name": "stdout",
          "text": [
            "(32, 32, 3)\n"
          ]
        }
      ]
    },
    {
      "cell_type": "code",
      "source": [
        "plt.figure(figsize=(3,3))\n",
        "plt.imshow(test_img_mnist_padded)"
      ],
      "metadata": {
        "colab": {
          "base_uri": "https://localhost:8080/",
          "height": 328
        },
        "id": "qFiV7DwLyiu8",
        "outputId": "53892738-9595-4803-82ec-710e1bda6c4a"
      },
      "execution_count": 101,
      "outputs": [
        {
          "output_type": "stream",
          "name": "stderr",
          "text": [
            "WARNING:matplotlib.image:Clipping input data to the valid range for imshow with RGB data ([0..1] for floats or [0..255] for integers).\n"
          ]
        },
        {
          "output_type": "execute_result",
          "data": {
            "text/plain": [
              "<matplotlib.image.AxesImage at 0x7f7226c396f0>"
            ]
          },
          "metadata": {},
          "execution_count": 101
        },
        {
          "output_type": "display_data",
          "data": {
            "text/plain": [
              "<Figure size 300x300 with 1 Axes>"
            ],
            "image/png": "[encoded data removed]"
          },
          "metadata": {}
        }
      ]
    },
    {
      "cell_type": "code",
      "source": [
        "display_sample_single(np.transpose(test_img_mnist_padded, (2, 0, 1)))"
      ],
      "metadata": {
        "colab": {
          "base_uri": "https://localhost:8080/",
          "height": 49
        },
        "id": "xDF32Y3a3fnU",
        "outputId": "ed431635-779d-483d-e82c-d90c5058407c"
      },
      "execution_count": 102,
      "outputs": [
        {
          "output_type": "display_data",
          "data": {
            "text/plain": [
              "<PIL.Image.Image image mode=RGB size=32x32 at 0x7F7226C93370>"
            ],
            "image/png": "[encoded data removed]"
          },
          "metadata": {}
        }
      ]
    },
    {
      "cell_type": "code",
      "source": [
        "image_processed = x_start_mnist_padded.permute(0, 2, 3, 1)\n",
        "# image_processed = (image_processed + 1.0) * 127.5\n",
        "image_processed = image_processed.numpy().astype(np.uint8)\n",
        "\n",
        "image_pil = PIL.Image.fromarray(image_processed[0])\n",
        "plt.figure(figsize=(3,3))   \n",
        "plt.imshow(image_pil)"
      ],
      "metadata": {
        "colab": {
          "base_uri": "https://localhost:8080/",
          "height": 310
        },
        "id": "ZJUM5-zXDcj9",
        "outputId": "f55337d7-9b14-4764-e4b3-3ae106e28df3"
      },
      "execution_count": 103,
      "outputs": [
        {
          "output_type": "execute_result",
          "data": {
            "text/plain": [
              "<matplotlib.image.AxesImage at 0x7f7226cb87c0>"
            ]
          },
          "metadata": {},
          "execution_count": 103
        },
        {
          "output_type": "display_data",
          "data": {
            "text/plain": [
              "<Figure size 300x300 with 1 Axes>"
            ],
            "image/png": "[encoded data removed]"
          },
          "metadata": {}
        }
      ]
    },
    {
      "cell_type": "code",
      "source": [
        "%%time\n",
        "# timesteps = torch.randint(0, num_train_timesteps, (100,)).long()\n",
        "# timesteps = torch.LongTensor(np.arange(1, num_train_timesteps, 1))\n",
        "get_vlb_log_likelihood(model, scheduler, x_start_mnist_padded, timesteps)"
      ],
      "metadata": {
        "colab": {
          "base_uri": "https://localhost:8080/"
        },
        "id": "6SKhMAYpzuU5",
        "outputId": "3b6076a3-2277-4dbf-d946-0a5095e3cf90"
      },
      "execution_count": 104,
      "outputs": [
        {
          "output_type": "stream",
          "name": "stdout",
          "text": [
            "torch.Size([200, 3, 32, 32])\n",
            "torch.Size([200, 3, 32, 32])\n",
            "tensor(-2.7556)\n",
            "CPU times: user 42.1 s, sys: 8.48 s, total: 50.6 s\n",
            "Wall time: 50.7 s\n"
          ]
        }
      ]
    },
    {
      "cell_type": "markdown",
      "source": [
        "### Calculate log likelihood on sample that is just random noise (out of distribution)"
      ],
      "metadata": {
        "id": "Ioii1-xr1tAM"
      }
    },
    {
      "cell_type": "code",
      "source": [
        "x_start_random = torch.rand(x_start.shape) * 256\n",
        "x_start_random.shape"
      ],
      "metadata": {
        "colab": {
          "base_uri": "https://localhost:8080/"
        },
        "id": "nfEBsgADuPvG",
        "outputId": "20790a53-90a0-4a21-a0e3-01827c431258"
      },
      "execution_count": 105,
      "outputs": [
        {
          "output_type": "execute_result",
          "data": {
            "text/plain": [
              "torch.Size([1, 3, 32, 32])"
            ]
          },
          "metadata": {},
          "execution_count": 105
        }
      ]
    },
    {
      "cell_type": "code",
      "source": [
        "%%time\n",
        "# timesteps = torch.randint(0, num_train_timesteps, (100,)).long()\n",
        "# timesteps = torch.LongTensor(np.arange(1, num_train_timesteps, 1))\n",
        "get_vlb_log_likelihood(model, scheduler, x_start_random, timesteps)"
      ],
      "metadata": {
        "colab": {
          "base_uri": "https://localhost:8080/"
        },
        "id": "ls9ef-d5OAMo",
        "outputId": "f7cf4508-c520-4274-8447-bb8668c2b9a4"
      },
      "execution_count": 106,
      "outputs": [
        {
          "output_type": "stream",
          "name": "stdout",
          "text": [
            "torch.Size([200, 3, 32, 32])\n",
            "torch.Size([200, 3, 32, 32])\n",
            "tensor(-3.8368)\n",
            "CPU times: user 42.3 s, sys: 8.87 s, total: 51.1 s\n",
            "Wall time: 51.2 s\n"
          ]
        }
      ]
    },
    {
      "cell_type": "markdown",
      "source": [
        "## Section 2: Images generated from original pre-trained CIFAR10 DDPM"
      ],
      "metadata": {
        "id": "9oDSkEQ18RrK"
      }
    },
    {
      "cell_type": "code",
      "source": [
        "sample_original = np.load(path_gen_images_original)[\"arr_0\"]\n",
        "sample_original.shape"
      ],
      "metadata": {
        "colab": {
          "base_uri": "https://localhost:8080/"
        },
        "id": "LYkZJAJXzdwf",
        "outputId": "dbf992c4-9fdf-43d2-f703-387db7937a61"
      },
      "execution_count": 107,
      "outputs": [
        {
          "output_type": "execute_result",
          "data": {
            "text/plain": [
              "(16, 3, 32, 32)"
            ]
          },
          "metadata": {},
          "execution_count": 107
        }
      ]
    },
    {
      "cell_type": "code",
      "source": [
        "for idx in range(0, sample_original.shape[0]):\n",
        "    display_sample(sample_original, idx=idx)"
      ],
      "metadata": {
        "colab": {
          "base_uri": "https://localhost:8080/",
          "height": 529
        },
        "id": "QqLpl9n83BVI",
        "outputId": "30dfda25-d37c-43da-8d12-6e5e98d2c801"
      },
      "execution_count": 108,
      "outputs": [
        {
          "output_type": "display_data",
          "data": {
            "text/plain": [
              "<PIL.Image.Image image mode=RGB size=32x32 at 0x7F7223E30070>"
            ],
            "image/png": "[encoded data removed]"
          },
          "metadata": {}
        },
        {
          "output_type": "display_data",
          "data": {
            "text/plain": [
              "<PIL.Image.Image image mode=RGB size=32x32 at 0x7F7223E31B70>"
            ],
            "image/png": "[encoded data removed]"
          },
          "metadata": {}
        },
        {
          "output_type": "display_data",
          "data": {
            "text/plain": [
              "<PIL.Image.Image image mode=RGB size=32x32 at 0x7F7223E30070>"
            ],
            "image/png": "[encoded data removed]"
          },
          "metadata": {}
        },
        {
          "output_type": "display_data",
          "data": {
            "text/plain": [
              "<PIL.Image.Image image mode=RGB size=32x32 at 0x7F7223E31B70>"
            ],
            "image/png": "[encoded data removed]"
          },
          "metadata": {}
        },
        {
          "output_type": "display_data",
          "data": {
            "text/plain": [
              "<PIL.Image.Image image mode=RGB size=32x32 at 0x7F7223E30070>"
            ],
            "image/png": "[encoded data removed]"
          },
          "metadata": {}
        },
        {
          "output_type": "display_data",
          "data": {
            "text/plain": [
              "<PIL.Image.Image image mode=RGB size=32x32 at 0x7F7223E31B70>"
            ],
            "image/png": "[encoded data removed]"
          },
          "metadata": {}
        },
        {
          "output_type": "display_data",
          "data": {
            "text/plain": [
              "<PIL.Image.Image image mode=RGB size=32x32 at 0x7F7223E30070>"
            ],
            "image/png": "[encoded data removed]"
          },
          "metadata": {}
        },
        {
          "output_type": "display_data",
          "data": {
            "text/plain": [
              "<PIL.Image.Image image mode=RGB size=32x32 at 0x7F7223E31B70>"
            ],
            "image/png": "[encoded data removed]"
          },
          "metadata": {}
        },
        {
          "output_type": "display_data",
          "data": {
            "text/plain": [
              "<PIL.Image.Image image mode=RGB size=32x32 at 0x7F7223E30070>"
            ],
            "image/png": "[encoded data removed]"
          },
          "metadata": {}
        },
        {
          "output_type": "display_data",
          "data": {
            "text/plain": [
              "<PIL.Image.Image image mode=RGB size=32x32 at 0x7F7223E31B70>"
            ],
            "image/png": "[encoded data removed]"
          },
          "metadata": {}
        },
        {
          "output_type": "display_data",
          "data": {
            "text/plain": [
              "<PIL.Image.Image image mode=RGB size=32x32 at 0x7F7223E30070>"
            ],
            "image/png": "[encoded data removed]"
          },
          "metadata": {}
        },
        {
          "output_type": "display_data",
          "data": {
            "text/plain": [
              "<PIL.Image.Image image mode=RGB size=32x32 at 0x7F7223E31B70>"
            ],
            "image/png": "[encoded data removed]"
          },
          "metadata": {}
        },
        {
          "output_type": "display_data",
          "data": {
            "text/plain": [
              "<PIL.Image.Image image mode=RGB size=32x32 at 0x7F7223E30070>"
            ],
            "image/png": "[encoded data removed]"
          },
          "metadata": {}
        },
        {
          "output_type": "display_data",
          "data": {
            "text/plain": [
              "<PIL.Image.Image image mode=RGB size=32x32 at 0x7F7223E31B70>"
            ],
            "image/png": "[encoded data removed]"
          },
          "metadata": {}
        },
        {
          "output_type": "display_data",
          "data": {
            "text/plain": [
              "<PIL.Image.Image image mode=RGB size=32x32 at 0x7F7223E30070>"
            ],
            "image/png": "[encoded data removed]"
          },
          "metadata": {}
        },
        {
          "output_type": "display_data",
          "data": {
            "text/plain": [
              "<PIL.Image.Image image mode=RGB size=32x32 at 0x7F7223E31B70>"
            ],
            "image/png": "[encoded data removed]"
          },
          "metadata": {}
        }
      ]
    },
    {
      "cell_type": "code",
      "source": [
        "display_images_grid(sample_original, (4, 4))"
      ],
      "metadata": {
        "colab": {
          "base_uri": "https://localhost:8080/",
          "height": 145
        },
        "id": "dpOX22QRC7NM",
        "outputId": "3a2dfdab-0dc6-4b37-bef2-56681e23cdb9"
      },
      "execution_count": 109,
      "outputs": [
        {
          "output_type": "display_data",
          "data": {
            "text/plain": [
              "<PIL.Image.Image image mode=RGB size=128x128 at 0x7F7223E32920>"
            ],
            "image/png": "[encoded data removed]"
          },
          "metadata": {}
        }
      ]
    },
    {
      "cell_type": "code",
      "source": [
        "# for idx in range(0, sample_original.shape[0]):\n",
        "#     display_sample(sample_original, idx=idx, custom_figsize=(5,5))"
      ],
      "metadata": {
        "id": "ifwdZq_X77zH"
      },
      "execution_count": 110,
      "outputs": []
    },
    {
      "cell_type": "code",
      "source": [],
      "metadata": {
        "id": "GW0JwoUD8CxT"
      },
      "execution_count": 110,
      "outputs": []
    }
  ]
}