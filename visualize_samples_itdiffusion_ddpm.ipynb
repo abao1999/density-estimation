{
  "nbformat": 4,
  "nbformat_minor": 0,
  "metadata": {
    "colab": {
      "provenance": [],
      "gpuType": "T4"
    },
    "kernelspec": {
      "name": "python3",
      "display_name": "Python 3"
    },
    "language_info": {
      "name": "python"
    },
    "accelerator": "GPU",
    "gpuClass": "standard",
    "widgets": {
      "application/vnd.jupyter.widget-state+json": {
        "743f7a42ce164c1bae7e479c2c13c14d": {
          "model_module": "@jupyter-widgets/controls",
          "model_name": "HBoxModel",
          "model_module_version": "1.5.0",
          "state": {
            "_dom_classes": [],
            "_model_module": "@jupyter-widgets/controls",
            "_model_module_version": "1.5.0",
            "_model_name": "HBoxModel",
            "_view_count": null,
            "_view_module": "@jupyter-widgets/controls",
            "_view_module_version": "1.5.0",
            "_view_name": "HBoxView",
            "box_style": "",
            "children": [
              "IPY_MODEL_d28eb4a7701844a08c338f962712ecd5",
              "IPY_MODEL_855df131402a4607868920593fef7af7",
              "IPY_MODEL_3dc8b86190d74331b097b2ae84a859d0"
            ],
            "layout": "IPY_MODEL_cd514b52691c432899bb6de8a3236a4e"
          }
        },
        "d28eb4a7701844a08c338f962712ecd5": {
          "model_module": "@jupyter-widgets/controls",
          "model_name": "HTMLModel",
          "model_module_version": "1.5.0",
          "state": {
            "_dom_classes": [],
            "_model_module": "@jupyter-widgets/controls",
            "_model_module_version": "1.5.0",
            "_model_name": "HTMLModel",
            "_view_count": null,
            "_view_module": "@jupyter-widgets/controls",
            "_view_module_version": "1.5.0",
            "_view_name": "HTMLView",
            "description": "",
            "description_tooltip": null,
            "layout": "IPY_MODEL_6aa45b77a2784f3e957a1dd4ec19d06b",
            "placeholder": "​",
            "style": "IPY_MODEL_894ba04494304f80be1995e0faa5c697",
            "value": "Downloading (…)lve/main/config.json: 100%"
          }
        },
        "855df131402a4607868920593fef7af7": {
          "model_module": "@jupyter-widgets/controls",
          "model_name": "FloatProgressModel",
          "model_module_version": "1.5.0",
          "state": {
            "_dom_classes": [],
            "_model_module": "@jupyter-widgets/controls",
            "_model_module_version": "1.5.0",
            "_model_name": "FloatProgressModel",
            "_view_count": null,
            "_view_module": "@jupyter-widgets/controls",
            "_view_module_version": "1.5.0",
            "_view_name": "ProgressView",
            "bar_style": "success",
            "description": "",
            "description_tooltip": null,
            "layout": "IPY_MODEL_916b56fd5b0b412aa8123c5bf25e8a09",
            "max": 699,
            "min": 0,
            "orientation": "horizontal",
            "style": "IPY_MODEL_cbeefc2a80664ad486f647adf6bb1164",
            "value": 699
          }
        },
        "3dc8b86190d74331b097b2ae84a859d0": {
          "model_module": "@jupyter-widgets/controls",
          "model_name": "HTMLModel",
          "model_module_version": "1.5.0",
          "state": {
            "_dom_classes": [],
            "_model_module": "@jupyter-widgets/controls",
            "_model_module_version": "1.5.0",
            "_model_name": "HTMLModel",
            "_view_count": null,
            "_view_module": "@jupyter-widgets/controls",
            "_view_module_version": "1.5.0",
            "_view_name": "HTMLView",
            "description": "",
            "description_tooltip": null,
            "layout": "IPY_MODEL_31ffd991dd4e4c98b50c6b5d5172bb8b",
            "placeholder": "​",
            "style": "IPY_MODEL_1662187daf2d4e13acbd951b94942beb",
            "value": " 699/699 [00:00&lt;00:00, 39.2kB/s]"
          }
        },
        "cd514b52691c432899bb6de8a3236a4e": {
          "model_module": "@jupyter-widgets/base",
          "model_name": "LayoutModel",
          "model_module_version": "1.2.0",
          "state": {
            "_model_module": "@jupyter-widgets/base",
            "_model_module_version": "1.2.0",
            "_model_name": "LayoutModel",
            "_view_count": null,
            "_view_module": "@jupyter-widgets/base",
            "_view_module_version": "1.2.0",
            "_view_name": "LayoutView",
            "align_content": null,
            "align_items": null,
            "align_self": null,
            "border": null,
            "bottom": null,
            "display": null,
            "flex": null,
            "flex_flow": null,
            "grid_area": null,
            "grid_auto_columns": null,
            "grid_auto_flow": null,
            "grid_auto_rows": null,
            "grid_column": null,
            "grid_gap": null,
            "grid_row": null,
            "grid_template_areas": null,
            "grid_template_columns": null,
            "grid_template_rows": null,
            "height": null,
            "justify_content": null,
            "justify_items": null,
            "left": null,
            "margin": null,
            "max_height": null,
            "max_width": null,
            "min_height": null,
            "min_width": null,
            "object_fit": null,
            "object_position": null,
            "order": null,
            "overflow": null,
            "overflow_x": null,
            "overflow_y": null,
            "padding": null,
            "right": null,
            "top": null,
            "visibility": null,
            "width": null
          }
        },
        "6aa45b77a2784f3e957a1dd4ec19d06b": {
          "model_module": "@jupyter-widgets/base",
          "model_name": "LayoutModel",
          "model_module_version": "1.2.0",
          "state": {
            "_model_module": "@jupyter-widgets/base",
            "_model_module_version": "1.2.0",
            "_model_name": "LayoutModel",
            "_view_count": null,
            "_view_module": "@jupyter-widgets/base",
            "_view_module_version": "1.2.0",
            "_view_name": "LayoutView",
            "align_content": null,
            "align_items": null,
            "align_self": null,
            "border": null,
            "bottom": null,
            "display": null,
            "flex": null,
            "flex_flow": null,
            "grid_area": null,
            "grid_auto_columns": null,
            "grid_auto_flow": null,
            "grid_auto_rows": null,
            "grid_column": null,
            "grid_gap": null,
            "grid_row": null,
            "grid_template_areas": null,
            "grid_template_columns": null,
            "grid_template_rows": null,
            "height": null,
            "justify_content": null,
            "justify_items": null,
            "left": null,
            "margin": null,
            "max_height": null,
            "max_width": null,
            "min_height": null,
            "min_width": null,
            "object_fit": null,
            "object_position": null,
            "order": null,
            "overflow": null,
            "overflow_x": null,
            "overflow_y": null,
            "padding": null,
            "right": null,
            "top": null,
            "visibility": null,
            "width": null
          }
        },
        "894ba04494304f80be1995e0faa5c697": {
          "model_module": "@jupyter-widgets/controls",
          "model_name": "DescriptionStyleModel",
          "model_module_version": "1.5.0",
          "state": {
            "_model_module": "@jupyter-widgets/controls",
            "_model_module_version": "1.5.0",
            "_model_name": "DescriptionStyleModel",
            "_view_count": null,
            "_view_module": "@jupyter-widgets/base",
            "_view_module_version": "1.2.0",
            "_view_name": "StyleView",
            "description_width": ""
          }
        },
        "916b56fd5b0b412aa8123c5bf25e8a09": {
          "model_module": "@jupyter-widgets/base",
          "model_name": "LayoutModel",
          "model_module_version": "1.2.0",
          "state": {
            "_model_module": "@jupyter-widgets/base",
            "_model_module_version": "1.2.0",
            "_model_name": "LayoutModel",
            "_view_count": null,
            "_view_module": "@jupyter-widgets/base",
            "_view_module_version": "1.2.0",
            "_view_name": "LayoutView",
            "align_content": null,
            "align_items": null,
            "align_self": null,
            "border": null,
            "bottom": null,
            "display": null,
            "flex": null,
            "flex_flow": null,
            "grid_area": null,
            "grid_auto_columns": null,
            "grid_auto_flow": null,
            "grid_auto_rows": null,
            "grid_column": null,
            "grid_gap": null,
            "grid_row": null,
            "grid_template_areas": null,
            "grid_template_columns": null,
            "grid_template_rows": null,
            "height": null,
            "justify_content": null,
            "justify_items": null,
            "left": null,
            "margin": null,
            "max_height": null,
            "max_width": null,
            "min_height": null,
            "min_width": null,
            "object_fit": null,
            "object_position": null,
            "order": null,
            "overflow": null,
            "overflow_x": null,
            "overflow_y": null,
            "padding": null,
            "right": null,
            "top": null,
            "visibility": null,
            "width": null
          }
        },
        "cbeefc2a80664ad486f647adf6bb1164": {
          "model_module": "@jupyter-widgets/controls",
          "model_name": "ProgressStyleModel",
          "model_module_version": "1.5.0",
          "state": {
            "_model_module": "@jupyter-widgets/controls",
            "_model_module_version": "1.5.0",
            "_model_name": "ProgressStyleModel",
            "_view_count": null,
            "_view_module": "@jupyter-widgets/base",
            "_view_module_version": "1.2.0",
            "_view_name": "StyleView",
            "bar_color": null,
            "description_width": ""
          }
        },
        "31ffd991dd4e4c98b50c6b5d5172bb8b": {
          "model_module": "@jupyter-widgets/base",
          "model_name": "LayoutModel",
          "model_module_version": "1.2.0",
          "state": {
            "_model_module": "@jupyter-widgets/base",
            "_model_module_version": "1.2.0",
            "_model_name": "LayoutModel",
            "_view_count": null,
            "_view_module": "@jupyter-widgets/base",
            "_view_module_version": "1.2.0",
            "_view_name": "LayoutView",
            "align_content": null,
            "align_items": null,
            "align_self": null,
            "border": null,
            "bottom": null,
            "display": null,
            "flex": null,
            "flex_flow": null,
            "grid_area": null,
            "grid_auto_columns": null,
            "grid_auto_flow": null,
            "grid_auto_rows": null,
            "grid_column": null,
            "grid_gap": null,
            "grid_row": null,
            "grid_template_areas": null,
            "grid_template_columns": null,
            "grid_template_rows": null,
            "height": null,
            "justify_content": null,
            "justify_items": null,
            "left": null,
            "margin": null,
            "max_height": null,
            "max_width": null,
            "min_height": null,
            "min_width": null,
            "object_fit": null,
            "object_position": null,
            "order": null,
            "overflow": null,
            "overflow_x": null,
            "overflow_y": null,
            "padding": null,
            "right": null,
            "top": null,
            "visibility": null,
            "width": null
          }
        },
        "1662187daf2d4e13acbd951b94942beb": {
          "model_module": "@jupyter-widgets/controls",
          "model_name": "DescriptionStyleModel",
          "model_module_version": "1.5.0",
          "state": {
            "_model_module": "@jupyter-widgets/controls",
            "_model_module_version": "1.5.0",
            "_model_name": "DescriptionStyleModel",
            "_view_count": null,
            "_view_module": "@jupyter-widgets/base",
            "_view_module_version": "1.2.0",
            "_view_name": "StyleView",
            "description_width": ""
          }
        },
        "5fa9e44cd6ab4374903d64dc69977893": {
          "model_module": "@jupyter-widgets/controls",
          "model_name": "HBoxModel",
          "model_module_version": "1.5.0",
          "state": {
            "_dom_classes": [],
            "_model_module": "@jupyter-widgets/controls",
            "_model_module_version": "1.5.0",
            "_model_name": "HBoxModel",
            "_view_count": null,
            "_view_module": "@jupyter-widgets/controls",
            "_view_module_version": "1.5.0",
            "_view_name": "HBoxView",
            "box_style": "",
            "children": [
              "IPY_MODEL_9f091d851c9d410d88a9783783a98636",
              "IPY_MODEL_a1caeb7816e449619ae6a727f4b6f6ec",
              "IPY_MODEL_ba3eace5a442428ab73dd65fae6baac6"
            ],
            "layout": "IPY_MODEL_cd86e084ebef4afba47020eff2acaa75"
          }
        },
        "9f091d851c9d410d88a9783783a98636": {
          "model_module": "@jupyter-widgets/controls",
          "model_name": "HTMLModel",
          "model_module_version": "1.5.0",
          "state": {
            "_dom_classes": [],
            "_model_module": "@jupyter-widgets/controls",
            "_model_module_version": "1.5.0",
            "_model_name": "HTMLModel",
            "_view_count": null,
            "_view_module": "@jupyter-widgets/controls",
            "_view_module_version": "1.5.0",
            "_view_name": "HTMLView",
            "description": "",
            "description_tooltip": null,
            "layout": "IPY_MODEL_d8011fa287f646db8999fea1b641af12",
            "placeholder": "​",
            "style": "IPY_MODEL_1711e044dd3b40e7ad652a570d1abb2e",
            "value": "Downloading (…)on_pytorch_model.bin: 100%"
          }
        },
        "a1caeb7816e449619ae6a727f4b6f6ec": {
          "model_module": "@jupyter-widgets/controls",
          "model_name": "FloatProgressModel",
          "model_module_version": "1.5.0",
          "state": {
            "_dom_classes": [],
            "_model_module": "@jupyter-widgets/controls",
            "_model_module_version": "1.5.0",
            "_model_name": "FloatProgressModel",
            "_view_count": null,
            "_view_module": "@jupyter-widgets/controls",
            "_view_module_version": "1.5.0",
            "_view_name": "ProgressView",
            "bar_style": "success",
            "description": "",
            "description_tooltip": null,
            "layout": "IPY_MODEL_6686e1e07b1b49799517d4c1de1e70bc",
            "max": 143101489,
            "min": 0,
            "orientation": "horizontal",
            "style": "IPY_MODEL_a4101177c9134e8b8d11563ab3a83b34",
            "value": 143101489
          }
        },
        "ba3eace5a442428ab73dd65fae6baac6": {
          "model_module": "@jupyter-widgets/controls",
          "model_name": "HTMLModel",
          "model_module_version": "1.5.0",
          "state": {
            "_dom_classes": [],
            "_model_module": "@jupyter-widgets/controls",
            "_model_module_version": "1.5.0",
            "_model_name": "HTMLModel",
            "_view_count": null,
            "_view_module": "@jupyter-widgets/controls",
            "_view_module_version": "1.5.0",
            "_view_name": "HTMLView",
            "description": "",
            "description_tooltip": null,
            "layout": "IPY_MODEL_b4a3397a05ae4a04af75c3ddf16198b0",
            "placeholder": "​",
            "style": "IPY_MODEL_b28e32e3fa824e8bb48912f3d5641748",
            "value": " 143M/143M [00:00&lt;00:00, 212MB/s]"
          }
        },
        "cd86e084ebef4afba47020eff2acaa75": {
          "model_module": "@jupyter-widgets/base",
          "model_name": "LayoutModel",
          "model_module_version": "1.2.0",
          "state": {
            "_model_module": "@jupyter-widgets/base",
            "_model_module_version": "1.2.0",
            "_model_name": "LayoutModel",
            "_view_count": null,
            "_view_module": "@jupyter-widgets/base",
            "_view_module_version": "1.2.0",
            "_view_name": "LayoutView",
            "align_content": null,
            "align_items": null,
            "align_self": null,
            "border": null,
            "bottom": null,
            "display": null,
            "flex": null,
            "flex_flow": null,
            "grid_area": null,
            "grid_auto_columns": null,
            "grid_auto_flow": null,
            "grid_auto_rows": null,
            "grid_column": null,
            "grid_gap": null,
            "grid_row": null,
            "grid_template_areas": null,
            "grid_template_columns": null,
            "grid_template_rows": null,
            "height": null,
            "justify_content": null,
            "justify_items": null,
            "left": null,
            "margin": null,
            "max_height": null,
            "max_width": null,
            "min_height": null,
            "min_width": null,
            "object_fit": null,
            "object_position": null,
            "order": null,
            "overflow": null,
            "overflow_x": null,
            "overflow_y": null,
            "padding": null,
            "right": null,
            "top": null,
            "visibility": null,
            "width": null
          }
        },
        "d8011fa287f646db8999fea1b641af12": {
          "model_module": "@jupyter-widgets/base",
          "model_name": "LayoutModel",
          "model_module_version": "1.2.0",
          "state": {
            "_model_module": "@jupyter-widgets/base",
            "_model_module_version": "1.2.0",
            "_model_name": "LayoutModel",
            "_view_count": null,
            "_view_module": "@jupyter-widgets/base",
            "_view_module_version": "1.2.0",
            "_view_name": "LayoutView",
            "align_content": null,
            "align_items": null,
            "align_self": null,
            "border": null,
            "bottom": null,
            "display": null,
            "flex": null,
            "flex_flow": null,
            "grid_area": null,
            "grid_auto_columns": null,
            "grid_auto_flow": null,
            "grid_auto_rows": null,
            "grid_column": null,
            "grid_gap": null,
            "grid_row": null,
            "grid_template_areas": null,
            "grid_template_columns": null,
            "grid_template_rows": null,
            "height": null,
            "justify_content": null,
            "justify_items": null,
            "left": null,
            "margin": null,
            "max_height": null,
            "max_width": null,
            "min_height": null,
            "min_width": null,
            "object_fit": null,
            "object_position": null,
            "order": null,
            "overflow": null,
            "overflow_x": null,
            "overflow_y": null,
            "padding": null,
            "right": null,
            "top": null,
            "visibility": null,
            "width": null
          }
        },
        "1711e044dd3b40e7ad652a570d1abb2e": {
          "model_module": "@jupyter-widgets/controls",
          "model_name": "DescriptionStyleModel",
          "model_module_version": "1.5.0",
          "state": {
            "_model_module": "@jupyter-widgets/controls",
            "_model_module_version": "1.5.0",
            "_model_name": "DescriptionStyleModel",
            "_view_count": null,
            "_view_module": "@jupyter-widgets/base",
            "_view_module_version": "1.2.0",
            "_view_name": "StyleView",
            "description_width": ""
          }
        },
        "6686e1e07b1b49799517d4c1de1e70bc": {
          "model_module": "@jupyter-widgets/base",
          "model_name": "LayoutModel",
          "model_module_version": "1.2.0",
          "state": {
            "_model_module": "@jupyter-widgets/base",
            "_model_module_version": "1.2.0",
            "_model_name": "LayoutModel",
            "_view_count": null,
            "_view_module": "@jupyter-widgets/base",
            "_view_module_version": "1.2.0",
            "_view_name": "LayoutView",
            "align_content": null,
            "align_items": null,
            "align_self": null,
            "border": null,
            "bottom": null,
            "display": null,
            "flex": null,
            "flex_flow": null,
            "grid_area": null,
            "grid_auto_columns": null,
            "grid_auto_flow": null,
            "grid_auto_rows": null,
            "grid_column": null,
            "grid_gap": null,
            "grid_row": null,
            "grid_template_areas": null,
            "grid_template_columns": null,
            "grid_template_rows": null,
            "height": null,
            "justify_content": null,
            "justify_items": null,
            "left": null,
            "margin": null,
            "max_height": null,
            "max_width": null,
            "min_height": null,
            "min_width": null,
            "object_fit": null,
            "object_position": null,
            "order": null,
            "overflow": null,
            "overflow_x": null,
            "overflow_y": null,
            "padding": null,
            "right": null,
            "top": null,
            "visibility": null,
            "width": null
          }
        },
        "a4101177c9134e8b8d11563ab3a83b34": {
          "model_module": "@jupyter-widgets/controls",
          "model_name": "ProgressStyleModel",
          "model_module_version": "1.5.0",
          "state": {
            "_model_module": "@jupyter-widgets/controls",
            "_model_module_version": "1.5.0",
            "_model_name": "ProgressStyleModel",
            "_view_count": null,
            "_view_module": "@jupyter-widgets/base",
            "_view_module_version": "1.2.0",
            "_view_name": "StyleView",
            "bar_color": null,
            "description_width": ""
          }
        },
        "b4a3397a05ae4a04af75c3ddf16198b0": {
          "model_module": "@jupyter-widgets/base",
          "model_name": "LayoutModel",
          "model_module_version": "1.2.0",
          "state": {
            "_model_module": "@jupyter-widgets/base",
            "_model_module_version": "1.2.0",
            "_model_name": "LayoutModel",
            "_view_count": null,
            "_view_module": "@jupyter-widgets/base",
            "_view_module_version": "1.2.0",
            "_view_name": "LayoutView",
            "align_content": null,
            "align_items": null,
            "align_self": null,
            "border": null,
            "bottom": null,
            "display": null,
            "flex": null,
            "flex_flow": null,
            "grid_area": null,
            "grid_auto_columns": null,
            "grid_auto_flow": null,
            "grid_auto_rows": null,
            "grid_column": null,
            "grid_gap": null,
            "grid_row": null,
            "grid_template_areas": null,
            "grid_template_columns": null,
            "grid_template_rows": null,
            "height": null,
            "justify_content": null,
            "justify_items": null,
            "left": null,
            "margin": null,
            "max_height": null,
            "max_width": null,
            "min_height": null,
            "min_width": null,
            "object_fit": null,
            "object_position": null,
            "order": null,
            "overflow": null,
            "overflow_x": null,
            "overflow_y": null,
            "padding": null,
            "right": null,
            "top": null,
            "visibility": null,
            "width": null
          }
        },
        "b28e32e3fa824e8bb48912f3d5641748": {
          "model_module": "@jupyter-widgets/controls",
          "model_name": "DescriptionStyleModel",
          "model_module_version": "1.5.0",
          "state": {
            "_model_module": "@jupyter-widgets/controls",
            "_model_module_version": "1.5.0",
            "_model_name": "DescriptionStyleModel",
            "_view_count": null,
            "_view_module": "@jupyter-widgets/base",
            "_view_module_version": "1.2.0",
            "_view_name": "StyleView",
            "description_width": ""
          }
        },
        "67232c68d2b24969a7e6506fe71e5aed": {
          "model_module": "@jupyter-widgets/controls",
          "model_name": "HBoxModel",
          "model_module_version": "1.5.0",
          "state": {
            "_dom_classes": [],
            "_model_module": "@jupyter-widgets/controls",
            "_model_module_version": "1.5.0",
            "_model_name": "HBoxModel",
            "_view_count": null,
            "_view_module": "@jupyter-widgets/controls",
            "_view_module_version": "1.5.0",
            "_view_name": "HBoxView",
            "box_style": "",
            "children": [
              "IPY_MODEL_d6738a62787a46f48696be93770b21a5",
              "IPY_MODEL_9dde2d81da074053961f97387553684a",
              "IPY_MODEL_2997fa31f57044f4ba763cda71705708"
            ],
            "layout": "IPY_MODEL_470706f3ce1f49aaa86199e7b9c8f236"
          }
        },
        "d6738a62787a46f48696be93770b21a5": {
          "model_module": "@jupyter-widgets/controls",
          "model_name": "HTMLModel",
          "model_module_version": "1.5.0",
          "state": {
            "_dom_classes": [],
            "_model_module": "@jupyter-widgets/controls",
            "_model_module_version": "1.5.0",
            "_model_name": "HTMLModel",
            "_view_count": null,
            "_view_module": "@jupyter-widgets/controls",
            "_view_module_version": "1.5.0",
            "_view_name": "HTMLView",
            "description": "",
            "description_tooltip": null,
            "layout": "IPY_MODEL_086947c38965435b99678e6cff2a9452",
            "placeholder": "​",
            "style": "IPY_MODEL_185e23afe1e94ac5b2aed7f6980a1443",
            "value": "Downloading (…)cheduler_config.json: 100%"
          }
        },
        "9dde2d81da074053961f97387553684a": {
          "model_module": "@jupyter-widgets/controls",
          "model_name": "FloatProgressModel",
          "model_module_version": "1.5.0",
          "state": {
            "_dom_classes": [],
            "_model_module": "@jupyter-widgets/controls",
            "_model_module_version": "1.5.0",
            "_model_name": "FloatProgressModel",
            "_view_count": null,
            "_view_module": "@jupyter-widgets/controls",
            "_view_module_version": "1.5.0",
            "_view_name": "ProgressView",
            "bar_style": "success",
            "description": "",
            "description_tooltip": null,
            "layout": "IPY_MODEL_21520e902ca84980b8d6da79dfa38e13",
            "max": 256,
            "min": 0,
            "orientation": "horizontal",
            "style": "IPY_MODEL_d5d1fae3d47e4816ac4573a5e13b4f4e",
            "value": 256
          }
        },
        "2997fa31f57044f4ba763cda71705708": {
          "model_module": "@jupyter-widgets/controls",
          "model_name": "HTMLModel",
          "model_module_version": "1.5.0",
          "state": {
            "_dom_classes": [],
            "_model_module": "@jupyter-widgets/controls",
            "_model_module_version": "1.5.0",
            "_model_name": "HTMLModel",
            "_view_count": null,
            "_view_module": "@jupyter-widgets/controls",
            "_view_module_version": "1.5.0",
            "_view_name": "HTMLView",
            "description": "",
            "description_tooltip": null,
            "layout": "IPY_MODEL_416e50e91a92460aa0e95c3ddae5b709",
            "placeholder": "​",
            "style": "IPY_MODEL_b69e09d109a5452a9f22b52784e8ce54",
            "value": " 256/256 [00:00&lt;00:00, 17.6kB/s]"
          }
        },
        "470706f3ce1f49aaa86199e7b9c8f236": {
          "model_module": "@jupyter-widgets/base",
          "model_name": "LayoutModel",
          "model_module_version": "1.2.0",
          "state": {
            "_model_module": "@jupyter-widgets/base",
            "_model_module_version": "1.2.0",
            "_model_name": "LayoutModel",
            "_view_count": null,
            "_view_module": "@jupyter-widgets/base",
            "_view_module_version": "1.2.0",
            "_view_name": "LayoutView",
            "align_content": null,
            "align_items": null,
            "align_self": null,
            "border": null,
            "bottom": null,
            "display": null,
            "flex": null,
            "flex_flow": null,
            "grid_area": null,
            "grid_auto_columns": null,
            "grid_auto_flow": null,
            "grid_auto_rows": null,
            "grid_column": null,
            "grid_gap": null,
            "grid_row": null,
            "grid_template_areas": null,
            "grid_template_columns": null,
            "grid_template_rows": null,
            "height": null,
            "justify_content": null,
            "justify_items": null,
            "left": null,
            "margin": null,
            "max_height": null,
            "max_width": null,
            "min_height": null,
            "min_width": null,
            "object_fit": null,
            "object_position": null,
            "order": null,
            "overflow": null,
            "overflow_x": null,
            "overflow_y": null,
            "padding": null,
            "right": null,
            "top": null,
            "visibility": null,
            "width": null
          }
        },
        "086947c38965435b99678e6cff2a9452": {
          "model_module": "@jupyter-widgets/base",
          "model_name": "LayoutModel",
          "model_module_version": "1.2.0",
          "state": {
            "_model_module": "@jupyter-widgets/base",
            "_model_module_version": "1.2.0",
            "_model_name": "LayoutModel",
            "_view_count": null,
            "_view_module": "@jupyter-widgets/base",
            "_view_module_version": "1.2.0",
            "_view_name": "LayoutView",
            "align_content": null,
            "align_items": null,
            "align_self": null,
            "border": null,
            "bottom": null,
            "display": null,
            "flex": null,
            "flex_flow": null,
            "grid_area": null,
            "grid_auto_columns": null,
            "grid_auto_flow": null,
            "grid_auto_rows": null,
            "grid_column": null,
            "grid_gap": null,
            "grid_row": null,
            "grid_template_areas": null,
            "grid_template_columns": null,
            "grid_template_rows": null,
            "height": null,
            "justify_content": null,
            "justify_items": null,
            "left": null,
            "margin": null,
            "max_height": null,
            "max_width": null,
            "min_height": null,
            "min_width": null,
            "object_fit": null,
            "object_position": null,
            "order": null,
            "overflow": null,
            "overflow_x": null,
            "overflow_y": null,
            "padding": null,
            "right": null,
            "top": null,
            "visibility": null,
            "width": null
          }
        },
        "185e23afe1e94ac5b2aed7f6980a1443": {
          "model_module": "@jupyter-widgets/controls",
          "model_name": "DescriptionStyleModel",
          "model_module_version": "1.5.0",
          "state": {
            "_model_module": "@jupyter-widgets/controls",
            "_model_module_version": "1.5.0",
            "_model_name": "DescriptionStyleModel",
            "_view_count": null,
            "_view_module": "@jupyter-widgets/base",
            "_view_module_version": "1.2.0",
            "_view_name": "StyleView",
            "description_width": ""
          }
        },
        "21520e902ca84980b8d6da79dfa38e13": {
          "model_module": "@jupyter-widgets/base",
          "model_name": "LayoutModel",
          "model_module_version": "1.2.0",
          "state": {
            "_model_module": "@jupyter-widgets/base",
            "_model_module_version": "1.2.0",
            "_model_name": "LayoutModel",
            "_view_count": null,
            "_view_module": "@jupyter-widgets/base",
            "_view_module_version": "1.2.0",
            "_view_name": "LayoutView",
            "align_content": null,
            "align_items": null,
            "align_self": null,
            "border": null,
            "bottom": null,
            "display": null,
            "flex": null,
            "flex_flow": null,
            "grid_area": null,
            "grid_auto_columns": null,
            "grid_auto_flow": null,
            "grid_auto_rows": null,
            "grid_column": null,
            "grid_gap": null,
            "grid_row": null,
            "grid_template_areas": null,
            "grid_template_columns": null,
            "grid_template_rows": null,
            "height": null,
            "justify_content": null,
            "justify_items": null,
            "left": null,
            "margin": null,
            "max_height": null,
            "max_width": null,
            "min_height": null,
            "min_width": null,
            "object_fit": null,
            "object_position": null,
            "order": null,
            "overflow": null,
            "overflow_x": null,
            "overflow_y": null,
            "padding": null,
            "right": null,
            "top": null,
            "visibility": null,
            "width": null
          }
        },
        "d5d1fae3d47e4816ac4573a5e13b4f4e": {
          "model_module": "@jupyter-widgets/controls",
          "model_name": "ProgressStyleModel",
          "model_module_version": "1.5.0",
          "state": {
            "_model_module": "@jupyter-widgets/controls",
            "_model_module_version": "1.5.0",
            "_model_name": "ProgressStyleModel",
            "_view_count": null,
            "_view_module": "@jupyter-widgets/base",
            "_view_module_version": "1.2.0",
            "_view_name": "StyleView",
            "bar_color": null,
            "description_width": ""
          }
        },
        "416e50e91a92460aa0e95c3ddae5b709": {
          "model_module": "@jupyter-widgets/base",
          "model_name": "LayoutModel",
          "model_module_version": "1.2.0",
          "state": {
            "_model_module": "@jupyter-widgets/base",
            "_model_module_version": "1.2.0",
            "_model_name": "LayoutModel",
            "_view_count": null,
            "_view_module": "@jupyter-widgets/base",
            "_view_module_version": "1.2.0",
            "_view_name": "LayoutView",
            "align_content": null,
            "align_items": null,
            "align_self": null,
            "border": null,
            "bottom": null,
            "display": null,
            "flex": null,
            "flex_flow": null,
            "grid_area": null,
            "grid_auto_columns": null,
            "grid_auto_flow": null,
            "grid_auto_rows": null,
            "grid_column": null,
            "grid_gap": null,
            "grid_row": null,
            "grid_template_areas": null,
            "grid_template_columns": null,
            "grid_template_rows": null,
            "height": null,
            "justify_content": null,
            "justify_items": null,
            "left": null,
            "margin": null,
            "max_height": null,
            "max_width": null,
            "min_height": null,
            "min_width": null,
            "object_fit": null,
            "object_position": null,
            "order": null,
            "overflow": null,
            "overflow_x": null,
            "overflow_y": null,
            "padding": null,
            "right": null,
            "top": null,
            "visibility": null,
            "width": null
          }
        },
        "b69e09d109a5452a9f22b52784e8ce54": {
          "model_module": "@jupyter-widgets/controls",
          "model_name": "DescriptionStyleModel",
          "model_module_version": "1.5.0",
          "state": {
            "_model_module": "@jupyter-widgets/controls",
            "_model_module_version": "1.5.0",
            "_model_name": "DescriptionStyleModel",
            "_view_count": null,
            "_view_module": "@jupyter-widgets/base",
            "_view_module_version": "1.2.0",
            "_view_name": "StyleView",
            "description_width": ""
          }
        }
      }
    }
  },
  "cells": [
    {
      "cell_type": "markdown",
      "source": [
        "# Image Generation from ITdiffusion fine-tuning on CIFAR10 DDPM\n",
        "\n",
        "We had previously sampled from the model (see  [sample_ITdiffusion_DDIM_cifar10_fine_tuned.ipynb](https://colab.research.google.com/drive/1cwAYqq1Jxhe0iGziStztxeEqqgndmaSQ?usp=sharing)) and saved the results in .npz files. In this notebook, we read these files and display the images"
      ],
      "metadata": {
        "id": "2XraaV2Z8y9A"
      }
    },
    {
      "cell_type": "markdown",
      "source": [
        "## Imports and setup and utils"
      ],
      "metadata": {
        "id": "GIDOS5H-ERzB"
      }
    },
    {
      "cell_type": "code",
      "execution_count": 1,
      "metadata": {
        "colab": {
          "base_uri": "https://localhost:8080/"
        },
        "id": "z5sezubIweEI",
        "outputId": "e27253c7-d4c3-4317-9ba1-1016148eec9e"
      },
      "outputs": [
        {
          "output_type": "stream",
          "name": "stdout",
          "text": [
            "Mounted at /content/drive\n"
          ]
        }
      ],
      "source": [
        "from google.colab import drive\n",
        "drive.mount('/content/drive', force_remount=True)"
      ]
    },
    {
      "cell_type": "markdown",
      "source": [
        "### Setup and loading saved image arrays"
      ],
      "metadata": {
        "id": "v4wk079a8uzF"
      }
    },
    {
      "cell_type": "code",
      "source": [
        "import os"
      ],
      "metadata": {
        "id": "OTbaszOLxe9V"
      },
      "execution_count": 2,
      "outputs": []
    },
    {
      "cell_type": "code",
      "source": [
        "dir_gen_images = \"drive/MyDrive/density_estimation/generated_images/generated_images_cifar10_ddpm/small/\"\n",
        "!ls $dir_gen_images"
      ],
      "metadata": {
        "colab": {
          "base_uri": "https://localhost:8080/"
        },
        "id": "TUdpd9Iz7WCX",
        "outputId": "5bcf1110-6921-4324-e7e6-9ec31b74c843"
      },
      "execution_count": 3,
      "outputs": [
        {
          "output_type": "stream",
          "name": "stdout",
          "text": [
            "gen_cifar10_fine_tuned.npz  gen_cifar10_original.npz\n"
          ]
        }
      ]
    },
    {
      "cell_type": "code",
      "source": [
        "path_gen_images_fine_tuned = os.path.join(dir_gen_images, \"gen_cifar10_fine_tuned.npz\")\n",
        "!stat $path_gen_images_fine_tuned"
      ],
      "metadata": {
        "colab": {
          "base_uri": "https://localhost:8080/"
        },
        "id": "xdi_-pVtxbRC",
        "outputId": "bb9cedd3-51ec-4c71-c253-3963cddeb149"
      },
      "execution_count": 4,
      "outputs": [
        {
          "output_type": "stream",
          "name": "stdout",
          "text": [
            "  File: drive/MyDrive/density_estimation/generated_images/generated_images_cifar10_ddpm/small/gen_cifar10_fine_tuned.npz\n",
            "  Size: 196872    \tBlocks: 385        IO Block: 65536  regular file\n",
            "Device: 28h/40d\tInode: 508         Links: 1\n",
            "Access: (0600/-rw-------)  Uid: (    0/    root)   Gid: (    0/    root)\n",
            "Access: 2023-04-27 23:13:06.000000000 +0000\n",
            "Modify: 2023-04-27 23:11:39.000000000 +0000\n",
            "Change: 2023-04-27 23:13:06.000000000 +0000\n",
            " Birth: -\n"
          ]
        }
      ]
    },
    {
      "cell_type": "code",
      "source": [
        "path_gen_images_original = os.path.join(dir_gen_images, \"gen_cifar10_original.npz\")\n",
        "!stat $path_gen_images_original"
      ],
      "metadata": {
        "colab": {
          "base_uri": "https://localhost:8080/"
        },
        "id": "Wf_E0N_P7fVE",
        "outputId": "578eb4ff-b270-475f-f3f8-b41d09a8b915"
      },
      "execution_count": 5,
      "outputs": [
        {
          "output_type": "stream",
          "name": "stdout",
          "text": [
            "  File: drive/MyDrive/density_estimation/generated_images/generated_images_cifar10_ddpm/small/gen_cifar10_original.npz\n",
            "  Size: 196872    \tBlocks: 385        IO Block: 65536  regular file\n",
            "Device: 28h/40d\tInode: 509         Links: 1\n",
            "Access: (0600/-rw-------)  Uid: (    0/    root)   Gid: (    0/    root)\n",
            "Access: 2023-04-27 23:13:06.000000000 +0000\n",
            "Modify: 2023-04-27 23:11:46.000000000 +0000\n",
            "Change: 2023-04-27 23:13:06.000000000 +0000\n",
            " Birth: -\n"
          ]
        }
      ]
    },
    {
      "cell_type": "code",
      "source": [
        "def display_images_grid(images, grid_shape):\n",
        "    n, _, w, h = images.shape\n",
        "    n_rows = w * grid_shape[0]\n",
        "    n_cols = h * grid_shape[1]\n",
        "\n",
        "    assert n >= grid_shape[0] * grid_shape[1], \"you have fewer images than grid spaces!\"\n",
        "\n",
        "    new_im = PIL.Image.new('RGB', (n_rows, n_cols))\n",
        "\n",
        "    idx = 0\n",
        "    for i in range(0, n_rows, w):\n",
        "        for j in range(0, n_cols, h):\n",
        "            image_processed = np.transpose(images[idx:idx+1], (0, 2, 3, 1))\n",
        "            image_processed = (image_processed + 1.0) * 127.5\n",
        "            image_processed = image_processed.astype(np.uint8)\n",
        "            im=PIL.Image.fromarray(image_processed[0])\n",
        "            #paste the image at location i,j:\n",
        "            new_im.paste(im, (i,j))\n",
        "            idx += 1\n",
        "\n",
        "    new_im.show()"
      ],
      "metadata": {
        "id": "k23qqjRd8eI1"
      },
      "execution_count": 6,
      "outputs": []
    },
    {
      "cell_type": "code",
      "source": [
        "import PIL.Image\n",
        "import numpy as np\n",
        "%matplotlib inline\n",
        "import matplotlib.pyplot as plt\n",
        "\n",
        "\n",
        "def display_sample(sample, idx=0, custom_figsize=None):\n",
        "    # image_processed = sample.permute(0, 2, 3, 1).astype(np.uint8)\n",
        "    image_processed = np.transpose(sample, (0, 2, 3, 1))\n",
        "    image_processed = (image_processed + 1.0) * 127.5\n",
        "    # print(image_processed.shape)\n",
        "    image_processed = image_processed.astype(np.uint8)\n",
        "    image_pil = PIL.Image.fromarray(image_processed[idx])\n",
        "\n",
        "    if custom_figsize:\n",
        "        plt.figure(figsize=custom_figsize)\n",
        "        plt.imshow(image_pil)\n",
        "\n",
        "    else:\n",
        "        display(image_pil)    \n",
        "\n",
        "\n",
        "def display_sample_single(sample, custom_figsize=None):\n",
        "    image_processed = np.transpose(sample, (1, 2, 0))\n",
        "    image_processed = (image_processed + 1.0) * 127.5\n",
        "    image_processed = image_processed.astype(np.uint8)\n",
        "    image_pil = PIL.Image.fromarray(image_processed)\n",
        "\n",
        "    if custom_figsize:\n",
        "        plt.figure(figsize=custom_figsize)\n",
        "        plt.imshow(image_pil)\n",
        "\n",
        "    else:\n",
        "        display(image_pil) "
      ],
      "metadata": {
        "id": "oZ1kbC95yHyV"
      },
      "execution_count": 7,
      "outputs": []
    },
    {
      "cell_type": "markdown",
      "source": [
        "## Section 1: Images generated after using ITdiffusion to fine-tune pre-trained CIFAR10 DDPM"
      ],
      "metadata": {
        "id": "JG5nAwKZ8atH"
      }
    },
    {
      "cell_type": "code",
      "source": [
        "sample_fine_tuned = np.load(path_gen_images_fine_tuned)[\"arr_0\"]\n",
        "sample_fine_tuned.shape"
      ],
      "metadata": {
        "colab": {
          "base_uri": "https://localhost:8080/"
        },
        "id": "S6u9pKq6wlHz",
        "outputId": "eb65cb9a-ae41-4259-cf33-8f4335db3cd5"
      },
      "execution_count": 8,
      "outputs": [
        {
          "output_type": "execute_result",
          "data": {
            "text/plain": [
              "(16, 3, 32, 32)"
            ]
          },
          "metadata": {},
          "execution_count": 8
        }
      ]
    },
    {
      "cell_type": "code",
      "source": [
        "# for idx in range(0, sample_fine_tuned.shape[0]):\n",
        "#     display_sample(sample_fine_tuned, idx=idx)"
      ],
      "metadata": {
        "id": "FYAKu9kNzvW-"
      },
      "execution_count": 9,
      "outputs": []
    },
    {
      "cell_type": "code",
      "source": [
        "display_images_grid(sample_fine_tuned, (4, 4))"
      ],
      "metadata": {
        "colab": {
          "base_uri": "https://localhost:8080/",
          "height": 145
        },
        "id": "zqmEBx4KCKwT",
        "outputId": "f9db5acd-9d5c-4836-a879-0d5a9759c547"
      },
      "execution_count": 10,
      "outputs": [
        {
          "output_type": "display_data",
          "data": {
            "text/plain": [
              "<PIL.Image.Image image mode=RGB size=128x128 at 0x7EFF220BEFB0>"
            ],
            "image/png": "[encoded data removed]"
          },
          "metadata": {}
        }
      ]
    },
    {
      "cell_type": "code",
      "source": [
        "display_sample(sample_fine_tuned, idx=0)"
      ],
      "metadata": {
        "colab": {
          "base_uri": "https://localhost:8080/",
          "height": 49
        },
        "id": "WUv3oNeqp9p6",
        "outputId": "0c27dba9-9266-4bdd-cb2b-cb791e932090"
      },
      "execution_count": 11,
      "outputs": [
        {
          "output_type": "display_data",
          "data": {
            "text/plain": [
              "<PIL.Image.Image image mode=RGB size=32x32 at 0x7EFF2215D930>"
            ],
            "image/png": "[encoded data removed]"
          },
          "metadata": {}
        }
      ]
    },
    {
      "cell_type": "markdown",
      "source": [
        "## Try to evaluate likelihoods"
      ],
      "metadata": {
        "id": "Q1I5jQueNK4g"
      }
    },
    {
      "cell_type": "code",
      "source": [
        "import time\n",
        "import numpy as np\n",
        "import math\n",
        "import tqdm\n",
        "from tqdm import trange\n",
        "%matplotlib inline\n",
        "import matplotlib.pyplot as plt"
      ],
      "metadata": {
        "id": "fZM2c9s2NNRV"
      },
      "execution_count": 12,
      "outputs": []
    },
    {
      "cell_type": "code",
      "source": [
        "!pip install diffusers"
      ],
      "metadata": {
        "colab": {
          "base_uri": "https://localhost:8080/"
        },
        "id": "4T5wgJm9EhC4",
        "outputId": "3e22fea8-66d5-49aa-d798-aa48df87de59"
      },
      "execution_count": 13,
      "outputs": [
        {
          "output_type": "stream",
          "name": "stdout",
          "text": [
            "Looking in indexes: https://pypi.org/simple, https://us-python.pkg.dev/colab-wheels/public/simple/\n",
            "Collecting diffusers\n",
            "  Downloading diffusers-0.16.0-py3-none-any.whl (934 kB)\n",
            "\u001b[2K     \u001b[90m━━━━━━━━━━━━━━━━━━━━━━━━━━━━━━━━━━━━━━\u001b[0m \u001b[32m934.8/934.8 kB\u001b[0m \u001b[31m20.1 MB/s\u001b[0m eta \u001b[36m0:00:00\u001b[0m\n",
            "\u001b[?25hRequirement already satisfied: filelock in /usr/local/lib/python3.10/dist-packages (from diffusers) (3.12.0)\n",
            "Requirement already satisfied: Pillow in /usr/local/lib/python3.10/dist-packages (from diffusers) (8.4.0)\n",
            "Requirement already satisfied: regex!=2019.12.17 in /usr/local/lib/python3.10/dist-packages (from diffusers) (2022.10.31)\n",
            "Requirement already satisfied: numpy in /usr/local/lib/python3.10/dist-packages (from diffusers) (1.22.4)\n",
            "Collecting huggingface-hub>=0.13.2\n",
            "  Downloading huggingface_hub-0.14.1-py3-none-any.whl (224 kB)\n",
            "\u001b[2K     \u001b[90m━━━━━━━━━━━━━━━━━━━━━━━━━━━━━━━━━━━━━━\u001b[0m \u001b[32m224.5/224.5 kB\u001b[0m \u001b[31m21.7 MB/s\u001b[0m eta \u001b[36m0:00:00\u001b[0m\n",
            "\u001b[?25hRequirement already satisfied: requests in /usr/local/lib/python3.10/dist-packages (from diffusers) (2.27.1)\n",
            "Requirement already satisfied: importlib-metadata in /usr/local/lib/python3.10/dist-packages (from diffusers) (6.6.0)\n",
            "Requirement already satisfied: packaging>=20.9 in /usr/local/lib/python3.10/dist-packages (from huggingface-hub>=0.13.2->diffusers) (23.1)\n",
            "Requirement already satisfied: fsspec in /usr/local/lib/python3.10/dist-packages (from huggingface-hub>=0.13.2->diffusers) (2023.4.0)\n",
            "Requirement already satisfied: pyyaml>=5.1 in /usr/local/lib/python3.10/dist-packages (from huggingface-hub>=0.13.2->diffusers) (6.0)\n",
            "Requirement already satisfied: typing-extensions>=3.7.4.3 in /usr/local/lib/python3.10/dist-packages (from huggingface-hub>=0.13.2->diffusers) (4.5.0)\n",
            "Requirement already satisfied: tqdm>=4.42.1 in /usr/local/lib/python3.10/dist-packages (from huggingface-hub>=0.13.2->diffusers) (4.65.0)\n",
            "Requirement already satisfied: zipp>=0.5 in /usr/local/lib/python3.10/dist-packages (from importlib-metadata->diffusers) (3.15.0)\n",
            "Requirement already satisfied: idna<4,>=2.5 in /usr/local/lib/python3.10/dist-packages (from requests->diffusers) (3.4)\n",
            "Requirement already satisfied: charset-normalizer~=2.0.0 in /usr/local/lib/python3.10/dist-packages (from requests->diffusers) (2.0.12)\n",
            "Requirement already satisfied: certifi>=2017.4.17 in /usr/local/lib/python3.10/dist-packages (from requests->diffusers) (2022.12.7)\n",
            "Requirement already satisfied: urllib3<1.27,>=1.21.1 in /usr/local/lib/python3.10/dist-packages (from requests->diffusers) (1.26.15)\n",
            "Installing collected packages: huggingface-hub, diffusers\n",
            "Successfully installed diffusers-0.16.0 huggingface-hub-0.14.1\n"
          ]
        }
      ]
    },
    {
      "cell_type": "code",
      "source": [
        "!ls drive/MyDrive/density_estimation/checkpoints/ddpm"
      ],
      "metadata": {
        "colab": {
          "base_uri": "https://localhost:8080/"
        },
        "id": "wmCxDMYgNRul",
        "outputId": "44d2d43e-d80e-441f-ff57-cdc86f5b637b"
      },
      "execution_count": 14,
      "outputs": [
        {
          "output_type": "stream",
          "name": "stdout",
          "text": [
            "model_epoch10.pt\n"
          ]
        }
      ]
    },
    {
      "cell_type": "code",
      "source": [
        "dir_ddpm_fine_tuned_pt = \"drive/MyDrive/density_estimation/checkpoints/ddpm/\"\n",
        "path_ddpm_fine_tuned_pt = os.path.join(dir_ddpm_fine_tuned_pt, \"model_epoch10.pt\")"
      ],
      "metadata": {
        "id": "XkmLdYFjNRw2"
      },
      "execution_count": 15,
      "outputs": []
    },
    {
      "cell_type": "code",
      "source": [
        "!stat $path_ddpm_fine_tuned_pt"
      ],
      "metadata": {
        "colab": {
          "base_uri": "https://localhost:8080/"
        },
        "id": "nIls4monNRzj",
        "outputId": "86ebbc11-8901-495c-e3cf-017a9119a738"
      },
      "execution_count": 16,
      "outputs": [
        {
          "output_type": "stream",
          "name": "stdout",
          "text": [
            "  File: drive/MyDrive/density_estimation/checkpoints/ddpm/model_epoch10.pt\n",
            "  Size: 143106097 \tBlocks: 279505     IO Block: 65536  regular file\n",
            "Device: 28h/40d\tInode: 514         Links: 1\n",
            "Access: (0600/-rw-------)  Uid: (    0/    root)   Gid: (    0/    root)\n",
            "Access: 2023-04-27 03:31:59.000000000 +0000\n",
            "Modify: 2023-04-27 03:27:04.000000000 +0000\n",
            "Change: 2023-04-27 03:31:59.000000000 +0000\n",
            " Birth: -\n"
          ]
        }
      ]
    },
    {
      "cell_type": "code",
      "source": [
        "import torch\n",
        "from diffusers import UNet2DModel"
      ],
      "metadata": {
        "id": "2b8A9QZvNR3C"
      },
      "execution_count": 17,
      "outputs": []
    },
    {
      "cell_type": "code",
      "source": [
        "checkpoint = torch.load(path_ddpm_fine_tuned_pt)"
      ],
      "metadata": {
        "id": "0-OVlAD5ORnp"
      },
      "execution_count": 18,
      "outputs": []
    },
    {
      "cell_type": "code",
      "source": [
        "# Huggingface hub directory from which we get the pre-trained CIFAR10 DDPM model's config \n",
        "model_id = \"google/ddpm-cifar10-32\""
      ],
      "metadata": {
        "id": "4SescvegN8hE"
      },
      "execution_count": 19,
      "outputs": []
    },
    {
      "cell_type": "code",
      "source": [
        "model = UNet2DModel.from_pretrained(model_id) # was originally called modelB in ITdiffusion implementation bc they want to wrap it\n",
        "# model = WrapUNet2DModel(**modelB.config)\n",
        "# model.load_state_dict(modelB.state_dict())\n",
        "model.load_state_dict(checkpoint)"
      ],
      "metadata": {
        "colab": {
          "base_uri": "https://localhost:8080/",
          "height": 205,
          "referenced_widgets": [
            "743f7a42ce164c1bae7e479c2c13c14d",
            "d28eb4a7701844a08c338f962712ecd5",
            "855df131402a4607868920593fef7af7",
            "3dc8b86190d74331b097b2ae84a859d0",
            "cd514b52691c432899bb6de8a3236a4e",
            "6aa45b77a2784f3e957a1dd4ec19d06b",
            "894ba04494304f80be1995e0faa5c697",
            "916b56fd5b0b412aa8123c5bf25e8a09",
            "cbeefc2a80664ad486f647adf6bb1164",
            "31ffd991dd4e4c98b50c6b5d5172bb8b",
            "1662187daf2d4e13acbd951b94942beb",
            "5fa9e44cd6ab4374903d64dc69977893",
            "9f091d851c9d410d88a9783783a98636",
            "a1caeb7816e449619ae6a727f4b6f6ec",
            "ba3eace5a442428ab73dd65fae6baac6",
            "cd86e084ebef4afba47020eff2acaa75",
            "d8011fa287f646db8999fea1b641af12",
            "1711e044dd3b40e7ad652a570d1abb2e",
            "6686e1e07b1b49799517d4c1de1e70bc",
            "a4101177c9134e8b8d11563ab3a83b34",
            "b4a3397a05ae4a04af75c3ddf16198b0",
            "b28e32e3fa824e8bb48912f3d5641748"
          ]
        },
        "id": "2wr_pdM2OAA0",
        "outputId": "80d16e1e-4fba-4906-a162-6bc0b93b8029"
      },
      "execution_count": 20,
      "outputs": [
        {
          "output_type": "stream",
          "name": "stderr",
          "text": [
            "Cannot initialize model with low cpu memory usage because `accelerate` was not found in the environment. Defaulting to `low_cpu_mem_usage=False`. It is strongly recommended to install `accelerate` for faster and less memory-intense model loading. You can do so with: \n",
            "```\n",
            "pip install accelerate\n",
            "```\n",
            ".\n"
          ]
        },
        {
          "output_type": "display_data",
          "data": {
            "text/plain": [
              "Downloading (…)lve/main/config.json:   0%|          | 0.00/699 [00:00<?, ?B/s]"
            ],
            "application/vnd.jupyter.widget-view+json": {
              "version_major": 2,
              "version_minor": 0,
              "model_id": "743f7a42ce164c1bae7e479c2c13c14d"
            }
          },
          "metadata": {}
        },
        {
          "output_type": "display_data",
          "data": {
            "text/plain": [
              "Downloading (…)on_pytorch_model.bin:   0%|          | 0.00/143M [00:00<?, ?B/s]"
            ],
            "application/vnd.jupyter.widget-view+json": {
              "version_major": 2,
              "version_minor": 0,
              "model_id": "5fa9e44cd6ab4374903d64dc69977893"
            }
          },
          "metadata": {}
        },
        {
          "output_type": "execute_result",
          "data": {
            "text/plain": [
              "<All keys matched successfully>"
            ]
          },
          "metadata": {},
          "execution_count": 20
        }
      ]
    },
    {
      "cell_type": "code",
      "source": [
        "from diffusers import DDPMScheduler, DDIMScheduler\n",
        "\n",
        "scheduler = DDPMScheduler.from_config(model_id)\n",
        "# scheduler = DDIMScheduler.from_config(model_id)"
      ],
      "metadata": {
        "colab": {
          "base_uri": "https://localhost:8080/",
          "height": 104,
          "referenced_widgets": [
            "67232c68d2b24969a7e6506fe71e5aed",
            "d6738a62787a46f48696be93770b21a5",
            "9dde2d81da074053961f97387553684a",
            "2997fa31f57044f4ba763cda71705708",
            "470706f3ce1f49aaa86199e7b9c8f236",
            "086947c38965435b99678e6cff2a9452",
            "185e23afe1e94ac5b2aed7f6980a1443",
            "21520e902ca84980b8d6da79dfa38e13",
            "d5d1fae3d47e4816ac4573a5e13b4f4e",
            "416e50e91a92460aa0e95c3ddae5b709",
            "b69e09d109a5452a9f22b52784e8ce54"
          ]
        },
        "id": "GvK7eqmMOAIB",
        "outputId": "fbfb8fdc-ef03-4078-de26-0322045c9484"
      },
      "execution_count": 21,
      "outputs": [
        {
          "output_type": "stream",
          "name": "stderr",
          "text": [
            "/usr/local/lib/python3.10/dist-packages/diffusers/configuration_utils.py:215: FutureWarning: It is deprecated to pass a pretrained model name or path to `from_config`.If you were trying to load a scheduler, please use <class 'diffusers.schedulers.scheduling_ddpm.DDPMScheduler'>.from_pretrained(...) instead. Otherwise, please make sure to pass a configuration dictionary instead. This functionality will be removed in v1.0.0.\n",
            "  deprecate(\"config-passed-as-path\", \"1.0.0\", deprecation_message, standard_warn=False)\n"
          ]
        },
        {
          "output_type": "display_data",
          "data": {
            "text/plain": [
              "Downloading (…)cheduler_config.json:   0%|          | 0.00/256 [00:00<?, ?B/s]"
            ],
            "application/vnd.jupyter.widget-view+json": {
              "version_major": 2,
              "version_minor": 0,
              "model_id": "67232c68d2b24969a7e6506fe71e5aed"
            }
          },
          "metadata": {}
        }
      ]
    },
    {
      "cell_type": "code",
      "source": [
        "import torch.nn.functional as F"
      ],
      "metadata": {
        "id": "3c35FzGjUwjW"
      },
      "execution_count": 22,
      "outputs": []
    },
    {
      "cell_type": "code",
      "source": [
        "scheduler.config"
      ],
      "metadata": {
        "colab": {
          "base_uri": "https://localhost:8080/"
        },
        "id": "hJXN7cUJXMiW",
        "outputId": "89994350-a98e-412b-bbca-a17eb4a7d69e"
      },
      "execution_count": 23,
      "outputs": [
        {
          "output_type": "execute_result",
          "data": {
            "text/plain": [
              "FrozenDict([('num_train_timesteps', 1000),\n",
              "            ('beta_start', 0.0001),\n",
              "            ('beta_end', 0.02),\n",
              "            ('beta_schedule', 'linear'),\n",
              "            ('trained_betas', None),\n",
              "            ('variance_type', 'fixed_large'),\n",
              "            ('clip_sample', True),\n",
              "            ('prediction_type', 'epsilon'),\n",
              "            ('thresholding', False),\n",
              "            ('dynamic_thresholding_ratio', 0.995),\n",
              "            ('clip_sample_range', 1.0),\n",
              "            ('sample_max_value', 1.0),\n",
              "            ('_class_name', 'DDPMScheduler'),\n",
              "            ('_diffusers_version', '0.1.1')])"
            ]
          },
          "metadata": {},
          "execution_count": 23
        }
      ]
    },
    {
      "cell_type": "code",
      "source": [
        "# timesteps = torch.LongTensor(np.arange(1, num_train_timesteps, 12))\n",
        "# n_timesteps_loss_calc = len(timesteps)\n",
        "\n",
        "def get_vlb_log_likelihood(model, scheduler, x_start, timesteps):\n",
        "    n_timesteps_loss_calc = len(timesteps)\n",
        "    # noise = torch.randn(x_start.shape)\n",
        "    noise = torch.randn(\n",
        "        n_timesteps_loss_calc, model.config.in_channels, model.config.sample_size, model.config.sample_size\n",
        "    )\n",
        "\n",
        "    noised_image = scheduler.add_noise(x_start, noise, timesteps)\n",
        "\n",
        "    # Predict the noise residual\n",
        "    with torch.no_grad():\n",
        "        noise_pred = model(noised_image, timesteps).sample\n",
        "\n",
        "    print(noise_pred.shape)\n",
        "    print(noise.shape)\n",
        "    loss = F.mse_loss(noise_pred, noise).detach()\n",
        "    print( -loss)"
      ],
      "metadata": {
        "id": "UI-0O9vRW-TD"
      },
      "execution_count": 24,
      "outputs": []
    },
    {
      "cell_type": "code",
      "source": [
        "num_train_timesteps = scheduler.config.num_train_timesteps\n",
        "print(num_train_timesteps)"
      ],
      "metadata": {
        "colab": {
          "base_uri": "https://localhost:8080/"
        },
        "id": "1xfPTnNLXZ1t",
        "outputId": "d6f33b33-1d83-463f-b2af-0a85d63adca1"
      },
      "execution_count": 25,
      "outputs": [
        {
          "output_type": "stream",
          "name": "stdout",
          "text": [
            "1000\n"
          ]
        }
      ]
    },
    {
      "cell_type": "code",
      "source": [
        "timesteps = torch.randint(0, num_train_timesteps, (200,)).long()"
      ],
      "metadata": {
        "id": "a5XVLBcm_-oD"
      },
      "execution_count": 68,
      "outputs": []
    },
    {
      "cell_type": "markdown",
      "source": [
        "### Calculate log likelihood on sample from fine-tuned DDPM"
      ],
      "metadata": {
        "id": "Z5qX1-LP1dax"
      }
    },
    {
      "cell_type": "code",
      "source": [
        "test_idx = 0\n",
        "test_img = sample_fine_tuned[test_idx]\n",
        "x_start = torch.tensor([test_img]) #.permute(0, 2, 3, 1)\n",
        "print(x_start.shape)"
      ],
      "metadata": {
        "colab": {
          "base_uri": "https://localhost:8080/"
        },
        "id": "74YSW8SkX72e",
        "outputId": "607b0790-9622-42f1-8e71-ef774d5c3e69"
      },
      "execution_count": 69,
      "outputs": [
        {
          "output_type": "stream",
          "name": "stdout",
          "text": [
            "torch.Size([1, 3, 32, 32])\n"
          ]
        }
      ]
    },
    {
      "cell_type": "code",
      "source": [
        "# display_sample(sample_fine_tuned, idx=test_idx)\n",
        "display_sample_single(test_img)"
      ],
      "metadata": {
        "colab": {
          "base_uri": "https://localhost:8080/",
          "height": 49
        },
        "id": "KOoRNOAPlSSp",
        "outputId": "3a19998b-e590-4f99-b098-fbad1697cdcb"
      },
      "execution_count": 70,
      "outputs": [
        {
          "output_type": "display_data",
          "data": {
            "text/plain": [
              "<PIL.Image.Image image mode=RGB size=32x32 at 0x7EFE25776530>"
            ],
            "image/png": "[encoded data removed]"
          },
          "metadata": {}
        }
      ]
    },
    {
      "cell_type": "code",
      "source": [
        "image_processed = x_start.cpu().permute(0, 2, 3, 1)\n",
        "image_processed = (image_processed + 1.0) * 127.5\n",
        "image_processed = image_processed.numpy().astype(np.uint8)\n",
        "\n",
        "image_pil = PIL.Image.fromarray(image_processed[0])\n",
        "plt.figure(figsize=(3,3))   \n",
        "plt.imshow(image_pil)"
      ],
      "metadata": {
        "colab": {
          "base_uri": "https://localhost:8080/",
          "height": 310
        },
        "id": "0rCd0J4WDKui",
        "outputId": "2c524ee6-bead-418a-8d17-d93e786d1bf3"
      },
      "execution_count": 71,
      "outputs": [
        {
          "output_type": "execute_result",
          "data": {
            "text/plain": [
              "<matplotlib.image.AxesImage at 0x7efe23ba85e0>"
            ]
          },
          "metadata": {},
          "execution_count": 71
        },
        {
          "output_type": "display_data",
          "data": {
            "text/plain": [
              "<Figure size 300x300 with 1 Axes>"
            ],
            "image/png": "[encoded data removed]"
          },
          "metadata": {}
        }
      ]
    },
    {
      "cell_type": "code",
      "source": [
        "%%time\n",
        "# timesteps = torch.randint(0, num_train_timesteps, (100,)).long()\n",
        "# timesteps = torch.LongTensor(np.arange(1, num_train_timesteps, 1))\n",
        "# print(\"timesteps: \", timesteps)\n",
        "get_vlb_log_likelihood(model, scheduler, x_start, timesteps)"
      ],
      "metadata": {
        "colab": {
          "base_uri": "https://localhost:8080/"
        },
        "id": "97z_nqjcsLAO",
        "outputId": "5210fcdf-0358-4c2e-d278-39d9666cc75f"
      },
      "execution_count": 72,
      "outputs": [
        {
          "output_type": "stream",
          "name": "stdout",
          "text": [
            "torch.Size([200, 3, 32, 32])\n",
            "torch.Size([200, 3, 32, 32])\n",
            "tensor(-0.0298)\n",
            "CPU times: user 41.3 s, sys: 8.66 s, total: 49.9 s\n",
            "Wall time: 50 s\n"
          ]
        }
      ]
    },
    {
      "cell_type": "markdown",
      "source": [
        "### Calculate log likelihood on sample from fine-tuned DDPM, but rotated"
      ],
      "metadata": {
        "id": "xk0ytFmK13mm"
      }
    },
    {
      "cell_type": "code",
      "source": [
        "x_start_rotated = x_start.permute(0, 1, 3, 2)\n",
        "print(x_start_rotated.shape)"
      ],
      "metadata": {
        "colab": {
          "base_uri": "https://localhost:8080/"
        },
        "id": "rqPckBEG19nU",
        "outputId": "eabb08ba-6274-4fb8-be72-75cd39a392dd"
      },
      "execution_count": 73,
      "outputs": [
        {
          "output_type": "stream",
          "name": "stdout",
          "text": [
            "torch.Size([1, 3, 32, 32])\n"
          ]
        }
      ]
    },
    {
      "cell_type": "code",
      "source": [
        "display_sample_single(torch.squeeze(x_start_rotated).cpu().numpy())"
      ],
      "metadata": {
        "colab": {
          "base_uri": "https://localhost:8080/",
          "height": 49
        },
        "id": "HHe6bjwMBdbk",
        "outputId": "319d8ee1-bc1c-46d6-d682-e0e7d425c95f"
      },
      "execution_count": 74,
      "outputs": [
        {
          "output_type": "display_data",
          "data": {
            "text/plain": [
              "<PIL.Image.Image image mode=RGB size=32x32 at 0x7EFE23C3E5C0>"
            ],
            "image/png": "[encoded data removed]"
          },
          "metadata": {}
        }
      ]
    },
    {
      "cell_type": "code",
      "source": [
        "# plt.figure(figsize=(3,3))\n",
        "# plt.imshow(torch.squeeze(x_start_rotated).permute(1,2,0).cpu().numpy())"
      ],
      "metadata": {
        "id": "ZTguNf2SCmkJ"
      },
      "execution_count": 75,
      "outputs": []
    },
    {
      "cell_type": "code",
      "source": [
        "image_processed = x_start_rotated.cpu().permute(0, 2, 3, 1)\n",
        "image_processed = (image_processed + 1.0) * 127.5\n",
        "image_processed = image_processed.numpy().astype(np.uint8)\n",
        "\n",
        "image_pil = PIL.Image.fromarray(image_processed[0])\n",
        "plt.figure(figsize=(3,3))   \n",
        "plt.imshow(image_pil)"
      ],
      "metadata": {
        "colab": {
          "base_uri": "https://localhost:8080/",
          "height": 310
        },
        "id": "8PifrryyC9S6",
        "outputId": "811003fe-d205-4e48-815b-c9d456ba166a"
      },
      "execution_count": 76,
      "outputs": [
        {
          "output_type": "execute_result",
          "data": {
            "text/plain": [
              "<matplotlib.image.AxesImage at 0x7efe23c701c0>"
            ]
          },
          "metadata": {},
          "execution_count": 76
        },
        {
          "output_type": "display_data",
          "data": {
            "text/plain": [
              "<Figure size 300x300 with 1 Axes>"
            ],
            "image/png": "[encoded data removed]"
          },
          "metadata": {}
        }
      ]
    },
    {
      "cell_type": "code",
      "source": [
        "%%time\n",
        "# timesteps = torch.randint(0, num_train_timesteps, (100,)).long()\n",
        "# timesteps = torch.LongTensor(np.arange(1, num_train_timesteps, 1))\n",
        "# print(\"timesteps: \", timesteps)\n",
        "get_vlb_log_likelihood(model, scheduler, x_start_rotated, timesteps)"
      ],
      "metadata": {
        "colab": {
          "base_uri": "https://localhost:8080/"
        },
        "id": "hzGYy_cC17BE",
        "outputId": "62d9a5cd-171b-4534-f0d3-8d35dbc6ab37"
      },
      "execution_count": 77,
      "outputs": [
        {
          "output_type": "stream",
          "name": "stdout",
          "text": [
            "torch.Size([200, 3, 32, 32])\n",
            "torch.Size([200, 3, 32, 32])\n",
            "tensor(-0.0324)\n",
            "CPU times: user 40.8 s, sys: 8.32 s, total: 49.2 s\n",
            "Wall time: 50.6 s\n"
          ]
        }
      ]
    },
    {
      "cell_type": "markdown",
      "source": [
        "### Calculate log likelihood on sample from fine-tuned DDPM, but rotated and with erasures"
      ],
      "metadata": {
        "id": "bLYKO4BeLO6r"
      }
    },
    {
      "cell_type": "code",
      "source": [
        "import copy"
      ],
      "metadata": {
        "id": "0nyrdz50LtXM"
      },
      "execution_count": 78,
      "outputs": []
    },
    {
      "cell_type": "code",
      "source": [
        "x_start_rotated_erasures = copy.deepcopy(x_start_rotated)"
      ],
      "metadata": {
        "id": "HsNeliPzLpCs"
      },
      "execution_count": 79,
      "outputs": []
    },
    {
      "cell_type": "code",
      "source": [
        "# x_start_rotated[:, :, 10, :] = torch.zeros((1, 3, 32))"
      ],
      "metadata": {
        "id": "15uSG416JCwx"
      },
      "execution_count": 80,
      "outputs": []
    },
    {
      "cell_type": "code",
      "source": [
        "# x_start_rotated[:, :, 10, :]"
      ],
      "metadata": {
        "id": "i_ny4g8lJf01"
      },
      "execution_count": 81,
      "outputs": []
    },
    {
      "cell_type": "code",
      "source": [
        "x_start_rotated_erasures[:, :, 10:20, :].shape"
      ],
      "metadata": {
        "colab": {
          "base_uri": "https://localhost:8080/"
        },
        "id": "ZqwIBXNxKAq3",
        "outputId": "bdc6a913-188a-4bab-e546-37c8223ab0d5"
      },
      "execution_count": 82,
      "outputs": [
        {
          "output_type": "execute_result",
          "data": {
            "text/plain": [
              "torch.Size([1, 3, 10, 32])"
            ]
          },
          "metadata": {},
          "execution_count": 82
        }
      ]
    },
    {
      "cell_type": "code",
      "source": [
        "# x_start_rotated[:, :, 10:20, :] = torch.zeros((1, 3, 10, 32))\n",
        "x_start_rotated_erasures[:, :, 10: 20, :] = torch.full((1, 3, 10, 32), -1.0)"
      ],
      "metadata": {
        "id": "5Oz6PSgCKFG2"
      },
      "execution_count": 83,
      "outputs": []
    },
    {
      "cell_type": "code",
      "source": [
        "image_processed = x_start_rotated_erasures.cpu().permute(0, 2, 3, 1)\n",
        "image_processed = (image_processed + 1.0) * 127.5\n",
        "image_processed = image_processed.numpy().astype(np.uint8)\n",
        "\n",
        "image_pil = PIL.Image.fromarray(image_processed[0])\n",
        "plt.figure(figsize=(3,3))   \n",
        "plt.imshow(image_pil)"
      ],
      "metadata": {
        "colab": {
          "base_uri": "https://localhost:8080/",
          "height": 310
        },
        "id": "8zq3jdzeJlMQ",
        "outputId": "af4fe63b-9d68-49c6-8d5c-924471b5581b"
      },
      "execution_count": 84,
      "outputs": [
        {
          "output_type": "execute_result",
          "data": {
            "text/plain": [
              "<matplotlib.image.AxesImage at 0x7efe22870b80>"
            ]
          },
          "metadata": {},
          "execution_count": 84
        },
        {
          "output_type": "display_data",
          "data": {
            "text/plain": [
              "<Figure size 300x300 with 1 Axes>"
            ],
            "image/png": "[encoded data removed]"
          },
          "metadata": {}
        }
      ]
    },
    {
      "cell_type": "code",
      "source": [
        "%%time\n",
        "# timesteps = torch.randint(0, num_train_timesteps, (100,)).long()\n",
        "# timesteps = torch.LongTensor(np.arange(1, num_train_timesteps, 1))\n",
        "# print(\"timesteps: \", timesteps)\n",
        "get_vlb_log_likelihood(model, scheduler, x_start_rotated_erasures, timesteps)"
      ],
      "metadata": {
        "colab": {
          "base_uri": "https://localhost:8080/"
        },
        "outputId": "96b9d271-811a-4356-80a4-a6dfeb89e97d",
        "id": "Vwn0jYsk-T1r"
      },
      "execution_count": 85,
      "outputs": [
        {
          "output_type": "stream",
          "name": "stdout",
          "text": [
            "torch.Size([200, 3, 32, 32])\n",
            "torch.Size([200, 3, 32, 32])\n",
            "tensor(-0.0284)\n",
            "CPU times: user 41 s, sys: 8.8 s, total: 49.8 s\n",
            "Wall time: 49.9 s\n"
          ]
        }
      ]
    },
    {
      "cell_type": "markdown",
      "source": [
        "### Calculate log likelihood on sample from fine-tuned DDPM, but rotated and with even more erasures"
      ],
      "metadata": {
        "id": "R74ZiQnRN8Rp"
      }
    },
    {
      "cell_type": "code",
      "source": [
        "x_start_rotated_erasures_extreme = copy.deepcopy(x_start_rotated)"
      ],
      "metadata": {
        "id": "bqPR9hy-N8Ru"
      },
      "execution_count": 86,
      "outputs": []
    },
    {
      "cell_type": "code",
      "source": [
        "x_start_rotated_erasures_extreme[:, :, 5: 27, :].shape"
      ],
      "metadata": {
        "colab": {
          "base_uri": "https://localhost:8080/"
        },
        "outputId": "d1e27876-259f-4828-b6a1-70c40864afce",
        "id": "3a8lx8cUN8Rv"
      },
      "execution_count": 87,
      "outputs": [
        {
          "output_type": "execute_result",
          "data": {
            "text/plain": [
              "torch.Size([1, 3, 22, 32])"
            ]
          },
          "metadata": {},
          "execution_count": 87
        }
      ]
    },
    {
      "cell_type": "code",
      "source": [
        "x_start_rotated_erasures_extreme[:, :, 5: 27, :] = torch.full((1, 3, 22, 32), -1.0)"
      ],
      "metadata": {
        "id": "V_MFxGf7N8Rv"
      },
      "execution_count": 88,
      "outputs": []
    },
    {
      "cell_type": "code",
      "source": [
        "image_processed = x_start_rotated_erasures_extreme.cpu().permute(0, 2, 3, 1)\n",
        "image_processed = (image_processed + 1.0) * 127.5\n",
        "image_processed = image_processed.numpy().astype(np.uint8)\n",
        "\n",
        "image_pil = PIL.Image.fromarray(image_processed[0])\n",
        "plt.figure(figsize=(3,3))   \n",
        "plt.imshow(image_pil)"
      ],
      "metadata": {
        "colab": {
          "base_uri": "https://localhost:8080/",
          "height": 310
        },
        "outputId": "93c8f811-03da-4ab5-e2b3-eb22d767ee11",
        "id": "EBdUUn83N8Rv"
      },
      "execution_count": 89,
      "outputs": [
        {
          "output_type": "execute_result",
          "data": {
            "text/plain": [
              "<matplotlib.image.AxesImage at 0x7efe228f15a0>"
            ]
          },
          "metadata": {},
          "execution_count": 89
        },
        {
          "output_type": "display_data",
          "data": {
            "text/plain": [
              "<Figure size 300x300 with 1 Axes>"
            ],
            "image/png": "[encoded data removed]"
          },
          "metadata": {}
        }
      ]
    },
    {
      "cell_type": "code",
      "source": [
        "%%time\n",
        "# timesteps = torch.randint(0, num_train_timesteps, (100,)).long()\n",
        "# timesteps = torch.LongTensor(np.arange(1, num_train_timesteps, 1))\n",
        "# print(\"timesteps: \", timesteps)\n",
        "get_vlb_log_likelihood(model, scheduler, x_start_rotated_erasures_extreme, timesteps)"
      ],
      "metadata": {
        "colab": {
          "base_uri": "https://localhost:8080/"
        },
        "outputId": "4af86562-e289-43a5-e516-8cbed8d0eeba",
        "id": "FAvZV8blN8Rv"
      },
      "execution_count": 90,
      "outputs": [
        {
          "output_type": "stream",
          "name": "stdout",
          "text": [
            "torch.Size([200, 3, 32, 32])\n",
            "torch.Size([200, 3, 32, 32])\n",
            "tensor(-0.0181)\n",
            "CPU times: user 40.4 s, sys: 8.83 s, total: 49.2 s\n",
            "Wall time: 49.2 s\n"
          ]
        }
      ]
    },
    {
      "cell_type": "markdown",
      "source": [
        "### Calculate log likelihood on zero image"
      ],
      "metadata": {
        "id": "C1GF4Q0mOpqZ"
      }
    },
    {
      "cell_type": "code",
      "source": [
        "x_start_zero = torch.full(x_start.shape, -1.0)\n",
        "print(x_start_zero.shape)"
      ],
      "metadata": {
        "colab": {
          "base_uri": "https://localhost:8080/"
        },
        "id": "iLky-L0qOpqa",
        "outputId": "37447ff1-3014-430a-ddd1-889152374c17"
      },
      "execution_count": 91,
      "outputs": [
        {
          "output_type": "stream",
          "name": "stdout",
          "text": [
            "torch.Size([1, 3, 32, 32])\n"
          ]
        }
      ]
    },
    {
      "cell_type": "code",
      "source": [
        "image_processed = x_start_zero.cpu().permute(0, 2, 3, 1)\n",
        "image_processed = (image_processed + 1.0) * 127.5\n",
        "image_processed = image_processed.numpy().astype(np.uint8)\n",
        "\n",
        "image_pil = PIL.Image.fromarray(image_processed[0])\n",
        "plt.figure(figsize=(3,3))   \n",
        "plt.imshow(image_pil)"
      ],
      "metadata": {
        "colab": {
          "base_uri": "https://localhost:8080/",
          "height": 310
        },
        "outputId": "0ab4c281-e157-4bcd-a966-725f7e1dfe40",
        "id": "RE_nd0dYOpqa"
      },
      "execution_count": 92,
      "outputs": [
        {
          "output_type": "execute_result",
          "data": {
            "text/plain": [
              "<matplotlib.image.AxesImage at 0x7efe228723e0>"
            ]
          },
          "metadata": {},
          "execution_count": 92
        },
        {
          "output_type": "display_data",
          "data": {
            "text/plain": [
              "<Figure size 300x300 with 1 Axes>"
            ],
            "image/png": "[encoded data removed]"
          },
          "metadata": {}
        }
      ]
    },
    {
      "cell_type": "code",
      "source": [
        "%%time\n",
        "# timesteps = torch.randint(0, num_train_timesteps, (100,)).long()\n",
        "# timesteps = torch.LongTensor(np.arange(1, num_train_timesteps, 1))\n",
        "# print(\"timesteps: \", timesteps)\n",
        "get_vlb_log_likelihood(model, scheduler, x_start_zero, timesteps)"
      ],
      "metadata": {
        "colab": {
          "base_uri": "https://localhost:8080/"
        },
        "outputId": "2cf19edc-26aa-459a-ca04-05527a741a3b",
        "id": "VirYkJqtOpqa"
      },
      "execution_count": 93,
      "outputs": [
        {
          "output_type": "stream",
          "name": "stdout",
          "text": [
            "torch.Size([200, 3, 32, 32])\n",
            "torch.Size([200, 3, 32, 32])\n",
            "tensor(-0.0026)\n",
            "CPU times: user 42.5 s, sys: 8.75 s, total: 51.2 s\n",
            "Wall time: 51.4 s\n"
          ]
        }
      ]
    },
    {
      "cell_type": "markdown",
      "source": [
        "### Calculate log likelihood on sample from MNIST (out of distribution)"
      ],
      "metadata": {
        "id": "kbNiFWEW1nK_"
      }
    },
    {
      "cell_type": "code",
      "source": [
        "def load_data(path):\n",
        "    with np.load(path) as f:\n",
        "        x_train, y_train = f['x_train'], f['y_train']\n",
        "        x_test, y_test = f['x_test'], f['y_test']\n",
        "        return (x_train, y_train), (x_test, y_test)\n",
        "\n",
        "(mnist_x_train, mnist_y_train), (mnist_x_test, mnist_y_test) = load_data('drive/MyDrive/density_estimation/data/mnist/mnist.npz')"
      ],
      "metadata": {
        "id": "zS9merbunnYf"
      },
      "execution_count": 94,
      "outputs": []
    },
    {
      "cell_type": "code",
      "source": [
        "test_img_mnist = mnist_x_test[1]\n",
        "x_start_mnist = torch.tensor(test_img_mnist)\n",
        "x_start_mnist = torch.unsqueeze(x_start_mnist, 0)\n",
        "x_start_mnist = torch.unsqueeze(x_start_mnist, 0)\n",
        "print(x_start_mnist.shape)"
      ],
      "metadata": {
        "colab": {
          "base_uri": "https://localhost:8080/"
        },
        "id": "engcZO7WtPPc",
        "outputId": "916d445c-ddfc-4d3a-e2eb-25b188010544"
      },
      "execution_count": 95,
      "outputs": [
        {
          "output_type": "stream",
          "name": "stdout",
          "text": [
            "torch.Size([1, 1, 28, 28])\n"
          ]
        }
      ]
    },
    {
      "cell_type": "code",
      "source": [
        "plt.figure(figsize=(3,3))\n",
        "plt.imshow(test_img_mnist, cmap='gray')"
      ],
      "metadata": {
        "colab": {
          "base_uri": "https://localhost:8080/",
          "height": 310
        },
        "id": "tjiiS68jq-_4",
        "outputId": "06618e27-409e-4d3b-dc57-76e6488841e0"
      },
      "execution_count": 96,
      "outputs": [
        {
          "output_type": "execute_result",
          "data": {
            "text/plain": [
              "<matplotlib.image.AxesImage at 0x7efe23c3f820>"
            ]
          },
          "metadata": {},
          "execution_count": 96
        },
        {
          "output_type": "display_data",
          "data": {
            "text/plain": [
              "<Figure size 300x300 with 1 Axes>"
            ],
            "image/png": "[encoded data removed]"
          },
          "metadata": {}
        }
      ]
    },
    {
      "cell_type": "code",
      "source": [
        "# x_start_mnist_padded = F.pad(input=x_start_mnist, pad=(0, 4, 0, 0), mode='constant', value=0.)\n",
        "# print(x_start_mnist_padded.shape)\n",
        "x_start_mnist_padded = torch.zeros(x_start.shape)\n",
        "x_start_mnist_padded[:, :1, :28, :28] = x_start_mnist\n",
        "\n",
        "print(x_start_mnist_padded.shape)"
      ],
      "metadata": {
        "colab": {
          "base_uri": "https://localhost:8080/"
        },
        "id": "SQsnSXPjv4_2",
        "outputId": "6cb2f978-94d1-4f44-9e04-3a421324c0ff"
      },
      "execution_count": 97,
      "outputs": [
        {
          "output_type": "stream",
          "name": "stdout",
          "text": [
            "torch.Size([1, 3, 32, 32])\n"
          ]
        }
      ]
    },
    {
      "cell_type": "code",
      "source": [
        "test_img_mnist_padded = torch.squeeze(x_start_mnist_padded).permute(1, 2, 0).cpu().numpy()\n",
        "print(test_img_mnist_padded.shape)"
      ],
      "metadata": {
        "colab": {
          "base_uri": "https://localhost:8080/"
        },
        "id": "qIxCv_C8zXvL",
        "outputId": "5249ddde-fbae-4a8d-d929-d9db4db3d3f3"
      },
      "execution_count": 98,
      "outputs": [
        {
          "output_type": "stream",
          "name": "stdout",
          "text": [
            "(32, 32, 3)\n"
          ]
        }
      ]
    },
    {
      "cell_type": "code",
      "source": [
        "plt.figure(figsize=(3,3))\n",
        "plt.imshow(test_img_mnist_padded)"
      ],
      "metadata": {
        "colab": {
          "base_uri": "https://localhost:8080/",
          "height": 328
        },
        "id": "qFiV7DwLyiu8",
        "outputId": "6a750691-c649-478c-a26d-785e41ed8f37"
      },
      "execution_count": 99,
      "outputs": [
        {
          "output_type": "stream",
          "name": "stderr",
          "text": [
            "WARNING:matplotlib.image:Clipping input data to the valid range for imshow with RGB data ([0..1] for floats or [0..255] for integers).\n"
          ]
        },
        {
          "output_type": "execute_result",
          "data": {
            "text/plain": [
              "<matplotlib.image.AxesImage at 0x7efe2266c190>"
            ]
          },
          "metadata": {},
          "execution_count": 99
        },
        {
          "output_type": "display_data",
          "data": {
            "text/plain": [
              "<Figure size 300x300 with 1 Axes>"
            ],
            "image/png": "[encoded data removed]"
          },
          "metadata": {}
        }
      ]
    },
    {
      "cell_type": "code",
      "source": [
        "display_sample_single(np.transpose(test_img_mnist_padded, (2, 0, 1)))"
      ],
      "metadata": {
        "colab": {
          "base_uri": "https://localhost:8080/",
          "height": 49
        },
        "id": "xDF32Y3a3fnU",
        "outputId": "ba55425f-304f-43a9-c7a9-2a7b03e3202d"
      },
      "execution_count": 100,
      "outputs": [
        {
          "output_type": "display_data",
          "data": {
            "text/plain": [
              "<PIL.Image.Image image mode=RGB size=32x32 at 0x7EFE226C63B0>"
            ],
            "image/png": "[encoded data removed]"
          },
          "metadata": {}
        }
      ]
    },
    {
      "cell_type": "code",
      "source": [
        "image_processed = x_start_mnist_padded.permute(0, 2, 3, 1)\n",
        "# image_processed = (image_processed + 1.0) * 127.5\n",
        "image_processed = image_processed.numpy().astype(np.uint8)\n",
        "\n",
        "image_pil = PIL.Image.fromarray(image_processed[0])\n",
        "plt.figure(figsize=(3,3))   \n",
        "plt.imshow(image_pil)"
      ],
      "metadata": {
        "colab": {
          "base_uri": "https://localhost:8080/",
          "height": 310
        },
        "id": "ZJUM5-zXDcj9",
        "outputId": "7ee79ba9-56af-40c9-ae55-aba5076bacd5"
      },
      "execution_count": 101,
      "outputs": [
        {
          "output_type": "execute_result",
          "data": {
            "text/plain": [
              "<matplotlib.image.AxesImage at 0x7efe226c6410>"
            ]
          },
          "metadata": {},
          "execution_count": 101
        },
        {
          "output_type": "display_data",
          "data": {
            "text/plain": [
              "<Figure size 300x300 with 1 Axes>"
            ],
            "image/png": "[encoded data removed]"
          },
          "metadata": {}
        }
      ]
    },
    {
      "cell_type": "code",
      "source": [
        "%%time\n",
        "# timesteps = torch.randint(0, num_train_timesteps, (100,)).long()\n",
        "# timesteps = torch.LongTensor(np.arange(1, num_train_timesteps, 1))\n",
        "get_vlb_log_likelihood(model, scheduler, x_start_mnist_padded, timesteps)"
      ],
      "metadata": {
        "colab": {
          "base_uri": "https://localhost:8080/"
        },
        "id": "6SKhMAYpzuU5",
        "outputId": "e3815b58-01e1-44b4-dcae-dadfeaef6a70"
      },
      "execution_count": 102,
      "outputs": [
        {
          "output_type": "stream",
          "name": "stdout",
          "text": [
            "torch.Size([200, 3, 32, 32])\n",
            "torch.Size([200, 3, 32, 32])\n",
            "tensor(-2.2276)\n",
            "CPU times: user 41.7 s, sys: 8.98 s, total: 50.7 s\n",
            "Wall time: 50.7 s\n"
          ]
        }
      ]
    },
    {
      "cell_type": "markdown",
      "source": [
        "### Calculate log likelihood on sample that is just random noise (out of distribution)"
      ],
      "metadata": {
        "id": "Ioii1-xr1tAM"
      }
    },
    {
      "cell_type": "code",
      "source": [
        "x_start_random = torch.rand(x_start.shape) * 256\n",
        "x_start_random.shape"
      ],
      "metadata": {
        "colab": {
          "base_uri": "https://localhost:8080/"
        },
        "id": "nfEBsgADuPvG",
        "outputId": "9c8d365b-524c-4e2e-e589-8be9dd76ba14"
      },
      "execution_count": 103,
      "outputs": [
        {
          "output_type": "execute_result",
          "data": {
            "text/plain": [
              "torch.Size([1, 3, 32, 32])"
            ]
          },
          "metadata": {},
          "execution_count": 103
        }
      ]
    },
    {
      "cell_type": "code",
      "source": [
        "%%time\n",
        "# timesteps = torch.randint(0, num_train_timesteps, (100,)).long()\n",
        "# timesteps = torch.LongTensor(np.arange(1, num_train_timesteps, 1))\n",
        "get_vlb_log_likelihood(model, scheduler, x_start_random, timesteps)"
      ],
      "metadata": {
        "colab": {
          "base_uri": "https://localhost:8080/"
        },
        "id": "ls9ef-d5OAMo",
        "outputId": "735e0ed6-801c-4a3c-c114-231bb8d4bf58"
      },
      "execution_count": 104,
      "outputs": [
        {
          "output_type": "stream",
          "name": "stdout",
          "text": [
            "torch.Size([200, 3, 32, 32])\n",
            "torch.Size([200, 3, 32, 32])\n",
            "tensor(-3.5063)\n",
            "CPU times: user 41.1 s, sys: 8.48 s, total: 49.5 s\n",
            "Wall time: 49.5 s\n"
          ]
        }
      ]
    },
    {
      "cell_type": "markdown",
      "source": [
        "## Section 2: Images generated from original pre-trained CIFAR10 DDPM"
      ],
      "metadata": {
        "id": "9oDSkEQ18RrK"
      }
    },
    {
      "cell_type": "code",
      "source": [
        "sample_original = np.load(path_gen_images_original)[\"arr_0\"]\n",
        "sample_original.shape"
      ],
      "metadata": {
        "colab": {
          "base_uri": "https://localhost:8080/"
        },
        "id": "LYkZJAJXzdwf",
        "outputId": "a5020619-7fc7-4c95-d416-aa7ee96f790c"
      },
      "execution_count": 105,
      "outputs": [
        {
          "output_type": "execute_result",
          "data": {
            "text/plain": [
              "(16, 3, 32, 32)"
            ]
          },
          "metadata": {},
          "execution_count": 105
        }
      ]
    },
    {
      "cell_type": "code",
      "source": [
        "for idx in range(0, sample_original.shape[0]):\n",
        "    display_sample(sample_original, idx=idx)"
      ],
      "metadata": {
        "colab": {
          "base_uri": "https://localhost:8080/",
          "height": 529
        },
        "id": "QqLpl9n83BVI",
        "outputId": "7b660647-63f1-487b-a4aa-400e0fd541bc"
      },
      "execution_count": 106,
      "outputs": [
        {
          "output_type": "display_data",
          "data": {
            "text/plain": [
              "<PIL.Image.Image image mode=RGB size=32x32 at 0x7EFE22549C00>"
            ],
            "image/png": "[encoded data removed]"
          },
          "metadata": {}
        },
        {
          "output_type": "display_data",
          "data": {
            "text/plain": [
              "<PIL.Image.Image image mode=RGB size=32x32 at 0x7EFE226C62F0>"
            ],
            "image/png": "[encoded data removed]"
          },
          "metadata": {}
        },
        {
          "output_type": "display_data",
          "data": {
            "text/plain": [
              "<PIL.Image.Image image mode=RGB size=32x32 at 0x7EFE22646EC0>"
            ],
            "image/png": "[encoded data removed]"
          },
          "metadata": {}
        },
        {
          "output_type": "display_data",
          "data": {
            "text/plain": [
              "<PIL.Image.Image image mode=RGB size=32x32 at 0x7EFE226C7AF0>"
            ],
            "image/png": "[encoded data removed]"
          },
          "metadata": {}
        },
        {
          "output_type": "display_data",
          "data": {
            "text/plain": [
              "<PIL.Image.Image image mode=RGB size=32x32 at 0x7EFE226C62F0>"
            ],
            "image/png": "[encoded data removed]"
          },
          "metadata": {}
        },
        {
          "output_type": "display_data",
          "data": {
            "text/plain": [
              "<PIL.Image.Image image mode=RGB size=32x32 at 0x7EFE226C5A80>"
            ],
            "image/png": "[encoded data removed]"
          },
          "metadata": {}
        },
        {
          "output_type": "display_data",
          "data": {
            "text/plain": [
              "<PIL.Image.Image image mode=RGB size=32x32 at 0x7EFE227226B0>"
            ],
            "image/png": "[encoded data removed]"
          },
          "metadata": {}
        },
        {
          "output_type": "display_data",
          "data": {
            "text/plain": [
              "<PIL.Image.Image image mode=RGB size=32x32 at 0x7EFE22549BD0>"
            ],
            "image/png": "[encoded data removed]"
          },
          "metadata": {}
        },
        {
          "output_type": "display_data",
          "data": {
            "text/plain": [
              "<PIL.Image.Image image mode=RGB size=32x32 at 0x7EFE22549BD0>"
            ],
            "image/png": "[encoded data removed]"
          },
          "metadata": {}
        },
        {
          "output_type": "display_data",
          "data": {
            "text/plain": [
              "<PIL.Image.Image image mode=RGB size=32x32 at 0x7EFE226C5CC0>"
            ],
            "image/png": "[encoded data removed]"
          },
          "metadata": {}
        },
        {
          "output_type": "display_data",
          "data": {
            "text/plain": [
              "<PIL.Image.Image image mode=RGB size=32x32 at 0x7EFE227471F0>"
            ],
            "image/png": "[encoded data removed]"
          },
          "metadata": {}
        },
        {
          "output_type": "display_data",
          "data": {
            "text/plain": [
              "<PIL.Image.Image image mode=RGB size=32x32 at 0x7EFE226C62F0>"
            ],
            "image/png": "[encoded data removed]"
          },
          "metadata": {}
        },
        {
          "output_type": "display_data",
          "data": {
            "text/plain": [
              "<PIL.Image.Image image mode=RGB size=32x32 at 0x7EFE227471F0>"
            ],
            "image/png": "[encoded data removed]"
          },
          "metadata": {}
        },
        {
          "output_type": "display_data",
          "data": {
            "text/plain": [
              "<PIL.Image.Image image mode=RGB size=32x32 at 0x7EFE226C7AF0>"
            ],
            "image/png": "[encoded data removed]"
          },
          "metadata": {}
        },
        {
          "output_type": "display_data",
          "data": {
            "text/plain": [
              "<PIL.Image.Image image mode=RGB size=32x32 at 0x7EFE22549AE0>"
            ],
            "image/png": "[encoded data removed]"
          },
          "metadata": {}
        },
        {
          "output_type": "display_data",
          "data": {
            "text/plain": [
              "<PIL.Image.Image image mode=RGB size=32x32 at 0x7EFE226C6740>"
            ],
            "image/png": "[encoded data removed]"
          },
          "metadata": {}
        }
      ]
    },
    {
      "cell_type": "code",
      "source": [
        "display_images_grid(sample_original, (4, 4))"
      ],
      "metadata": {
        "colab": {
          "base_uri": "https://localhost:8080/",
          "height": 145
        },
        "id": "dpOX22QRC7NM",
        "outputId": "bc26aaa5-5911-479c-fcdc-9a52c9c43ccc"
      },
      "execution_count": 107,
      "outputs": [
        {
          "output_type": "display_data",
          "data": {
            "text/plain": [
              "<PIL.Image.Image image mode=RGB size=128x128 at 0x7EFE22549FC0>"
            ],
            "image/png": "[encoded data removed]"
          },
          "metadata": {}
        }
      ]
    },
    {
      "cell_type": "code",
      "source": [
        "# for idx in range(0, sample_original.shape[0]):\n",
        "#     display_sample(sample_original, idx=idx, custom_figsize=(5,5))"
      ],
      "metadata": {
        "id": "ifwdZq_X77zH"
      },
      "execution_count": 108,
      "outputs": []
    },
    {
      "cell_type": "code",
      "source": [],
      "metadata": {
        "id": "GW0JwoUD8CxT"
      },
      "execution_count": 108,
      "outputs": []
    }
  ]
}